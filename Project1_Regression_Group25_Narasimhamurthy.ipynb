{
 "cells": [
  {
   "cell_type": "markdown",
   "id": "pediatric-malawi",
   "metadata": {},
   "source": [
    "# Melobourne city hous pricing. \n",
    "\n",
    "This project mainly focuses on understating the house price in Melbourne. There are various factors influencing the price in\n",
    "city like crime rates, accessibility to school and colleges etc. But we are limiting our focus only on its location and house\n",
    "constituents like number of bedroom, bathroom, parking spots etc. We are not considering socio-economic factors. \n",
    "\n",
    "\n",
    "\n",
    "Data Source - Kaggle"
   ]
  },
  {
   "cell_type": "code",
   "execution_count": 1,
   "id": "careful-purpose",
   "metadata": {},
   "outputs": [],
   "source": [
    "import pandas as pd\n",
    "import numpy as np\n",
    "mel_data=pd.read_csv(\"melb_data.csv\")"
   ]
  },
  {
   "cell_type": "code",
   "execution_count": 2,
   "id": "educated-helmet",
   "metadata": {},
   "outputs": [
    {
     "name": "stdout",
     "output_type": "stream",
     "text": [
      "<class 'pandas.core.frame.DataFrame'>\n",
      "RangeIndex: 9548 entries, 0 to 9547\n",
      "Data columns (total 21 columns):\n",
      " #   Column         Non-Null Count  Dtype  \n",
      "---  ------         --------------  -----  \n",
      " 0   Suburb         9548 non-null   object \n",
      " 1   Address        9548 non-null   object \n",
      " 2   Rooms          9548 non-null   int64  \n",
      " 3   Type           9548 non-null   object \n",
      " 4   Price          9548 non-null   int64  \n",
      " 5   Method         9548 non-null   object \n",
      " 6   SellerG        9548 non-null   object \n",
      " 7   Date           9548 non-null   object \n",
      " 8   Distance       9548 non-null   float64\n",
      " 9   Postcode       9548 non-null   int64  \n",
      " 10  Bedroom2       9548 non-null   int64  \n",
      " 11  Bathroom       9548 non-null   int64  \n",
      " 12  Car            9486 non-null   float64\n",
      " 13  Landsize       9548 non-null   int64  \n",
      " 14  BuildingArea   7130 non-null   float64\n",
      " 15  YearBuilt      8205 non-null   float64\n",
      " 16  CouncilArea    8181 non-null   object \n",
      " 17  Lattitude      9548 non-null   float64\n",
      " 18  Longtitude     9548 non-null   float64\n",
      " 19  Regionname     9548 non-null   object \n",
      " 20  Propertycount  9548 non-null   int64  \n",
      "dtypes: float64(6), int64(7), object(8)\n",
      "memory usage: 1.5+ MB\n"
     ]
    }
   ],
   "source": [
    "mel_data.info()"
   ]
  },
  {
   "cell_type": "markdown",
   "id": "confident-writer",
   "metadata": {},
   "source": [
    "## Variable description\n",
    "Suburb: Suburb\n",
    "\n",
    "Address: Address\n",
    "\n",
    "Rooms: Number of rooms\n",
    "\n",
    "Price: Price in Australian dollars\n",
    "\n",
    "Method:\n",
    "S - property sold;\n",
    "SP - property sold prior;\n",
    "PI - property passed in;\n",
    "PN - sold prior not disclosed;\n",
    "SN - sold not disclosed;\n",
    "NB - no bid;\n",
    "VB - vendor bid;\n",
    "W - withdrawn prior to auction;\n",
    "SA - sold after auction;\n",
    "SS - sold after auction price not disclosed.\n",
    "N/A - price or highest bid not available.\n",
    "\n",
    "Type:\n",
    "br - bedroom(s);\n",
    "h - house,cottage,villa, semi,terrace;\n",
    "u - unit, duplex;\n",
    "t - townhouse;\n",
    "dev site - development site;\n",
    "o res - other residential.\n",
    "\n",
    "SellerG: Real Estate Agent\n",
    "\n",
    "Date: Date sold\n",
    "\n",
    "Distance: Distance from CBD in Kilometres\n",
    "\n",
    "Regionname: General Region (West, North West, North, North east …etc)\n",
    "\n",
    "Propertycount: Number of properties that exist in the suburb.\n",
    "\n",
    "Bedroom2 : Scraped # of Bedrooms (from different source)\n",
    "\n",
    "Bathroom: Number of Bathrooms\n",
    "\n",
    "Car: Number of carspots\n",
    "\n",
    "Landsize: Land Size in Metres\n",
    "\n",
    "BuildingArea: Building Size in Metres\n",
    "\n",
    "YearBuilt: Year the house was built\n",
    "\n",
    "CouncilArea: Governing council for the area\n",
    "\n",
    "Lattitude: Self explanitory\n",
    "\n",
    "Longtitude: Self explanitory"
   ]
  },
  {
   "cell_type": "markdown",
   "id": "occasional-filter",
   "metadata": {},
   "source": [
    "## We are going to drop few features from the dataset as it do not add any value to our analysis.\n",
    "\n",
    "Like suburb, Address, Seller Name, Council area, Property count."
   ]
  },
  {
   "cell_type": "code",
   "execution_count": 3,
   "id": "developmental-qatar",
   "metadata": {},
   "outputs": [],
   "source": [
    "mel_data.drop('Suburb',axis=1,inplace=True)\n",
    "mel_data.drop('Address',axis=1,inplace=True)\n",
    "mel_data.drop('SellerG',axis=1,inplace=True)\n",
    "mel_data.drop('CouncilArea',axis=1,inplace=True)\n",
    "mel_data.drop('Propertycount',axis=1,inplace=True)"
   ]
  },
  {
   "cell_type": "markdown",
   "id": "japanese-cherry",
   "metadata": {},
   "source": [
    "# Data Exploration and pre processing"
   ]
  },
  {
   "cell_type": "code",
   "execution_count": 4,
   "id": "completed-stable",
   "metadata": {},
   "outputs": [
    {
     "name": "stdout",
     "output_type": "stream",
     "text": [
      "<class 'pandas.core.frame.DataFrame'>\n",
      "RangeIndex: 9548 entries, 0 to 9547\n",
      "Data columns (total 16 columns):\n",
      " #   Column        Non-Null Count  Dtype  \n",
      "---  ------        --------------  -----  \n",
      " 0   Rooms         9548 non-null   int64  \n",
      " 1   Type          9548 non-null   object \n",
      " 2   Price         9548 non-null   int64  \n",
      " 3   Method        9548 non-null   object \n",
      " 4   Date          9548 non-null   object \n",
      " 5   Distance      9548 non-null   float64\n",
      " 6   Postcode      9548 non-null   int64  \n",
      " 7   Bedroom2      9548 non-null   int64  \n",
      " 8   Bathroom      9548 non-null   int64  \n",
      " 9   Car           9486 non-null   float64\n",
      " 10  Landsize      9548 non-null   int64  \n",
      " 11  BuildingArea  7130 non-null   float64\n",
      " 12  YearBuilt     8205 non-null   float64\n",
      " 13  Lattitude     9548 non-null   float64\n",
      " 14  Longtitude    9548 non-null   float64\n",
      " 15  Regionname    9548 non-null   object \n",
      "dtypes: float64(6), int64(6), object(4)\n",
      "memory usage: 1.2+ MB\n"
     ]
    }
   ],
   "source": [
    "mel_data.info()"
   ]
  },
  {
   "cell_type": "code",
   "execution_count": 5,
   "id": "generous-general",
   "metadata": {},
   "outputs": [],
   "source": [
    "mel_data['Date'] = pd.DatetimeIndex(mel_data['Date']).year"
   ]
  },
  {
   "cell_type": "code",
   "execution_count": 6,
   "id": "completed-instruction",
   "metadata": {},
   "outputs": [
    {
     "data": {
      "text/plain": [
       "Text(0.5, 1.0, 'House price')"
      ]
     },
     "execution_count": 6,
     "metadata": {},
     "output_type": "execute_result"
    },
    {
     "data": {
      "image/png": "[encoded data removed]",
      "text/plain": [
       "<Figure size 432x288 with 1 Axes>"
      ]
     },
     "metadata": {
      "needs_background": "light"
     },
     "output_type": "display_data"
    }
   ],
   "source": [
    "import pandas as pd\n",
    "import matplotlib.pyplot as plt\n",
    "mel_data['Price'].hist()\n",
    "plt.title('House price')"
   ]
  },
  {
   "cell_type": "code",
   "execution_count": 8,
   "id": "domestic-cleaning",
   "metadata": {},
   "outputs": [
    {
     "data": {
      "text/plain": [
       "S     6176\n",
       "SP    1270\n",
       "PI    1148\n",
       "VB     886\n",
       "SA      68\n",
       "Name: Method, dtype: int64"
      ]
     },
     "execution_count": 8,
     "metadata": {},
     "output_type": "execute_result"
    }
   ],
   "source": [
    "mel_data['Method'].value_counts() \n"
   ]
  },
  {
   "cell_type": "code",
   "execution_count": 9,
   "id": "ongoing-works",
   "metadata": {},
   "outputs": [
    {
     "data": {
      "text/plain": [
       "<AxesSubplot:title={'center':'Number of bedrooms'}>"
      ]
     },
     "execution_count": 9,
     "metadata": {},
     "output_type": "execute_result"
    },
    {
     "data": {
      "image/png": "[encoded data removed]",
      "text/plain": [
       "<Figure size 432x288 with 1 Axes>"
      ]
     },
     "metadata": {
      "needs_background": "light"
     },
     "output_type": "display_data"
    }
   ],
   "source": [
    "mel_data['Bedroom2'].value_counts().plot(kind='bar', \n",
    "                                         title='Number of bedrooms')"
   ]
  },
  {
   "cell_type": "code",
   "execution_count": 10,
   "id": "filled-leonard",
   "metadata": {},
   "outputs": [
    {
     "data": {
      "text/plain": [
       "<AxesSubplot:title={'center':'Number of Bathrooms'}>"
      ]
     },
     "execution_count": 10,
     "metadata": {},
     "output_type": "execute_result"
    },
    {
     "data": {
      "image/png": "[encoded data removed]",
      "text/plain": [
       "<Figure size 432x288 with 1 Axes>"
      ]
     },
     "metadata": {
      "needs_background": "light"
     },
     "output_type": "display_data"
    }
   ],
   "source": [
    "mel_data['Bathroom'].value_counts().plot(kind='bar', \n",
    "                                         title='Number of Bathrooms')"
   ]
  },
  {
   "cell_type": "code",
   "execution_count": 11,
   "id": "transparent-intellectual",
   "metadata": {},
   "outputs": [
    {
     "data": {
      "text/html": [
       "<div>\n",
       "<style scoped>\n",
       "    .dataframe tbody tr th:only-of-type {\n",
       "        vertical-align: middle;\n",
       "    }\n",
       "\n",
       "    .dataframe tbody tr th {\n",
       "        vertical-align: top;\n",
       "    }\n",
       "\n",
       "    .dataframe thead th {\n",
       "        text-align: right;\n",
       "    }\n",
       "</style>\n",
       "<table border=\"1\" class=\"dataframe\">\n",
       "  <thead>\n",
       "    <tr style=\"text-align: right;\">\n",
       "      <th>Bathroom</th>\n",
       "      <th>0</th>\n",
       "      <th>1</th>\n",
       "      <th>2</th>\n",
       "      <th>3</th>\n",
       "      <th>4</th>\n",
       "      <th>5</th>\n",
       "      <th>6</th>\n",
       "      <th>7</th>\n",
       "      <th>8</th>\n",
       "    </tr>\n",
       "    <tr>\n",
       "      <th>Bedroom2</th>\n",
       "      <th></th>\n",
       "      <th></th>\n",
       "      <th></th>\n",
       "      <th></th>\n",
       "      <th></th>\n",
       "      <th></th>\n",
       "      <th></th>\n",
       "      <th></th>\n",
       "      <th></th>\n",
       "    </tr>\n",
       "  </thead>\n",
       "  <tbody>\n",
       "    <tr>\n",
       "      <th>0</th>\n",
       "      <td>1</td>\n",
       "      <td>2</td>\n",
       "      <td>3</td>\n",
       "      <td>0</td>\n",
       "      <td>0</td>\n",
       "      <td>0</td>\n",
       "      <td>0</td>\n",
       "      <td>0</td>\n",
       "      <td>0</td>\n",
       "    </tr>\n",
       "    <tr>\n",
       "      <th>1</th>\n",
       "      <td>0</td>\n",
       "      <td>481</td>\n",
       "      <td>7</td>\n",
       "      <td>1</td>\n",
       "      <td>0</td>\n",
       "      <td>0</td>\n",
       "      <td>0</td>\n",
       "      <td>0</td>\n",
       "      <td>0</td>\n",
       "    </tr>\n",
       "    <tr>\n",
       "      <th>2</th>\n",
       "      <td>0</td>\n",
       "      <td>2168</td>\n",
       "      <td>393</td>\n",
       "      <td>7</td>\n",
       "      <td>0</td>\n",
       "      <td>0</td>\n",
       "      <td>0</td>\n",
       "      <td>0</td>\n",
       "      <td>0</td>\n",
       "    </tr>\n",
       "    <tr>\n",
       "      <th>3</th>\n",
       "      <td>2</td>\n",
       "      <td>2063</td>\n",
       "      <td>1835</td>\n",
       "      <td>131</td>\n",
       "      <td>5</td>\n",
       "      <td>0</td>\n",
       "      <td>0</td>\n",
       "      <td>0</td>\n",
       "      <td>0</td>\n",
       "    </tr>\n",
       "    <tr>\n",
       "      <th>4</th>\n",
       "      <td>0</td>\n",
       "      <td>274</td>\n",
       "      <td>1283</td>\n",
       "      <td>363</td>\n",
       "      <td>38</td>\n",
       "      <td>3</td>\n",
       "      <td>0</td>\n",
       "      <td>0</td>\n",
       "      <td>0</td>\n",
       "    </tr>\n",
       "    <tr>\n",
       "      <th>5</th>\n",
       "      <td>0</td>\n",
       "      <td>10</td>\n",
       "      <td>176</td>\n",
       "      <td>183</td>\n",
       "      <td>37</td>\n",
       "      <td>20</td>\n",
       "      <td>3</td>\n",
       "      <td>0</td>\n",
       "      <td>0</td>\n",
       "    </tr>\n",
       "    <tr>\n",
       "      <th>6</th>\n",
       "      <td>0</td>\n",
       "      <td>2</td>\n",
       "      <td>14</td>\n",
       "      <td>23</td>\n",
       "      <td>6</td>\n",
       "      <td>0</td>\n",
       "      <td>1</td>\n",
       "      <td>0</td>\n",
       "      <td>0</td>\n",
       "    </tr>\n",
       "    <tr>\n",
       "      <th>7</th>\n",
       "      <td>0</td>\n",
       "      <td>0</td>\n",
       "      <td>1</td>\n",
       "      <td>4</td>\n",
       "      <td>2</td>\n",
       "      <td>0</td>\n",
       "      <td>0</td>\n",
       "      <td>0</td>\n",
       "      <td>0</td>\n",
       "    </tr>\n",
       "    <tr>\n",
       "      <th>8</th>\n",
       "      <td>0</td>\n",
       "      <td>0</td>\n",
       "      <td>0</td>\n",
       "      <td>1</td>\n",
       "      <td>1</td>\n",
       "      <td>0</td>\n",
       "      <td>0</td>\n",
       "      <td>0</td>\n",
       "      <td>0</td>\n",
       "    </tr>\n",
       "    <tr>\n",
       "      <th>9</th>\n",
       "      <td>0</td>\n",
       "      <td>0</td>\n",
       "      <td>0</td>\n",
       "      <td>0</td>\n",
       "      <td>0</td>\n",
       "      <td>0</td>\n",
       "      <td>1</td>\n",
       "      <td>1</td>\n",
       "      <td>1</td>\n",
       "    </tr>\n",
       "    <tr>\n",
       "      <th>10</th>\n",
       "      <td>0</td>\n",
       "      <td>0</td>\n",
       "      <td>0</td>\n",
       "      <td>1</td>\n",
       "      <td>0</td>\n",
       "      <td>0</td>\n",
       "      <td>0</td>\n",
       "      <td>0</td>\n",
       "      <td>0</td>\n",
       "    </tr>\n",
       "  </tbody>\n",
       "</table>\n",
       "</div>"
      ],
      "text/plain": [
       "Bathroom  0     1     2    3   4   5  6  7  8\n",
       "Bedroom2                                     \n",
       "0         1     2     3    0   0   0  0  0  0\n",
       "1         0   481     7    1   0   0  0  0  0\n",
       "2         0  2168   393    7   0   0  0  0  0\n",
       "3         2  2063  1835  131   5   0  0  0  0\n",
       "4         0   274  1283  363  38   3  0  0  0\n",
       "5         0    10   176  183  37  20  3  0  0\n",
       "6         0     2    14   23   6   0  1  0  0\n",
       "7         0     0     1    4   2   0  0  0  0\n",
       "8         0     0     0    1   1   0  0  0  0\n",
       "9         0     0     0    0   0   0  1  1  1\n",
       "10        0     0     0    1   0   0  0  0  0"
      ]
     },
     "execution_count": 11,
     "metadata": {},
     "output_type": "execute_result"
    }
   ],
   "source": [
    "pclass_xt = pd.crosstab(mel_data['Bedroom2'], mel_data['Bathroom'])\n",
    "pclass_xt"
   ]
  },
  {
   "cell_type": "code",
   "execution_count": 12,
   "id": "asian-christianity",
   "metadata": {},
   "outputs": [
    {
     "data": {
      "text/plain": [
       "Text(0, 0.5, 'Bathroom')"
      ]
     },
     "execution_count": 12,
     "metadata": {},
     "output_type": "execute_result"
    },
    {
     "data": {
      "image/png": "[encoded data removed]",
      "text/plain": [
       "<Figure size 432x288 with 1 Axes>"
      ]
     },
     "metadata": {
      "needs_background": "light"
     },
     "output_type": "display_data"
    }
   ],
   "source": [
    "pclass_xt_pct = pclass_xt.div(pclass_xt.sum(1).astype(float), axis=0)\n",
    "\n",
    "pclass_xt_pct.plot(kind='bar', \n",
    "                   stacked=True, \n",
    "                   title='Survival Rate by Passenger Classes')\n",
    "plt.xlabel('Bedroom')\n",
    "plt.ylabel('Bathroom')"
   ]
  },
  {
   "cell_type": "code",
   "execution_count": 13,
   "id": "adolescent-budget",
   "metadata": {},
   "outputs": [
    {
     "data": {
      "text/plain": [
       "<AxesSubplot:title={'center':'Years'}>"
      ]
     },
     "execution_count": 13,
     "metadata": {},
     "output_type": "execute_result"
    },
    {
     "data": {
      "image/png": "[encoded data removed]",
      "text/plain": [
       "<Figure size 432x288 with 1 Axes>"
      ]
     },
     "metadata": {
      "needs_background": "light"
     },
     "output_type": "display_data"
    }
   ],
   "source": [
    "mel_data['Date'].value_counts().plot(kind='bar', \n",
    "                                         title='Years')"
   ]
  },
  {
   "cell_type": "code",
   "execution_count": 14,
   "id": "narrow-button",
   "metadata": {},
   "outputs": [
    {
     "data": {
      "text/plain": [
       "<AxesSubplot:title={'center':'Distance'}>"
      ]
     },
     "execution_count": 14,
     "metadata": {},
     "output_type": "execute_result"
    },
    {
     "data": {
      "image/png": "[encoded data removed]",
      "text/plain": [
       "<Figure size 432x288 with 1 Axes>"
      ]
     },
     "metadata": {
      "needs_background": "light"
     },
     "output_type": "display_data"
    }
   ],
   "source": [
    "mel_data['Distance'].value_counts().plot(kind='bar', \n",
    "                                         title='Distance')"
   ]
  },
  {
   "cell_type": "code",
   "execution_count": 15,
   "id": "exciting-layout",
   "metadata": {},
   "outputs": [],
   "source": [
    "mel_data['ratio']=mel_data['BuildingArea']/mel_data['Landsize']"
   ]
  },
  {
   "cell_type": "code",
   "execution_count": 16,
   "id": "joined-nurse",
   "metadata": {},
   "outputs": [
    {
     "data": {
      "image/png": "[encoded data removed]",
      "text/plain": [
       "<Figure size 432x288 with 1 Axes>"
      ]
     },
     "metadata": {
      "needs_background": "light"
     },
     "output_type": "display_data"
    }
   ],
   "source": [
    "ax1 = mel_data.plot.scatter(x='Landsize',\n",
    "                      y='Price',\n",
    "                      c='DarkBlue')"
   ]
  },
  {
   "cell_type": "code",
   "execution_count": 17,
   "id": "european-verification",
   "metadata": {},
   "outputs": [
    {
     "data": {
      "image/png": "[encoded data removed]",
      "text/plain": [
       "<Figure size 432x288 with 1 Axes>"
      ]
     },
     "metadata": {
      "needs_background": "light"
     },
     "output_type": "display_data"
    }
   ],
   "source": [
    "ax1 = mel_data.plot.scatter(x='BuildingArea',\n",
    "                      y='Price',\n",
    "                      c='DarkBlue')"
   ]
  },
  {
   "cell_type": "markdown",
   "id": "promotional-concert",
   "metadata": {},
   "source": [
    "Missing values replacement"
   ]
  },
  {
   "cell_type": "code",
   "execution_count": 18,
   "id": "baking-print",
   "metadata": {},
   "outputs": [
    {
     "data": {
      "text/plain": [
       "Text(0.5, 1.0, 'Built Area')"
      ]
     },
     "execution_count": 18,
     "metadata": {},
     "output_type": "execute_result"
    },
    {
     "data": {
      "image/png": "[encoded data removed]",
      "text/plain": [
       "<Figure size 432x288 with 1 Axes>"
      ]
     },
     "metadata": {
      "needs_background": "light"
     },
     "output_type": "display_data"
    }
   ],
   "source": [
    "mel_data['BuildingArea'].hist()\n",
    "plt.title('Built Area')"
   ]
  },
  {
   "cell_type": "code",
   "execution_count": 19,
   "id": "raised-anger",
   "metadata": {},
   "outputs": [
    {
     "data": {
      "text/plain": [
       "151.96764988779805"
      ]
     },
     "execution_count": 19,
     "metadata": {},
     "output_type": "execute_result"
    }
   ],
   "source": [
    "mel_data['BuildingArea'].mean()"
   ]
  },
  {
   "cell_type": "code",
   "execution_count": 20,
   "id": "reflected-bhutan",
   "metadata": {},
   "outputs": [],
   "source": [
    "mel_data['BuildingArea'].replace(np.NaN,mel_data['BuildingArea'].mean(),inplace=True)"
   ]
  },
  {
   "cell_type": "code",
   "execution_count": 21,
   "id": "radical-mountain",
   "metadata": {},
   "outputs": [
    {
     "data": {
      "text/plain": [
       "2.0     3986\n",
       "1.0     3915\n",
       "0.0      620\n",
       "3.0      514\n",
       "4.0      345\n",
       "5.0       48\n",
       "6.0       40\n",
       "8.0        8\n",
       "7.0        6\n",
       "10.0       3\n",
       "9.0        1\n",
       "Name: Car, dtype: int64"
      ]
     },
     "execution_count": 21,
     "metadata": {},
     "output_type": "execute_result"
    }
   ],
   "source": [
    "mel_data['Car'].value_counts()"
   ]
  },
  {
   "cell_type": "code",
   "execution_count": 22,
   "id": "dated-strain",
   "metadata": {},
   "outputs": [],
   "source": [
    "mel_data['Car'].replace(np.NaN,1.0,inplace=True)"
   ]
  },
  {
   "cell_type": "code",
   "execution_count": 23,
   "id": "conceptual-isaac",
   "metadata": {},
   "outputs": [
    {
     "data": {
      "text/plain": [
       "1970.0    866\n",
       "1960.0    725\n",
       "1950.0    580\n",
       "1900.0    341\n",
       "1980.0    338\n",
       "         ... \n",
       "1897.0      1\n",
       "1892.0      1\n",
       "1862.0      1\n",
       "1942.0      1\n",
       "1830.0      1\n",
       "Name: YearBuilt, Length: 144, dtype: int64"
      ]
     },
     "execution_count": 23,
     "metadata": {},
     "output_type": "execute_result"
    }
   ],
   "source": [
    "mel_data['YearBuilt'].value_counts()"
   ]
  },
  {
   "cell_type": "code",
   "execution_count": 24,
   "id": "emotional-vintage",
   "metadata": {},
   "outputs": [],
   "source": [
    "mel_data['YearBuilt'].replace(np.NaN,1970,inplace=True)"
   ]
  },
  {
   "cell_type": "code",
   "execution_count": 25,
   "id": "illegal-bloom",
   "metadata": {},
   "outputs": [],
   "source": [
    "mel_data['ratio']=mel_data['BuildingArea']/mel_data['Landsize']"
   ]
  },
  {
   "cell_type": "code",
   "execution_count": 26,
   "id": "portuguese-tribute",
   "metadata": {},
   "outputs": [
    {
     "data": {
      "image/png": "[encoded data removed]",
      "text/plain": [
       "<Figure size 432x288 with 1 Axes>"
      ]
     },
     "metadata": {
      "needs_background": "light"
     },
     "output_type": "display_data"
    }
   ],
   "source": [
    "ax1 = mel_data.plot.scatter(x='ratio',\n",
    "                      y='Price',\n",
    "                      c='DarkBlue')"
   ]
  },
  {
   "cell_type": "code",
   "execution_count": 27,
   "id": "proud-guatemala",
   "metadata": {},
   "outputs": [
    {
     "data": {
      "text/plain": [
       "<matplotlib.legend.Legend at 0x21d8cabd550>"
      ]
     },
     "execution_count": 27,
     "metadata": {},
     "output_type": "execute_result"
    },
    {
     "data": {
      "image/png": "[encoded data removed]",
      "text/plain": [
       "<Figure size 432x288 with 1 Axes>"
      ]
     },
     "metadata": {
      "needs_background": "light"
     },
     "output_type": "display_data"
    }
   ],
   "source": [
    "\n",
    "region=sorted(mel_data['Regionname'].unique())\n",
    "for reg in region:\n",
    "    mel_data.Price[mel_data.Regionname==reg].plot(kind='kde')\n",
    "\n",
    "    \n",
    "plt.title('Price variation')\n",
    "plt.xlabel('Price')\n",
    "plt.legend(('Eastern Metropolitan', 'Eastern Victoria', 'Northern Metropolitan','Northern Victoria'\n",
    ",'South-Eastern Metropolitan','Southern Metropolitan','Western Metropolitan','Western Victoria'), loc='best')"
   ]
  },
  {
   "cell_type": "markdown",
   "id": "working-voltage",
   "metadata": {},
   "source": [
    "#### Price in Sourthern Metropolitan area is too high indicating posh locality."
   ]
  },
  {
   "cell_type": "code",
   "execution_count": 28,
   "id": "portable-beach",
   "metadata": {},
   "outputs": [
    {
     "data": {
      "text/plain": [
       "['Eastern Metropolitan',\n",
       " 'Eastern Victoria',\n",
       " 'Northern Metropolitan',\n",
       " 'Northern Victoria',\n",
       " 'South-Eastern Metropolitan',\n",
       " 'Southern Metropolitan',\n",
       " 'Western Metropolitan',\n",
       " 'Western Victoria']"
      ]
     },
     "execution_count": 28,
     "metadata": {},
     "output_type": "execute_result"
    }
   ],
   "source": [
    "sorted(mel_data['Regionname'].unique())"
   ]
  },
  {
   "cell_type": "code",
   "execution_count": 29,
   "id": "massive-merchandise",
   "metadata": {},
   "outputs": [],
   "source": [
    "mel_data.drop('ratio',axis=1,inplace=True)"
   ]
  },
  {
   "cell_type": "code",
   "execution_count": 30,
   "id": "focused-harmony",
   "metadata": {},
   "outputs": [
    {
     "name": "stdout",
     "output_type": "stream",
     "text": [
      "<class 'pandas.core.frame.DataFrame'>\n",
      "RangeIndex: 9548 entries, 0 to 9547\n",
      "Data columns (total 16 columns):\n",
      " #   Column        Non-Null Count  Dtype  \n",
      "---  ------        --------------  -----  \n",
      " 0   Rooms         9548 non-null   int64  \n",
      " 1   Type          9548 non-null   object \n",
      " 2   Price         9548 non-null   int64  \n",
      " 3   Method        9548 non-null   object \n",
      " 4   Date          9548 non-null   int64  \n",
      " 5   Distance      9548 non-null   float64\n",
      " 6   Postcode      9548 non-null   int64  \n",
      " 7   Bedroom2      9548 non-null   int64  \n",
      " 8   Bathroom      9548 non-null   int64  \n",
      " 9   Car           9548 non-null   float64\n",
      " 10  Landsize      9548 non-null   int64  \n",
      " 11  BuildingArea  9548 non-null   float64\n",
      " 12  YearBuilt     9548 non-null   float64\n",
      " 13  Lattitude     9548 non-null   float64\n",
      " 14  Longtitude    9548 non-null   float64\n",
      " 15  Regionname    9548 non-null   object \n",
      "dtypes: float64(6), int64(7), object(3)\n",
      "memory usage: 1.2+ MB\n"
     ]
    }
   ],
   "source": [
    "mel_data.info()"
   ]
  },
  {
   "cell_type": "markdown",
   "id": "architectural-makeup",
   "metadata": {},
   "source": [
    "#### We will create dummy variables TYPE, Method and Region name"
   ]
  },
  {
   "cell_type": "code",
   "execution_count": 31,
   "id": "beautiful-export",
   "metadata": {},
   "outputs": [],
   "source": [
    "cols=pd.get_dummies(mel_data['Type'], prefix=\"Type\")\n",
    "mel_data[cols.columns]=cols\n",
    "mel_data.drop(\"Type\", axis=1, inplace=True)"
   ]
  },
  {
   "cell_type": "code",
   "execution_count": 32,
   "id": "cooked-energy",
   "metadata": {},
   "outputs": [],
   "source": [
    "cols=pd.get_dummies(mel_data['Method'], prefix=\"Method\")\n",
    "mel_data[cols.columns]=cols\n",
    "mel_data.drop(\"Method\", axis=1, inplace=True)"
   ]
  },
  {
   "cell_type": "code",
   "execution_count": 33,
   "id": "pregnant-majority",
   "metadata": {},
   "outputs": [],
   "source": [
    "cols=pd.get_dummies(mel_data['Regionname'], prefix=\"Regionname\")\n",
    "mel_data[cols.columns]=cols\n",
    "mel_data.drop(\"Regionname\", axis=1, inplace=True)"
   ]
  },
  {
   "cell_type": "code",
   "execution_count": 34,
   "id": "environmental-internship",
   "metadata": {},
   "outputs": [
    {
     "name": "stdout",
     "output_type": "stream",
     "text": [
      "<class 'pandas.core.frame.DataFrame'>\n",
      "RangeIndex: 9548 entries, 0 to 9547\n",
      "Data columns (total 29 columns):\n",
      " #   Column                                 Non-Null Count  Dtype  \n",
      "---  ------                                 --------------  -----  \n",
      " 0   Rooms                                  9548 non-null   int64  \n",
      " 1   Price                                  9548 non-null   int64  \n",
      " 2   Date                                   9548 non-null   int64  \n",
      " 3   Distance                               9548 non-null   float64\n",
      " 4   Postcode                               9548 non-null   int64  \n",
      " 5   Bedroom2                               9548 non-null   int64  \n",
      " 6   Bathroom                               9548 non-null   int64  \n",
      " 7   Car                                    9548 non-null   float64\n",
      " 8   Landsize                               9548 non-null   int64  \n",
      " 9   BuildingArea                           9548 non-null   float64\n",
      " 10  YearBuilt                              9548 non-null   float64\n",
      " 11  Lattitude                              9548 non-null   float64\n",
      " 12  Longtitude                             9548 non-null   float64\n",
      " 13  Type_h                                 9548 non-null   uint8  \n",
      " 14  Type_t                                 9548 non-null   uint8  \n",
      " 15  Type_u                                 9548 non-null   uint8  \n",
      " 16  Method_PI                              9548 non-null   uint8  \n",
      " 17  Method_S                               9548 non-null   uint8  \n",
      " 18  Method_SA                              9548 non-null   uint8  \n",
      " 19  Method_SP                              9548 non-null   uint8  \n",
      " 20  Method_VB                              9548 non-null   uint8  \n",
      " 21  Regionname_Eastern Metropolitan        9548 non-null   uint8  \n",
      " 22  Regionname_Eastern Victoria            9548 non-null   uint8  \n",
      " 23  Regionname_Northern Metropolitan       9548 non-null   uint8  \n",
      " 24  Regionname_Northern Victoria           9548 non-null   uint8  \n",
      " 25  Regionname_South-Eastern Metropolitan  9548 non-null   uint8  \n",
      " 26  Regionname_Southern Metropolitan       9548 non-null   uint8  \n",
      " 27  Regionname_Western Metropolitan        9548 non-null   uint8  \n",
      " 28  Regionname_Western Victoria            9548 non-null   uint8  \n",
      "dtypes: float64(6), int64(7), uint8(16)\n",
      "memory usage: 1.1 MB\n"
     ]
    }
   ],
   "source": [
    "mel_data.info()"
   ]
  },
  {
   "cell_type": "markdown",
   "id": "august-surge",
   "metadata": {},
   "source": [
    "#### Missing value were replaced by suitable metric value. Soon after preprosessing and data exploration we will proceed with the regression algorithm one by one. Price  is the dependent variable with continous value. Keeping that in focus we will start with Scaling data. Before that we need to decide a proper scaling method. Here we will choose min max sclar."
   ]
  },
  {
   "cell_type": "code",
   "execution_count": 35,
   "id": "cheap-enclosure",
   "metadata": {},
   "outputs": [],
   "source": [
    "import pandas as pd\n",
    "import numpy as np\n",
    "import matplotlib.pyplot as plt\n",
    "%matplotlib inline\n",
    "from pandas.plotting import scatter_matrix\n",
    "\n",
    "y=mel_data['Price']\n",
    "mel_data.drop('Price',axis=1,inplace=True)\n",
    "X=mel_data"
   ]
  },
  {
   "cell_type": "code",
   "execution_count": 36,
   "id": "necessary-destination",
   "metadata": {},
   "outputs": [],
   "source": [
    "from sklearn.preprocessing import MinMaxScaler\n",
    "from sklearn.model_selection import train_test_split\n",
    "X_train_org, X_out, y_train, y_out = train_test_split(X, y, random_state = 0, test_size = 0.2)"
   ]
  },
  {
   "cell_type": "markdown",
   "id": "following-convergence",
   "metadata": {},
   "source": [
    "### We are keeping 20% of data as out of sample data and use the rest to buil our model"
   ]
  },
  {
   "cell_type": "code",
   "execution_count": 37,
   "id": "french-composer",
   "metadata": {},
   "outputs": [],
   "source": [
    "X_train, X_test, y_train, y_test = train_test_split(X_train_org,  y_train, random_state = 0, test_size = 0.2)"
   ]
  },
  {
   "cell_type": "code",
   "execution_count": 38,
   "id": "greenhouse-macedonia",
   "metadata": {},
   "outputs": [
    {
     "name": "stdout",
     "output_type": "stream",
     "text": [
      "<class 'pandas.core.frame.DataFrame'>\n",
      "Int64Index: 6110 entries, 1591 to 5476\n",
      "Data columns (total 28 columns):\n",
      " #   Column                                 Non-Null Count  Dtype  \n",
      "---  ------                                 --------------  -----  \n",
      " 0   Rooms                                  6110 non-null   int64  \n",
      " 1   Date                                   6110 non-null   int64  \n",
      " 2   Distance                               6110 non-null   float64\n",
      " 3   Postcode                               6110 non-null   int64  \n",
      " 4   Bedroom2                               6110 non-null   int64  \n",
      " 5   Bathroom                               6110 non-null   int64  \n",
      " 6   Car                                    6110 non-null   float64\n",
      " 7   Landsize                               6110 non-null   int64  \n",
      " 8   BuildingArea                           6110 non-null   float64\n",
      " 9   YearBuilt                              6110 non-null   float64\n",
      " 10  Lattitude                              6110 non-null   float64\n",
      " 11  Longtitude                             6110 non-null   float64\n",
      " 12  Type_h                                 6110 non-null   uint8  \n",
      " 13  Type_t                                 6110 non-null   uint8  \n",
      " 14  Type_u                                 6110 non-null   uint8  \n",
      " 15  Method_PI                              6110 non-null   uint8  \n",
      " 16  Method_S                               6110 non-null   uint8  \n",
      " 17  Method_SA                              6110 non-null   uint8  \n",
      " 18  Method_SP                              6110 non-null   uint8  \n",
      " 19  Method_VB                              6110 non-null   uint8  \n",
      " 20  Regionname_Eastern Metropolitan        6110 non-null   uint8  \n",
      " 21  Regionname_Eastern Victoria            6110 non-null   uint8  \n",
      " 22  Regionname_Northern Metropolitan       6110 non-null   uint8  \n",
      " 23  Regionname_Northern Victoria           6110 non-null   uint8  \n",
      " 24  Regionname_South-Eastern Metropolitan  6110 non-null   uint8  \n",
      " 25  Regionname_Southern Metropolitan       6110 non-null   uint8  \n",
      " 26  Regionname_Western Metropolitan        6110 non-null   uint8  \n",
      " 27  Regionname_Western Victoria            6110 non-null   uint8  \n",
      "dtypes: float64(6), int64(6), uint8(16)\n",
      "memory usage: 716.0 KB\n"
     ]
    }
   ],
   "source": [
    "X_train.info()"
   ]
  },
  {
   "cell_type": "markdown",
   "id": "indirect-restriction",
   "metadata": {},
   "source": [
    "### We are going to scale only numerical values."
   ]
  },
  {
   "cell_type": "code",
   "execution_count": 39,
   "id": "collected-vegetable",
   "metadata": {},
   "outputs": [
    {
     "name": "stderr",
     "output_type": "stream",
     "text": [
      "<ipython-input-39-ee23ed338e92>:2: SettingWithCopyWarning: \n",
      "A value is trying to be set on a copy of a slice from a DataFrame.\n",
      "Try using .loc[row_indexer,col_indexer] = value instead\n",
      "\n",
      "See the caveats in the documentation: https://pandas.pydata.org/pandas-docs/stable/user_guide/indexing.html#returning-a-view-versus-a-copy\n",
      "  X_train[['Rooms', 'Date', 'Distance', 'Postcode', 'Bedroom2', 'Bathroom', 'Car', 'Landsize',\n",
      "C:\\Users\\vxn190018\\Anaconda3\\lib\\site-packages\\pandas\\core\\indexing.py:1738: SettingWithCopyWarning: \n",
      "A value is trying to be set on a copy of a slice from a DataFrame.\n",
      "Try using .loc[row_indexer,col_indexer] = value instead\n",
      "\n",
      "See the caveats in the documentation: https://pandas.pydata.org/pandas-docs/stable/user_guide/indexing.html#returning-a-view-versus-a-copy\n",
      "  self._setitem_single_column(loc, value[:, i].tolist(), pi)\n",
      "<ipython-input-39-ee23ed338e92>:5: SettingWithCopyWarning: \n",
      "A value is trying to be set on a copy of a slice from a DataFrame.\n",
      "Try using .loc[row_indexer,col_indexer] = value instead\n",
      "\n",
      "See the caveats in the documentation: https://pandas.pydata.org/pandas-docs/stable/user_guide/indexing.html#returning-a-view-versus-a-copy\n",
      "  X_test[['Rooms', 'Date', 'Distance', 'Postcode', 'Bedroom2', 'Bathroom', 'Car', 'Landsize',\n",
      "C:\\Users\\vxn190018\\Anaconda3\\lib\\site-packages\\pandas\\core\\indexing.py:1738: SettingWithCopyWarning: \n",
      "A value is trying to be set on a copy of a slice from a DataFrame.\n",
      "Try using .loc[row_indexer,col_indexer] = value instead\n",
      "\n",
      "See the caveats in the documentation: https://pandas.pydata.org/pandas-docs/stable/user_guide/indexing.html#returning-a-view-versus-a-copy\n",
      "  self._setitem_single_column(loc, value[:, i].tolist(), pi)\n"
     ]
    }
   ],
   "source": [
    "scaler = MinMaxScaler()\n",
    "X_train[['Rooms', 'Date', 'Distance', 'Postcode', 'Bedroom2', 'Bathroom', 'Car', 'Landsize', \n",
    "   'BuildingArea','YearBuilt', 'Lattitude', 'Longtitude']] = scaler.fit_transform(X_train[['Rooms', 'Date', 'Distance', 'Postcode', 'Bedroom2', 'Bathroom', 'Car', 'Landsize', \n",
    "   'BuildingArea','YearBuilt', 'Lattitude', 'Longtitude']])\n",
    "X_test[['Rooms', 'Date', 'Distance', 'Postcode', 'Bedroom2', 'Bathroom', 'Car', 'Landsize', \n",
    "   'BuildingArea','YearBuilt', 'Lattitude', 'Longtitude']] = scaler.transform(X_test[['Rooms', 'Date', 'Distance', 'Postcode', 'Bedroom2', 'Bathroom', 'Car', 'Landsize', \n",
    "   'BuildingArea','YearBuilt', 'Lattitude', 'Longtitude']])\n"
   ]
  },
  {
   "cell_type": "code",
   "execution_count": 40,
   "id": "hollywood-anderson",
   "metadata": {},
   "outputs": [
    {
     "name": "stdout",
     "output_type": "stream",
     "text": [
      "<class 'pandas.core.frame.DataFrame'>\n",
      "Int64Index: 6110 entries, 1591 to 5476\n",
      "Data columns (total 28 columns):\n",
      " #   Column                                 Non-Null Count  Dtype  \n",
      "---  ------                                 --------------  -----  \n",
      " 0   Rooms                                  6110 non-null   float64\n",
      " 1   Date                                   6110 non-null   float64\n",
      " 2   Distance                               6110 non-null   float64\n",
      " 3   Postcode                               6110 non-null   float64\n",
      " 4   Bedroom2                               6110 non-null   float64\n",
      " 5   Bathroom                               6110 non-null   float64\n",
      " 6   Car                                    6110 non-null   float64\n",
      " 7   Landsize                               6110 non-null   float64\n",
      " 8   BuildingArea                           6110 non-null   float64\n",
      " 9   YearBuilt                              6110 non-null   float64\n",
      " 10  Lattitude                              6110 non-null   float64\n",
      " 11  Longtitude                             6110 non-null   float64\n",
      " 12  Type_h                                 6110 non-null   uint8  \n",
      " 13  Type_t                                 6110 non-null   uint8  \n",
      " 14  Type_u                                 6110 non-null   uint8  \n",
      " 15  Method_PI                              6110 non-null   uint8  \n",
      " 16  Method_S                               6110 non-null   uint8  \n",
      " 17  Method_SA                              6110 non-null   uint8  \n",
      " 18  Method_SP                              6110 non-null   uint8  \n",
      " 19  Method_VB                              6110 non-null   uint8  \n",
      " 20  Regionname_Eastern Metropolitan        6110 non-null   uint8  \n",
      " 21  Regionname_Eastern Victoria            6110 non-null   uint8  \n",
      " 22  Regionname_Northern Metropolitan       6110 non-null   uint8  \n",
      " 23  Regionname_Northern Victoria           6110 non-null   uint8  \n",
      " 24  Regionname_South-Eastern Metropolitan  6110 non-null   uint8  \n",
      " 25  Regionname_Southern Metropolitan       6110 non-null   uint8  \n",
      " 26  Regionname_Western Metropolitan        6110 non-null   uint8  \n",
      " 27  Regionname_Western Victoria            6110 non-null   uint8  \n",
      "dtypes: float64(12), uint8(16)\n",
      "memory usage: 716.0 KB\n"
     ]
    }
   ],
   "source": [
    "X_train.info()"
   ]
  },
  {
   "cell_type": "markdown",
   "id": "separated-utility",
   "metadata": {},
   "source": [
    "# KNN Regressor"
   ]
  },
  {
   "cell_type": "code",
   "execution_count": 41,
   "id": "mental-punch",
   "metadata": {},
   "outputs": [],
   "source": [
    "from sklearn.neighbors import KNeighborsRegressor\n",
    "knn_reg = KNeighborsRegressor()\n",
    "knn_reg.fit(X_train, y_train)\n",
    "y_pred_KNN_default =knn_reg.predict(X_test)"
   ]
  },
  {
   "cell_type": "code",
   "execution_count": 42,
   "id": "dramatic-trustee",
   "metadata": {},
   "outputs": [
    {
     "name": "stdout",
     "output_type": "stream",
     "text": [
      "[1080600.  1304399.8 2602000.  ...  669000.   554700.  1211400. ]\n"
     ]
    }
   ],
   "source": [
    "print(y_pred_KNN_default)"
   ]
  },
  {
   "cell_type": "code",
   "execution_count": 44,
   "id": "fourth-stretch",
   "metadata": {},
   "outputs": [
    {
     "name": "stdout",
     "output_type": "stream",
     "text": [
      "{'n_neighbors': 8}\n",
      "Best Score - KNN: -230326.15869476268\n"
     ]
    }
   ],
   "source": [
    "from sklearn.model_selection import GridSearchCV\n",
    "params = {'n_neighbors':[2,3,4,5,6,7,8,9,10,11,12,14,15,16]}\n",
    "\n",
    "knn = KNeighborsRegressor()\n",
    "\n",
    "\n",
    "model_knnreg = GridSearchCV(knn, params, cv=5,scoring = 'neg_mean_absolute_error',return_train_score= True)\n",
    "model_knnreg.fit(X_train, y_train)\n",
    "print(model_knnreg.best_params_) \n",
    "print('Best Score - KNN:', model_knnreg.best_score_)\n"
   ]
  },
  {
   "cell_type": "markdown",
   "id": "expressed-petersburg",
   "metadata": {},
   "source": [
    "## After iterating through 2 to 16. 8 is decided to be the best parameter."
   ]
  },
  {
   "cell_type": "code",
   "execution_count": 45,
   "id": "disturbed-turtle",
   "metadata": {},
   "outputs": [
    {
     "data": {
      "text/html": [
       "<div>\n",
       "<style scoped>\n",
       "    .dataframe tbody tr th:only-of-type {\n",
       "        vertical-align: middle;\n",
       "    }\n",
       "\n",
       "    .dataframe tbody tr th {\n",
       "        vertical-align: top;\n",
       "    }\n",
       "\n",
       "    .dataframe thead th {\n",
       "        text-align: right;\n",
       "    }\n",
       "</style>\n",
       "<table border=\"1\" class=\"dataframe\">\n",
       "  <thead>\n",
       "    <tr style=\"text-align: right;\">\n",
       "      <th></th>\n",
       "      <th>mean_fit_time</th>\n",
       "      <th>std_fit_time</th>\n",
       "      <th>mean_score_time</th>\n",
       "      <th>std_score_time</th>\n",
       "      <th>param_n_neighbors</th>\n",
       "      <th>params</th>\n",
       "      <th>split0_test_score</th>\n",
       "      <th>split1_test_score</th>\n",
       "      <th>split2_test_score</th>\n",
       "      <th>split3_test_score</th>\n",
       "      <th>...</th>\n",
       "      <th>mean_test_score</th>\n",
       "      <th>std_test_score</th>\n",
       "      <th>rank_test_score</th>\n",
       "      <th>split0_train_score</th>\n",
       "      <th>split1_train_score</th>\n",
       "      <th>split2_train_score</th>\n",
       "      <th>split3_train_score</th>\n",
       "      <th>split4_train_score</th>\n",
       "      <th>mean_train_score</th>\n",
       "      <th>std_train_score</th>\n",
       "    </tr>\n",
       "  </thead>\n",
       "  <tbody>\n",
       "    <tr>\n",
       "      <th>0</th>\n",
       "      <td>0.003192</td>\n",
       "      <td>0.000977</td>\n",
       "      <td>0.099932</td>\n",
       "      <td>0.004435</td>\n",
       "      <td>2</td>\n",
       "      <td>{'n_neighbors': 2}</td>\n",
       "      <td>-258049.960311</td>\n",
       "      <td>-258528.394845</td>\n",
       "      <td>-250307.334288</td>\n",
       "      <td>-252585.751227</td>\n",
       "      <td>...</td>\n",
       "      <td>-253042.898200</td>\n",
       "      <td>4819.572941</td>\n",
       "      <td>14</td>\n",
       "      <td>-141713.573752</td>\n",
       "      <td>-141806.147504</td>\n",
       "      <td>-140697.737520</td>\n",
       "      <td>-142418.909063</td>\n",
       "      <td>-142308.953662</td>\n",
       "      <td>-141789.064300</td>\n",
       "      <td>610.569271</td>\n",
       "    </tr>\n",
       "    <tr>\n",
       "      <th>1</th>\n",
       "      <td>0.003391</td>\n",
       "      <td>0.000489</td>\n",
       "      <td>0.111603</td>\n",
       "      <td>0.002104</td>\n",
       "      <td>3</td>\n",
       "      <td>{'n_neighbors': 3}</td>\n",
       "      <td>-241309.888707</td>\n",
       "      <td>-246924.739771</td>\n",
       "      <td>-240823.605565</td>\n",
       "      <td>-242093.104746</td>\n",
       "      <td>...</td>\n",
       "      <td>-241800.669831</td>\n",
       "      <td>2936.972700</td>\n",
       "      <td>13</td>\n",
       "      <td>-167654.154528</td>\n",
       "      <td>-167373.877660</td>\n",
       "      <td>-167961.988543</td>\n",
       "      <td>-168950.235338</td>\n",
       "      <td>-167789.971904</td>\n",
       "      <td>-167946.045595</td>\n",
       "      <td>537.696337</td>\n",
       "    </tr>\n",
       "    <tr>\n",
       "      <th>2</th>\n",
       "      <td>0.003391</td>\n",
       "      <td>0.000489</td>\n",
       "      <td>0.143815</td>\n",
       "      <td>0.001324</td>\n",
       "      <td>4</td>\n",
       "      <td>{'n_neighbors': 4}</td>\n",
       "      <td>-234971.089812</td>\n",
       "      <td>-243865.644640</td>\n",
       "      <td>-231580.781915</td>\n",
       "      <td>-235576.750409</td>\n",
       "      <td>...</td>\n",
       "      <td>-235889.172831</td>\n",
       "      <td>4220.630121</td>\n",
       "      <td>11</td>\n",
       "      <td>-181798.998363</td>\n",
       "      <td>-179715.379041</td>\n",
       "      <td>-182291.060198</td>\n",
       "      <td>-182054.898220</td>\n",
       "      <td>-179664.932334</td>\n",
       "      <td>-181105.053631</td>\n",
       "      <td>1165.806196</td>\n",
       "    </tr>\n",
       "    <tr>\n",
       "      <th>3</th>\n",
       "      <td>0.003389</td>\n",
       "      <td>0.000491</td>\n",
       "      <td>0.150397</td>\n",
       "      <td>0.007710</td>\n",
       "      <td>5</td>\n",
       "      <td>{'n_neighbors': 5}</td>\n",
       "      <td>-230626.272340</td>\n",
       "      <td>-241601.657610</td>\n",
       "      <td>-229380.465139</td>\n",
       "      <td>-236155.154010</td>\n",
       "      <td>...</td>\n",
       "      <td>-233779.410016</td>\n",
       "      <td>4541.487527</td>\n",
       "      <td>8</td>\n",
       "      <td>-190000.680155</td>\n",
       "      <td>-188473.223568</td>\n",
       "      <td>-189960.236293</td>\n",
       "      <td>-189116.606342</td>\n",
       "      <td>-188461.487971</td>\n",
       "      <td>-189202.446866</td>\n",
       "      <td>678.170554</td>\n",
       "    </tr>\n",
       "    <tr>\n",
       "      <th>4</th>\n",
       "      <td>0.004585</td>\n",
       "      <td>0.002235</td>\n",
       "      <td>0.168948</td>\n",
       "      <td>0.031237</td>\n",
       "      <td>6</td>\n",
       "      <td>{'n_neighbors': 6}</td>\n",
       "      <td>-227675.701582</td>\n",
       "      <td>-237734.687807</td>\n",
       "      <td>-225988.200900</td>\n",
       "      <td>-234781.478178</td>\n",
       "      <td>...</td>\n",
       "      <td>-231241.052782</td>\n",
       "      <td>4392.821393</td>\n",
       "      <td>5</td>\n",
       "      <td>-196336.110986</td>\n",
       "      <td>-194158.258217</td>\n",
       "      <td>-195074.956663</td>\n",
       "      <td>-194184.406097</td>\n",
       "      <td>-194778.747068</td>\n",
       "      <td>-194906.495806</td>\n",
       "      <td>796.212459</td>\n",
       "    </tr>\n",
       "  </tbody>\n",
       "</table>\n",
       "<p>5 rows × 21 columns</p>\n",
       "</div>"
      ],
      "text/plain": [
       "   mean_fit_time  std_fit_time  mean_score_time  std_score_time  \\\n",
       "0       0.003192      0.000977         0.099932        0.004435   \n",
       "1       0.003391      0.000489         0.111603        0.002104   \n",
       "2       0.003391      0.000489         0.143815        0.001324   \n",
       "3       0.003389      0.000491         0.150397        0.007710   \n",
       "4       0.004585      0.002235         0.168948        0.031237   \n",
       "\n",
       "  param_n_neighbors              params  split0_test_score  split1_test_score  \\\n",
       "0                 2  {'n_neighbors': 2}     -258049.960311     -258528.394845   \n",
       "1                 3  {'n_neighbors': 3}     -241309.888707     -246924.739771   \n",
       "2                 4  {'n_neighbors': 4}     -234971.089812     -243865.644640   \n",
       "3                 5  {'n_neighbors': 5}     -230626.272340     -241601.657610   \n",
       "4                 6  {'n_neighbors': 6}     -227675.701582     -237734.687807   \n",
       "\n",
       "   split2_test_score  split3_test_score  ...  mean_test_score  std_test_score  \\\n",
       "0     -250307.334288     -252585.751227  ...   -253042.898200     4819.572941   \n",
       "1     -240823.605565     -242093.104746  ...   -241800.669831     2936.972700   \n",
       "2     -231580.781915     -235576.750409  ...   -235889.172831     4220.630121   \n",
       "3     -229380.465139     -236155.154010  ...   -233779.410016     4541.487527   \n",
       "4     -225988.200900     -234781.478178  ...   -231241.052782     4392.821393   \n",
       "\n",
       "   rank_test_score  split0_train_score  split1_train_score  \\\n",
       "0               14      -141713.573752      -141806.147504   \n",
       "1               13      -167654.154528      -167373.877660   \n",
       "2               11      -181798.998363      -179715.379041   \n",
       "3                8      -190000.680155      -188473.223568   \n",
       "4                5      -196336.110986      -194158.258217   \n",
       "\n",
       "   split2_train_score  split3_train_score  split4_train_score  \\\n",
       "0      -140697.737520      -142418.909063      -142308.953662   \n",
       "1      -167961.988543      -168950.235338      -167789.971904   \n",
       "2      -182291.060198      -182054.898220      -179664.932334   \n",
       "3      -189960.236293      -189116.606342      -188461.487971   \n",
       "4      -195074.956663      -194184.406097      -194778.747068   \n",
       "\n",
       "   mean_train_score  std_train_score  \n",
       "0    -141789.064300       610.569271  \n",
       "1    -167946.045595       537.696337  \n",
       "2    -181105.053631      1165.806196  \n",
       "3    -189202.446866       678.170554  \n",
       "4    -194906.495806       796.212459  \n",
       "\n",
       "[5 rows x 21 columns]"
      ]
     },
     "execution_count": 45,
     "metadata": {},
     "output_type": "execute_result"
    }
   ],
   "source": [
    "result = pd.DataFrame(model_knnreg.cv_results_)\n",
    "result.head()"
   ]
  },
  {
   "cell_type": "code",
   "execution_count": 46,
   "id": "integrated-hometown",
   "metadata": {},
   "outputs": [
    {
     "data": {
      "text/plain": [
       "14"
      ]
     },
     "execution_count": 46,
     "metadata": {},
     "output_type": "execute_result"
    }
   ],
   "source": [
    "result['param_n_neighbors'].shape[0]"
   ]
  },
  {
   "cell_type": "code",
   "execution_count": 47,
   "id": "communist-gasoline",
   "metadata": {},
   "outputs": [
    {
     "data": {
      "image/png": "[encoded data removed]",
      "text/plain": [
       "<Figure size 1080x360 with 1 Axes>"
      ]
     },
     "metadata": {
      "needs_background": "light"
     },
     "output_type": "display_data"
    }
   ],
   "source": [
    "%matplotlib inline\n",
    "\n",
    "plt.subplots(figsize = (15,5))\n",
    "plt.plot(range(result['param_n_neighbors'].shape[0]), result['mean_train_score'], label = 'mean train score')\n",
    "plt.plot(range(result['param_n_neighbors'].shape[0]), result['mean_test_score'], label = 'mean test score')\n",
    "plt.xticks(range(result['param_n_neighbors'].shape[0]), result['param_n_neighbors'], rotation = 90)\n",
    "plt.plot([model_knnreg.best_index_], result['mean_train_score'][model_knnreg.best_index_], 'o', markersize = 15, fillstyle = 'none')\n",
    "plt.plot([model_knnreg.best_index_], result['mean_test_score'][model_knnreg.best_index_], 'o', markersize = 15, fillstyle = 'none')\n",
    "plt.legend()\n",
    "plt.grid()"
   ]
  },
  {
   "cell_type": "markdown",
   "id": "casual-huntington",
   "metadata": {},
   "source": [
    "Graph clearly depicts 8 as the apt hyper paramenter for the model"
   ]
  },
  {
   "cell_type": "code",
   "execution_count": 48,
   "id": "continued-honey",
   "metadata": {},
   "outputs": [
    {
     "name": "stdout",
     "output_type": "stream",
     "text": [
      "Test Score: 0.6107720418709971\n"
     ]
    }
   ],
   "source": [
    "knn = KNeighborsRegressor(n_neighbors=8)\n",
    "knn.fit(X_train,  y_train)\n",
    "print(\"Test Score:\",knn.score(X_test, y_test))"
   ]
  },
  {
   "cell_type": "markdown",
   "id": "retired-focus",
   "metadata": {},
   "source": [
    "# Linear Regression"
   ]
  },
  {
   "cell_type": "code",
   "execution_count": 49,
   "id": "broke-marijuana",
   "metadata": {},
   "outputs": [
    {
     "name": "stdout",
     "output_type": "stream",
     "text": [
      "0.6331536897722295\n",
      "0.5668205759666943\n"
     ]
    }
   ],
   "source": [
    "from sklearn.linear_model import LinearRegression\n",
    "\n",
    "lreg = LinearRegression()\n",
    "lreg.fit(X_train, y_train)\n",
    "print(lreg.score(X_train, y_train))\n",
    "print(lreg.score(X_test, y_test))"
   ]
  },
  {
   "cell_type": "markdown",
   "id": "copyrighted-present",
   "metadata": {},
   "source": [
    "## A simple linear regression has 56 % accuracy. We can fit a line to visualize"
   ]
  },
  {
   "cell_type": "code",
   "execution_count": 50,
   "id": "better-relaxation",
   "metadata": {},
   "outputs": [
    {
     "data": {
      "text/plain": [
       "Text(0.5, 0, 'RM')"
      ]
     },
     "execution_count": 50,
     "metadata": {},
     "output_type": "execute_result"
    },
    {
     "data": {
      "image/png": "[encoded data removed]",
      "text/plain": [
       "<Figure size 1440x360 with 1 Axes>"
      ]
     },
     "metadata": {
      "needs_background": "light"
     },
     "output_type": "display_data"
    }
   ],
   "source": [
    "%matplotlib inline\n",
    "import matplotlib.pyplot as plt\n",
    "import numpy as np\n",
    "X_dummy=np.array(X_train)\n",
    "X_train_rm = X_dummy[:,7].reshape(-1,1)\n",
    "lreg.fit(X_train_rm, y_train)\n",
    "y_predict = lreg.predict(X_train_rm)\n",
    "\n",
    "plt.subplots(figsize = (20,5))\n",
    "plt.plot(X_train_rm, y_predict, c = 'r')\n",
    "plt.scatter(X_train_rm,y_train)\n",
    "plt.xlabel('RM')"
   ]
  },
  {
   "cell_type": "markdown",
   "id": "dynamic-seeker",
   "metadata": {},
   "source": [
    "# Ridge Regression"
   ]
  },
  {
   "cell_type": "code",
   "execution_count": 53,
   "id": "impaired-translation",
   "metadata": {},
   "outputs": [
    {
     "data": {
      "text/plain": [
       "0.5666581180413022"
      ]
     },
     "execution_count": 53,
     "metadata": {},
     "output_type": "execute_result"
    }
   ],
   "source": [
    "from sklearn.linear_model import Ridge\n",
    "\n",
    "ridge = Ridge(0.1)\n",
    "ridge.fit(X_train,  y_train)\n",
    "ridge.score(X_train, y_train)\n",
    "ridge.score(X_test, y_test)"
   ]
  },
  {
   "cell_type": "code",
   "execution_count": 54,
   "id": "confirmed-grill",
   "metadata": {},
   "outputs": [
    {
     "name": "stdout",
     "output_type": "stream",
     "text": [
      "{'alpha': 1}\n",
      "Best Score - ridge: -266560.4065657641\n"
     ]
    }
   ],
   "source": [
    "from sklearn.model_selection import GridSearchCV\n",
    "params = {'alpha':[0.01, 0.1, 1, 10, 100]}\n",
    "\n",
    "ridge = Ridge()\n",
    "\n",
    "\n",
    "model_ridgereg = GridSearchCV(ridge, params, cv=5,scoring = 'neg_mean_absolute_error',return_train_score= True)\n",
    "model_ridgereg.fit(X_train, y_train)\n",
    "print(model_ridgereg.best_params_) \n",
    "print('Best Score - ridge:', model_ridgereg.best_score_)"
   ]
  },
  {
   "cell_type": "markdown",
   "id": "generic-keyboard",
   "metadata": {},
   "source": [
    "## We will be using mean absolute error as the scoring factor in cross validation."
   ]
  },
  {
   "cell_type": "code",
   "execution_count": 224,
   "id": "crude-protocol",
   "metadata": {},
   "outputs": [
    {
     "data": {
      "text/html": [
       "<div>\n",
       "<style scoped>\n",
       "    .dataframe tbody tr th:only-of-type {\n",
       "        vertical-align: middle;\n",
       "    }\n",
       "\n",
       "    .dataframe tbody tr th {\n",
       "        vertical-align: top;\n",
       "    }\n",
       "\n",
       "    .dataframe thead th {\n",
       "        text-align: right;\n",
       "    }\n",
       "</style>\n",
       "<table border=\"1\" class=\"dataframe\">\n",
       "  <thead>\n",
       "    <tr style=\"text-align: right;\">\n",
       "      <th></th>\n",
       "      <th>mean_fit_time</th>\n",
       "      <th>std_fit_time</th>\n",
       "      <th>mean_score_time</th>\n",
       "      <th>std_score_time</th>\n",
       "      <th>param_alpha</th>\n",
       "      <th>params</th>\n",
       "      <th>split0_test_score</th>\n",
       "      <th>split1_test_score</th>\n",
       "      <th>split2_test_score</th>\n",
       "      <th>split3_test_score</th>\n",
       "      <th>...</th>\n",
       "      <th>mean_test_score</th>\n",
       "      <th>std_test_score</th>\n",
       "      <th>rank_test_score</th>\n",
       "      <th>split0_train_score</th>\n",
       "      <th>split1_train_score</th>\n",
       "      <th>split2_train_score</th>\n",
       "      <th>split3_train_score</th>\n",
       "      <th>split4_train_score</th>\n",
       "      <th>mean_train_score</th>\n",
       "      <th>std_train_score</th>\n",
       "    </tr>\n",
       "  </thead>\n",
       "  <tbody>\n",
       "    <tr>\n",
       "      <th>0</th>\n",
       "      <td>0.005983</td>\n",
       "      <td>1.784249e-03</td>\n",
       "      <td>0.003591</td>\n",
       "      <td>2.720561e-03</td>\n",
       "      <td>0.01</td>\n",
       "      <td>{'alpha': 0.01}</td>\n",
       "      <td>-259367.493602</td>\n",
       "      <td>-275953.723534</td>\n",
       "      <td>-262888.308594</td>\n",
       "      <td>-270188.451399</td>\n",
       "      <td>...</td>\n",
       "      <td>-269397.988408</td>\n",
       "      <td>7363.673758</td>\n",
       "      <td>3</td>\n",
       "      <td>-268763.659366</td>\n",
       "      <td>-262651.092826</td>\n",
       "      <td>-266116.472091</td>\n",
       "      <td>-264327.181915</td>\n",
       "      <td>-262104.297835</td>\n",
       "      <td>-264792.540807</td>\n",
       "      <td>2431.114365</td>\n",
       "    </tr>\n",
       "    <tr>\n",
       "      <th>1</th>\n",
       "      <td>0.004588</td>\n",
       "      <td>4.885194e-04</td>\n",
       "      <td>0.001396</td>\n",
       "      <td>4.888697e-04</td>\n",
       "      <td>0.1</td>\n",
       "      <td>{'alpha': 0.1}</td>\n",
       "      <td>-259412.755834</td>\n",
       "      <td>-275902.447427</td>\n",
       "      <td>-262928.558009</td>\n",
       "      <td>-270256.813972</td>\n",
       "      <td>...</td>\n",
       "      <td>-267158.650777</td>\n",
       "      <td>5726.484642</td>\n",
       "      <td>2</td>\n",
       "      <td>-268746.895467</td>\n",
       "      <td>-262637.442857</td>\n",
       "      <td>-266087.685524</td>\n",
       "      <td>-264311.914119</td>\n",
       "      <td>-264100.519236</td>\n",
       "      <td>-265176.891440</td>\n",
       "      <td>2094.279667</td>\n",
       "    </tr>\n",
       "    <tr>\n",
       "      <th>2</th>\n",
       "      <td>0.003990</td>\n",
       "      <td>4.422006e-07</td>\n",
       "      <td>0.001396</td>\n",
       "      <td>4.885583e-04</td>\n",
       "      <td>1</td>\n",
       "      <td>{'alpha': 1}</td>\n",
       "      <td>-259856.257297</td>\n",
       "      <td>-275527.797496</td>\n",
       "      <td>-263171.914905</td>\n",
       "      <td>-270843.315859</td>\n",
       "      <td>...</td>\n",
       "      <td>-266560.406566</td>\n",
       "      <td>5747.272701</td>\n",
       "      <td>1</td>\n",
       "      <td>-268865.107278</td>\n",
       "      <td>-262835.980956</td>\n",
       "      <td>-266123.512882</td>\n",
       "      <td>-264412.501129</td>\n",
       "      <td>-265105.939280</td>\n",
       "      <td>-265468.608305</td>\n",
       "      <td>2007.123475</td>\n",
       "    </tr>\n",
       "    <tr>\n",
       "      <th>3</th>\n",
       "      <td>0.004390</td>\n",
       "      <td>4.878311e-04</td>\n",
       "      <td>0.000988</td>\n",
       "      <td>2.062507e-05</td>\n",
       "      <td>10</td>\n",
       "      <td>{'alpha': 10}</td>\n",
       "      <td>-265897.199126</td>\n",
       "      <td>-277122.618973</td>\n",
       "      <td>-266870.158323</td>\n",
       "      <td>-278030.590817</td>\n",
       "      <td>...</td>\n",
       "      <td>-270780.516545</td>\n",
       "      <td>5566.850869</td>\n",
       "      <td>4</td>\n",
       "      <td>-272722.026457</td>\n",
       "      <td>-267774.490571</td>\n",
       "      <td>-270385.338357</td>\n",
       "      <td>-268831.461708</td>\n",
       "      <td>-269894.566500</td>\n",
       "      <td>-269921.576718</td>\n",
       "      <td>1664.731378</td>\n",
       "    </tr>\n",
       "    <tr>\n",
       "      <th>4</th>\n",
       "      <td>0.003989</td>\n",
       "      <td>1.386932e-06</td>\n",
       "      <td>0.000998</td>\n",
       "      <td>5.722046e-07</td>\n",
       "      <td>100</td>\n",
       "      <td>{'alpha': 100}</td>\n",
       "      <td>-300353.601423</td>\n",
       "      <td>-308636.187294</td>\n",
       "      <td>-303379.650777</td>\n",
       "      <td>-317032.083640</td>\n",
       "      <td>...</td>\n",
       "      <td>-306511.319259</td>\n",
       "      <td>5902.385477</td>\n",
       "      <td>5</td>\n",
       "      <td>-308180.848922</td>\n",
       "      <td>-304557.420737</td>\n",
       "      <td>-305635.814522</td>\n",
       "      <td>-304342.792940</td>\n",
       "      <td>-305926.361473</td>\n",
       "      <td>-305728.647719</td>\n",
       "      <td>1367.725527</td>\n",
       "    </tr>\n",
       "  </tbody>\n",
       "</table>\n",
       "<p>5 rows × 21 columns</p>\n",
       "</div>"
      ],
      "text/plain": [
       "   mean_fit_time  std_fit_time  mean_score_time  std_score_time param_alpha  \\\n",
       "0       0.005983  1.784249e-03         0.003591    2.720561e-03        0.01   \n",
       "1       0.004588  4.885194e-04         0.001396    4.888697e-04         0.1   \n",
       "2       0.003990  4.422006e-07         0.001396    4.885583e-04           1   \n",
       "3       0.004390  4.878311e-04         0.000988    2.062507e-05          10   \n",
       "4       0.003989  1.386932e-06         0.000998    5.722046e-07         100   \n",
       "\n",
       "            params  split0_test_score  split1_test_score  split2_test_score  \\\n",
       "0  {'alpha': 0.01}     -259367.493602     -275953.723534     -262888.308594   \n",
       "1   {'alpha': 0.1}     -259412.755834     -275902.447427     -262928.558009   \n",
       "2     {'alpha': 1}     -259856.257297     -275527.797496     -263171.914905   \n",
       "3    {'alpha': 10}     -265897.199126     -277122.618973     -266870.158323   \n",
       "4   {'alpha': 100}     -300353.601423     -308636.187294     -303379.650777   \n",
       "\n",
       "   split3_test_score  ...  mean_test_score  std_test_score  rank_test_score  \\\n",
       "0     -270188.451399  ...   -269397.988408     7363.673758                3   \n",
       "1     -270256.813972  ...   -267158.650777     5726.484642                2   \n",
       "2     -270843.315859  ...   -266560.406566     5747.272701                1   \n",
       "3     -278030.590817  ...   -270780.516545     5566.850869                4   \n",
       "4     -317032.083640  ...   -306511.319259     5902.385477                5   \n",
       "\n",
       "   split0_train_score  split1_train_score  split2_train_score  \\\n",
       "0      -268763.659366      -262651.092826      -266116.472091   \n",
       "1      -268746.895467      -262637.442857      -266087.685524   \n",
       "2      -268865.107278      -262835.980956      -266123.512882   \n",
       "3      -272722.026457      -267774.490571      -270385.338357   \n",
       "4      -308180.848922      -304557.420737      -305635.814522   \n",
       "\n",
       "   split3_train_score  split4_train_score  mean_train_score  std_train_score  \n",
       "0      -264327.181915      -262104.297835    -264792.540807      2431.114365  \n",
       "1      -264311.914119      -264100.519236    -265176.891440      2094.279667  \n",
       "2      -264412.501129      -265105.939280    -265468.608305      2007.123475  \n",
       "3      -268831.461708      -269894.566500    -269921.576718      1664.731378  \n",
       "4      -304342.792940      -305926.361473    -305728.647719      1367.725527  \n",
       "\n",
       "[5 rows x 21 columns]"
      ]
     },
     "execution_count": 224,
     "metadata": {},
     "output_type": "execute_result"
    }
   ],
   "source": [
    "result = pd.DataFrame(model_ridgereg.cv_results_)\n",
    "result.head()"
   ]
  },
  {
   "cell_type": "code",
   "execution_count": 228,
   "id": "valuable-collective",
   "metadata": {},
   "outputs": [
    {
     "data": {
      "image/png": "[encoded data removed]",
      "text/plain": [
       "<Figure size 1080x360 with 1 Axes>"
      ]
     },
     "metadata": {
      "needs_background": "light"
     },
     "output_type": "display_data"
    }
   ],
   "source": [
    "%matplotlib inline\n",
    "\n",
    "plt.subplots(figsize = (15,5))\n",
    "plt.plot(range(result['param_alpha'].shape[0]), result['mean_train_score'], label = 'mean train score')\n",
    "plt.plot(range(result['param_alpha'].shape[0]), result['mean_test_score'], label = 'mean test score')\n",
    "plt.xticks(range(result['param_alpha'].shape[0]), result['param_alpha'], rotation = 90)\n",
    "plt.plot([model_ridgereg.best_index_], result['mean_train_score'][model_ridgereg.best_index_], 'o', markersize = 15, fillstyle = 'none')\n",
    "plt.plot([model_ridgereg.best_index_], result['mean_test_score'][model_ridgereg.best_index_], 'o', markersize = 15, fillstyle = 'none')\n",
    "plt.legend()\n",
    "plt.grid()"
   ]
  },
  {
   "cell_type": "code",
   "execution_count": 232,
   "id": "speaking-economy",
   "metadata": {},
   "outputs": [
    {
     "name": "stdout",
     "output_type": "stream",
     "text": [
      "Ridge Score 0.5657339723693331\n"
     ]
    }
   ],
   "source": [
    "ridge = Ridge(alpha=1)\n",
    "ridge.fit(X_train,  y_train)\n",
    "print(\"Ridge Score\",ridge.score(X_test, y_test))"
   ]
  },
  {
   "cell_type": "markdown",
   "id": "egyptian-classroom",
   "metadata": {},
   "source": [
    "### Ridge could only describe 56% of the variance in the data"
   ]
  },
  {
   "cell_type": "code",
   "execution_count": 233,
   "id": "labeled-drove",
   "metadata": {},
   "outputs": [
    {
     "data": {
      "text/plain": [
       "array([  882918.36216408,    54626.03626894, -1992209.31620755,\n",
       "          62912.71924777,   693698.68393379,  1791791.46277814,\n",
       "         581941.68047652,   617209.61269417,   722037.99014316,\n",
       "       -1801155.08520547,  -580418.12338952,   512840.65598862,\n",
       "         228255.56723592,   -26678.6493531 ,  -201576.91788331,\n",
       "         -24959.57453795,    59155.50277112,   -57292.93417773,\n",
       "           7194.49759194,    15902.5083522 ,  -123496.4596166 ,\n",
       "         -24342.35083915,  -230341.74883974,   421321.41317744,\n",
       "        -114922.51718776,   130448.07206483,  -246910.34218255,\n",
       "         188243.93342336])"
      ]
     },
     "execution_count": 233,
     "metadata": {},
     "output_type": "execute_result"
    }
   ],
   "source": [
    "ridge.coef_ #co-efficients of ridge regression"
   ]
  },
  {
   "cell_type": "code",
   "execution_count": 234,
   "id": "timely-surname",
   "metadata": {},
   "outputs": [
    {
     "data": {
      "text/plain": [
       "2240090.7272706907"
      ]
     },
     "execution_count": 234,
     "metadata": {},
     "output_type": "execute_result"
    }
   ],
   "source": [
    "ridge.intercept_"
   ]
  },
  {
   "cell_type": "markdown",
   "id": "ahead-manhattan",
   "metadata": {},
   "source": [
    "# Lasso"
   ]
  },
  {
   "cell_type": "code",
   "execution_count": 235,
   "id": "moving-acquisition",
   "metadata": {},
   "outputs": [
    {
     "name": "stderr",
     "output_type": "stream",
     "text": [
      "C:\\Users\\vxn190018\\Anaconda3\\lib\\site-packages\\sklearn\\linear_model\\_coordinate_descent.py:530: ConvergenceWarning: Objective did not converge. You might want to increase the number of iterations. Duality gap: 189290224836116.5, tolerance: 262409952022.61667\n",
      "  model = cd_fast.enet_coordinate_descent(\n"
     ]
    },
    {
     "data": {
      "text/plain": [
       "0.5668169400673132"
      ]
     },
     "execution_count": 235,
     "metadata": {},
     "output_type": "execute_result"
    }
   ],
   "source": [
    "from sklearn.linear_model import Lasso\n",
    "\n",
    "lasso = Lasso(0.1)\n",
    "lasso.fit(X_train,  y_train)\n",
    "lasso.score(X_train, y_train)\n",
    "lasso.score(X_test, y_test)"
   ]
  },
  {
   "cell_type": "code",
   "execution_count": 237,
   "id": "technical-bishop",
   "metadata": {},
   "outputs": [
    {
     "name": "stderr",
     "output_type": "stream",
     "text": [
      "C:\\Users\\vxn190018\\Anaconda3\\lib\\site-packages\\sklearn\\linear_model\\_coordinate_descent.py:530: ConvergenceWarning: Objective did not converge. You might want to increase the number of iterations. Duality gap: 157589575757003.38, tolerance: 213621757422.72736\n",
      "  model = cd_fast.enet_coordinate_descent(\n",
      "C:\\Users\\vxn190018\\Anaconda3\\lib\\site-packages\\sklearn\\linear_model\\_coordinate_descent.py:530: ConvergenceWarning: Objective did not converge. You might want to increase the number of iterations. Duality gap: 148492632382578.9, tolerance: 207557844158.6169\n",
      "  model = cd_fast.enet_coordinate_descent(\n",
      "C:\\Users\\vxn190018\\Anaconda3\\lib\\site-packages\\sklearn\\linear_model\\_coordinate_descent.py:530: ConvergenceWarning: Objective did not converge. You might want to increase the number of iterations. Duality gap: 156251047891010.2, tolerance: 212081202669.03775\n",
      "  model = cd_fast.enet_coordinate_descent(\n",
      "C:\\Users\\vxn190018\\Anaconda3\\lib\\site-packages\\sklearn\\linear_model\\_coordinate_descent.py:530: ConvergenceWarning: Objective did not converge. You might want to increase the number of iterations. Duality gap: 149122849870570.44, tolerance: 209185882375.01617\n",
      "  model = cd_fast.enet_coordinate_descent(\n",
      "C:\\Users\\vxn190018\\Anaconda3\\lib\\site-packages\\sklearn\\linear_model\\_coordinate_descent.py:530: ConvergenceWarning: Objective did not converge. You might want to increase the number of iterations. Duality gap: 142266146321253.6, tolerance: 207165016776.45404\n",
      "  model = cd_fast.enet_coordinate_descent(\n",
      "C:\\Users\\vxn190018\\Anaconda3\\lib\\site-packages\\sklearn\\linear_model\\_coordinate_descent.py:530: ConvergenceWarning: Objective did not converge. You might want to increase the number of iterations. Duality gap: 157593448925359.12, tolerance: 213621757422.72736\n",
      "  model = cd_fast.enet_coordinate_descent(\n",
      "C:\\Users\\vxn190018\\Anaconda3\\lib\\site-packages\\sklearn\\linear_model\\_coordinate_descent.py:530: ConvergenceWarning: Objective did not converge. You might want to increase the number of iterations. Duality gap: 148496552858132.78, tolerance: 207557844158.6169\n",
      "  model = cd_fast.enet_coordinate_descent(\n",
      "C:\\Users\\vxn190018\\Anaconda3\\lib\\site-packages\\sklearn\\linear_model\\_coordinate_descent.py:530: ConvergenceWarning: Objective did not converge. You might want to increase the number of iterations. Duality gap: 156254922994457.88, tolerance: 212081202669.03775\n",
      "  model = cd_fast.enet_coordinate_descent(\n",
      "C:\\Users\\vxn190018\\Anaconda3\\lib\\site-packages\\sklearn\\linear_model\\_coordinate_descent.py:530: ConvergenceWarning: Objective did not converge. You might want to increase the number of iterations. Duality gap: 48645358681033.75, tolerance: 209185882375.01617\n",
      "  model = cd_fast.enet_coordinate_descent(\n",
      "C:\\Users\\vxn190018\\Anaconda3\\lib\\site-packages\\sklearn\\linear_model\\_coordinate_descent.py:530: ConvergenceWarning: Objective did not converge. You might want to increase the number of iterations. Duality gap: 142277066803381.9, tolerance: 207165016776.45404\n",
      "  model = cd_fast.enet_coordinate_descent(\n",
      "C:\\Users\\vxn190018\\Anaconda3\\lib\\site-packages\\sklearn\\linear_model\\_coordinate_descent.py:530: ConvergenceWarning: Objective did not converge. You might want to increase the number of iterations. Duality gap: 52061650729175.125, tolerance: 213621757422.72736\n",
      "  model = cd_fast.enet_coordinate_descent(\n",
      "C:\\Users\\vxn190018\\Anaconda3\\lib\\site-packages\\sklearn\\linear_model\\_coordinate_descent.py:530: ConvergenceWarning: Objective did not converge. You might want to increase the number of iterations. Duality gap: 48898183801085.5, tolerance: 207557844158.6169\n",
      "  model = cd_fast.enet_coordinate_descent(\n",
      "C:\\Users\\vxn190018\\Anaconda3\\lib\\site-packages\\sklearn\\linear_model\\_coordinate_descent.py:530: ConvergenceWarning: Objective did not converge. You might want to increase the number of iterations. Duality gap: 156293488108147.56, tolerance: 212081202669.03775\n",
      "  model = cd_fast.enet_coordinate_descent(\n",
      "C:\\Users\\vxn190018\\Anaconda3\\lib\\site-packages\\sklearn\\linear_model\\_coordinate_descent.py:530: ConvergenceWarning: Objective did not converge. You might want to increase the number of iterations. Duality gap: 48667904824876.0, tolerance: 209185882375.01617\n",
      "  model = cd_fast.enet_coordinate_descent(\n",
      "C:\\Users\\vxn190018\\Anaconda3\\lib\\site-packages\\sklearn\\linear_model\\_coordinate_descent.py:530: ConvergenceWarning: Objective did not converge. You might want to increase the number of iterations. Duality gap: 46616117164968.56, tolerance: 207165016776.45404\n",
      "  model = cd_fast.enet_coordinate_descent(\n"
     ]
    },
    {
     "name": "stdout",
     "output_type": "stream",
     "text": [
      "{'alpha': 100}\n",
      "Best Score - ridge: -267520.1062626065\n"
     ]
    }
   ],
   "source": [
    "from sklearn.model_selection import GridSearchCV\n",
    "params = {'alpha':[0.01, 0.1, 1, 10, 100,1000]}\n",
    "\n",
    "lasso = Lasso()\n",
    "\n",
    "\n",
    "model_lassoreg = GridSearchCV(lasso, params, cv=5,scoring = 'neg_mean_absolute_error',return_train_score= True)\n",
    "model_lassoreg.fit(X_train, y_train)\n",
    "print(model_lassoreg.best_params_) \n",
    "print('Best Score - ridge:', model_lassoreg.best_score_)"
   ]
  },
  {
   "cell_type": "code",
   "execution_count": 238,
   "id": "attended-petroleum",
   "metadata": {},
   "outputs": [
    {
     "data": {
      "text/html": [
       "<div>\n",
       "<style scoped>\n",
       "    .dataframe tbody tr th:only-of-type {\n",
       "        vertical-align: middle;\n",
       "    }\n",
       "\n",
       "    .dataframe tbody tr th {\n",
       "        vertical-align: top;\n",
       "    }\n",
       "\n",
       "    .dataframe thead th {\n",
       "        text-align: right;\n",
       "    }\n",
       "</style>\n",
       "<table border=\"1\" class=\"dataframe\">\n",
       "  <thead>\n",
       "    <tr style=\"text-align: right;\">\n",
       "      <th></th>\n",
       "      <th>mean_fit_time</th>\n",
       "      <th>std_fit_time</th>\n",
       "      <th>mean_score_time</th>\n",
       "      <th>std_score_time</th>\n",
       "      <th>param_alpha</th>\n",
       "      <th>params</th>\n",
       "      <th>split0_test_score</th>\n",
       "      <th>split1_test_score</th>\n",
       "      <th>split2_test_score</th>\n",
       "      <th>split3_test_score</th>\n",
       "      <th>...</th>\n",
       "      <th>mean_test_score</th>\n",
       "      <th>std_test_score</th>\n",
       "      <th>rank_test_score</th>\n",
       "      <th>split0_train_score</th>\n",
       "      <th>split1_train_score</th>\n",
       "      <th>split2_train_score</th>\n",
       "      <th>split3_train_score</th>\n",
       "      <th>split4_train_score</th>\n",
       "      <th>mean_train_score</th>\n",
       "      <th>std_train_score</th>\n",
       "    </tr>\n",
       "  </thead>\n",
       "  <tbody>\n",
       "    <tr>\n",
       "      <th>0</th>\n",
       "      <td>0.124068</td>\n",
       "      <td>0.008239</td>\n",
       "      <td>0.001996</td>\n",
       "      <td>0.000002</td>\n",
       "      <td>0.01</td>\n",
       "      <td>{'alpha': 0.01}</td>\n",
       "      <td>-259362.267701</td>\n",
       "      <td>-275960.055905</td>\n",
       "      <td>-262883.431683</td>\n",
       "      <td>-270180.491976</td>\n",
       "      <td>...</td>\n",
       "      <td>-270444.723053</td>\n",
       "      <td>8830.012424</td>\n",
       "      <td>6</td>\n",
       "      <td>-268765.579618</td>\n",
       "      <td>-262652.791431</td>\n",
       "      <td>-266119.972053</td>\n",
       "      <td>-264328.964499</td>\n",
       "      <td>-261306.005765</td>\n",
       "      <td>-264634.662673</td>\n",
       "      <td>2621.901621</td>\n",
       "    </tr>\n",
       "    <tr>\n",
       "      <th>1</th>\n",
       "      <td>0.128058</td>\n",
       "      <td>0.013857</td>\n",
       "      <td>0.002394</td>\n",
       "      <td>0.000489</td>\n",
       "      <td>0.1</td>\n",
       "      <td>{'alpha': 0.1}</td>\n",
       "      <td>-259362.574094</td>\n",
       "      <td>-275959.810515</td>\n",
       "      <td>-262883.493911</td>\n",
       "      <td>-270180.747228</td>\n",
       "      <td>...</td>\n",
       "      <td>-270440.548722</td>\n",
       "      <td>8823.448266</td>\n",
       "      <td>5</td>\n",
       "      <td>-268765.506307</td>\n",
       "      <td>-262652.724628</td>\n",
       "      <td>-266119.870258</td>\n",
       "      <td>-264328.907456</td>\n",
       "      <td>-261307.856765</td>\n",
       "      <td>-264634.973083</td>\n",
       "      <td>2621.408493</td>\n",
       "    </tr>\n",
       "    <tr>\n",
       "      <th>2</th>\n",
       "      <td>0.139631</td>\n",
       "      <td>0.013004</td>\n",
       "      <td>0.002592</td>\n",
       "      <td>0.000488</td>\n",
       "      <td>1</td>\n",
       "      <td>{'alpha': 1}</td>\n",
       "      <td>-259365.885961</td>\n",
       "      <td>-275957.388776</td>\n",
       "      <td>-262884.116191</td>\n",
       "      <td>-270183.297028</td>\n",
       "      <td>...</td>\n",
       "      <td>-270398.920733</td>\n",
       "      <td>8758.025993</td>\n",
       "      <td>4</td>\n",
       "      <td>-268764.799237</td>\n",
       "      <td>-262652.202034</td>\n",
       "      <td>-266118.857285</td>\n",
       "      <td>-264328.331836</td>\n",
       "      <td>-261326.491793</td>\n",
       "      <td>-264638.136437</td>\n",
       "      <td>2616.439745</td>\n",
       "    </tr>\n",
       "    <tr>\n",
       "      <th>3</th>\n",
       "      <td>0.053059</td>\n",
       "      <td>0.025495</td>\n",
       "      <td>0.003192</td>\n",
       "      <td>0.000746</td>\n",
       "      <td>10</td>\n",
       "      <td>{'alpha': 10}</td>\n",
       "      <td>-259398.289732</td>\n",
       "      <td>-275937.446184</td>\n",
       "      <td>-262890.669011</td>\n",
       "      <td>-270209.994985</td>\n",
       "      <td>...</td>\n",
       "      <td>-269989.226674</td>\n",
       "      <td>8132.768247</td>\n",
       "      <td>3</td>\n",
       "      <td>-268758.117487</td>\n",
       "      <td>-262648.964063</td>\n",
       "      <td>-266110.396542</td>\n",
       "      <td>-264322.947914</td>\n",
       "      <td>-261536.942379</td>\n",
       "      <td>-264675.473677</td>\n",
       "      <td>2561.576798</td>\n",
       "    </tr>\n",
       "    <tr>\n",
       "      <th>4</th>\n",
       "      <td>0.032314</td>\n",
       "      <td>0.010972</td>\n",
       "      <td>0.001596</td>\n",
       "      <td>0.000489</td>\n",
       "      <td>100</td>\n",
       "      <td>{'alpha': 100}</td>\n",
       "      <td>-259740.338942</td>\n",
       "      <td>-275850.817662</td>\n",
       "      <td>-262962.624098</td>\n",
       "      <td>-270486.009393</td>\n",
       "      <td>...</td>\n",
       "      <td>-267520.106263</td>\n",
       "      <td>5667.021760</td>\n",
       "      <td>1</td>\n",
       "      <td>-268825.664111</td>\n",
       "      <td>-262743.787745</td>\n",
       "      <td>-266179.025713</td>\n",
       "      <td>-264411.163267</td>\n",
       "      <td>-263926.144907</td>\n",
       "      <td>-265217.157149</td>\n",
       "      <td>2115.675239</td>\n",
       "    </tr>\n",
       "  </tbody>\n",
       "</table>\n",
       "<p>5 rows × 21 columns</p>\n",
       "</div>"
      ],
      "text/plain": [
       "   mean_fit_time  std_fit_time  mean_score_time  std_score_time param_alpha  \\\n",
       "0       0.124068      0.008239         0.001996        0.000002        0.01   \n",
       "1       0.128058      0.013857         0.002394        0.000489         0.1   \n",
       "2       0.139631      0.013004         0.002592        0.000488           1   \n",
       "3       0.053059      0.025495         0.003192        0.000746          10   \n",
       "4       0.032314      0.010972         0.001596        0.000489         100   \n",
       "\n",
       "            params  split0_test_score  split1_test_score  split2_test_score  \\\n",
       "0  {'alpha': 0.01}     -259362.267701     -275960.055905     -262883.431683   \n",
       "1   {'alpha': 0.1}     -259362.574094     -275959.810515     -262883.493911   \n",
       "2     {'alpha': 1}     -259365.885961     -275957.388776     -262884.116191   \n",
       "3    {'alpha': 10}     -259398.289732     -275937.446184     -262890.669011   \n",
       "4   {'alpha': 100}     -259740.338942     -275850.817662     -262962.624098   \n",
       "\n",
       "   split3_test_score  ...  mean_test_score  std_test_score  rank_test_score  \\\n",
       "0     -270180.491976  ...   -270444.723053     8830.012424                6   \n",
       "1     -270180.747228  ...   -270440.548722     8823.448266                5   \n",
       "2     -270183.297028  ...   -270398.920733     8758.025993                4   \n",
       "3     -270209.994985  ...   -269989.226674     8132.768247                3   \n",
       "4     -270486.009393  ...   -267520.106263     5667.021760                1   \n",
       "\n",
       "   split0_train_score  split1_train_score  split2_train_score  \\\n",
       "0      -268765.579618      -262652.791431      -266119.972053   \n",
       "1      -268765.506307      -262652.724628      -266119.870258   \n",
       "2      -268764.799237      -262652.202034      -266118.857285   \n",
       "3      -268758.117487      -262648.964063      -266110.396542   \n",
       "4      -268825.664111      -262743.787745      -266179.025713   \n",
       "\n",
       "   split3_train_score  split4_train_score  mean_train_score  std_train_score  \n",
       "0      -264328.964499      -261306.005765    -264634.662673      2621.901621  \n",
       "1      -264328.907456      -261307.856765    -264634.973083      2621.408493  \n",
       "2      -264328.331836      -261326.491793    -264638.136437      2616.439745  \n",
       "3      -264322.947914      -261536.942379    -264675.473677      2561.576798  \n",
       "4      -264411.163267      -263926.144907    -265217.157149      2115.675239  \n",
       "\n",
       "[5 rows x 21 columns]"
      ]
     },
     "execution_count": 238,
     "metadata": {},
     "output_type": "execute_result"
    }
   ],
   "source": [
    "result = pd.DataFrame(model_lassoreg.cv_results_)\n",
    "result.head()"
   ]
  },
  {
   "cell_type": "code",
   "execution_count": 239,
   "id": "worst-panel",
   "metadata": {},
   "outputs": [
    {
     "data": {
      "image/png": "[encoded data removed]",
      "text/plain": [
       "<Figure size 1080x360 with 1 Axes>"
      ]
     },
     "metadata": {
      "needs_background": "light"
     },
     "output_type": "display_data"
    }
   ],
   "source": [
    "%matplotlib inline\n",
    "\n",
    "plt.subplots(figsize = (15,5))\n",
    "plt.plot(range(result['param_alpha'].shape[0]), result['mean_train_score'], label = 'mean train score')\n",
    "plt.plot(range(result['param_alpha'].shape[0]), result['mean_test_score'], label = 'mean test score')\n",
    "plt.xticks(range(result['param_alpha'].shape[0]), result['param_alpha'], rotation = 90)\n",
    "plt.plot([model_lassoreg.best_index_], result['mean_train_score'][model_lassoreg.best_index_], 'o', markersize = 15, fillstyle = 'none')\n",
    "plt.plot([model_lassoreg.best_index_], result['mean_test_score'][model_lassoreg.best_index_], 'o', markersize = 15, fillstyle = 'none')\n",
    "plt.legend()\n",
    "plt.grid()"
   ]
  },
  {
   "cell_type": "markdown",
   "id": "exposed-heating",
   "metadata": {},
   "source": [
    "## The penalty factor 100 is yeiding better result with both training and test data."
   ]
  },
  {
   "cell_type": "code",
   "execution_count": 240,
   "id": "antique-representative",
   "metadata": {},
   "outputs": [
    {
     "name": "stdout",
     "output_type": "stream",
     "text": [
      "Lasso Score 0.5667624236119491\n"
     ]
    }
   ],
   "source": [
    "lasso = Lasso(alpha=100)\n",
    "lasso.fit(X_train,  y_train)\n",
    "print(\"Lasso Score\",lasso.score(X_test, y_test))"
   ]
  },
  {
   "cell_type": "markdown",
   "id": "documentary-charles",
   "metadata": {},
   "source": [
    "# Polynomial regression"
   ]
  },
  {
   "cell_type": "code",
   "execution_count": 246,
   "id": "three-istanbul",
   "metadata": {},
   "outputs": [],
   "source": [
    "from sklearn.preprocessing import PolynomialFeatures\n",
    "\n",
    "poly_reg_score_train=[]\n",
    "poly_reg_score_test=[]\n",
    "\n",
    "\n",
    "for i in [1,2,3]:\n",
    "    poly = PolynomialFeatures(degree = i)\n",
    "    X_train_poly = poly.fit_transform(X_train)\n",
    "    X_test_poly = poly.transform(X_test)\n",
    "\n",
    "    poly_reg = LinearRegression()\n",
    "    poly_reg.fit(X_train_poly, y_train)\n",
    "    poly_reg_score_train.append(poly_reg.score(X_train_poly, y_train))\n",
    "    poly_reg_score_test.append(poly_reg.score(X_test_poly, y_test))"
   ]
  },
  {
   "cell_type": "markdown",
   "id": "announced-haiti",
   "metadata": {},
   "source": [
    "### For the sake of simplicity we are using only polynomial degree of 1,2,3."
   ]
  },
  {
   "cell_type": "code",
   "execution_count": 248,
   "id": "educated-framework",
   "metadata": {},
   "outputs": [
    {
     "data": {
      "text/plain": [
       "[0.6331538344124559, 0.7885666702035642, 0.9021594243847674]"
      ]
     },
     "execution_count": 248,
     "metadata": {},
     "output_type": "execute_result"
    }
   ],
   "source": [
    "poly_reg_score_train"
   ]
  },
  {
   "cell_type": "code",
   "execution_count": 250,
   "id": "religious-cookie",
   "metadata": {},
   "outputs": [
    {
     "data": {
      "text/plain": [
       "[0.5668169271416315, -3.0247438554046765e+17, -2.0847936282264977e+20]"
      ]
     },
     "execution_count": 250,
     "metadata": {},
     "output_type": "execute_result"
    }
   ],
   "source": [
    "poly_reg_score_test"
   ]
  },
  {
   "cell_type": "code",
   "execution_count": 249,
   "id": "lovely-alberta",
   "metadata": {},
   "outputs": [
    {
     "data": {
      "text/plain": [
       "[<matplotlib.lines.Line2D at 0x1fc56885490>]"
      ]
     },
     "execution_count": 249,
     "metadata": {},
     "output_type": "execute_result"
    },
    {
     "data": {
      "image/png": "[encoded data removed]",
      "text/plain": [
       "<Figure size 1080x360 with 1 Axes>"
      ]
     },
     "metadata": {
      "needs_background": "light"
     },
     "output_type": "display_data"
    }
   ],
   "source": [
    "plt.subplots(figsize = (15,5))\n",
    "plt.plot( [1,2,3], poly_reg_score_train, label = 'mean train score')\n",
    "plt.plot([1,2,3], poly_reg_score_test, label = 'mean test score')"
   ]
  },
  {
   "cell_type": "markdown",
   "id": "brutal-simple",
   "metadata": {},
   "source": [
    "### Second degree polynomial is giving us better results."
   ]
  },
  {
   "cell_type": "markdown",
   "id": "sunrise-ancient",
   "metadata": {},
   "source": [
    "# Support Vector Machine "
   ]
  },
  {
   "cell_type": "code",
   "execution_count": 75,
   "id": "adjustable-grill",
   "metadata": {},
   "outputs": [],
   "source": [
    "from sklearn.svm import SVR\n",
    "\n",
    "model_svr=SVR()\n",
    "model_svr.fit(X_train, y_train)\n",
    "y_pred_model_svr =model_svr.predict(X_test) #Base model without parameter tuning"
   ]
  },
  {
   "cell_type": "code",
   "execution_count": 76,
   "id": "suitable-liverpool",
   "metadata": {},
   "outputs": [
    {
     "data": {
      "text/plain": [
       "-0.07090980561158933"
      ]
     },
     "execution_count": 76,
     "metadata": {},
     "output_type": "execute_result"
    }
   ],
   "source": [
    "model_svr.score(X_test,y_test) #,1,100,.01,1,10,100],"
   ]
  },
  {
   "cell_type": "code",
   "execution_count": 81,
   "id": "variable-possible",
   "metadata": {},
   "outputs": [
    {
     "name": "stdout",
     "output_type": "stream",
     "text": [
      "{'C': 10, 'degree': 1, 'gamma': 0.1, 'kernel': 'linear'}\n",
      "Best Score - ridge: -443665.56672434334\n"
     ]
    }
   ],
   "source": [
    "from sklearn.model_selection import GridSearchCV\n",
    "\n",
    "model_svr=SVR()\n",
    "parameters_svr = {'kernel':['linear','rbf','poly']],\n",
    "                  'gamma' : [0.1,1,10,100],\n",
    "                  'degree':[1,2,3,4],\n",
    "                  'C':[0.1,1,10,100]}\n",
    "                   \n",
    "# with GridSearch\n",
    "grid_search_svr = GridSearchCV(estimator=model_svr, param_grid=parameters_svr,scoring = 'neg_mean_absolute_error',\n",
    "                               cv = 5,return_train_score= True,n_jobs=5)\n",
    "grid_search_svr.fit(X_train, y_train)\n",
    "print(grid_search_svr.best_params_) \n",
    "print('Best Score - ridge:', grid_search_svr.best_score_)"
   ]
  },
  {
   "cell_type": "code",
   "execution_count": 84,
   "id": "local-gnome",
   "metadata": {},
   "outputs": [],
   "source": [
    "result = pd.DataFrame(grid_search_svr.cv_results_)"
   ]
  },
  {
   "cell_type": "markdown",
   "id": "electronic-story",
   "metadata": {},
   "source": [
    "### Hyper parameters C=10 Degree=1 gamma=0.1 and a linear kernel gives us a better score for training sample."
   ]
  },
  {
   "cell_type": "code",
   "execution_count": 86,
   "id": "republican-gather",
   "metadata": {},
   "outputs": [
    {
     "name": "stdout",
     "output_type": "stream",
     "text": [
      "Decission Tree -0.05753358177788459\n"
     ]
    }
   ],
   "source": [
    "grid_search_svr=SVR(C= 10, degree= 1, gamma= 0.1, kernel='linear')\n",
    "grid_search_svr.fit(X_train, y_train)\n",
    "print(\"SVR Score\",grid_search_svr.score(X_test, y_test))"
   ]
  },
  {
   "cell_type": "markdown",
   "id": "human-seminar",
   "metadata": {},
   "source": [
    "### Models predition is subpar for the test sample. It is better to consider other models."
   ]
  },
  {
   "cell_type": "markdown",
   "id": "quality-kuwait",
   "metadata": {},
   "source": [
    "# Decission Tree Regressor"
   ]
  },
  {
   "cell_type": "code",
   "execution_count": 55,
   "id": "gross-contrast",
   "metadata": {},
   "outputs": [],
   "source": [
    "from sklearn.tree import DecisionTreeRegressor\n",
    "\n",
    "model_dtr=DecisionTreeRegressor()\n",
    "model_dtr.fit(X_train, y_train)\n",
    "y_pred_model_dtc =model_dtr.predict(X_test) #Base model without parameter tuning"
   ]
  },
  {
   "cell_type": "code",
   "execution_count": 68,
   "id": "surprised-structure",
   "metadata": {},
   "outputs": [
    {
     "name": "stdout",
     "output_type": "stream",
     "text": [
      "{'max_depth': 10}\n",
      "0.6541154923266448\n"
     ]
    }
   ],
   "source": [
    "param_dt = {'max_depth':[1, 2, 3, 5, 7, 10,11,12,13,14]}\n",
    "\n",
    "grid_dt = GridSearchCV(estimator=model_dtr, param_grid=param_dt, cv = 5, return_train_score= True)\n",
    "grid_dt.fit(X_train, y_train)\n",
    "print(grid_dt.best_params_)\n",
    "print(grid_dt.best_score_)"
   ]
  },
  {
   "cell_type": "code",
   "execution_count": 71,
   "id": "wanted-tribune",
   "metadata": {},
   "outputs": [
    {
     "data": {
      "text/html": [
       "<div>\n",
       "<style scoped>\n",
       "    .dataframe tbody tr th:only-of-type {\n",
       "        vertical-align: middle;\n",
       "    }\n",
       "\n",
       "    .dataframe tbody tr th {\n",
       "        vertical-align: top;\n",
       "    }\n",
       "\n",
       "    .dataframe thead th {\n",
       "        text-align: right;\n",
       "    }\n",
       "</style>\n",
       "<table border=\"1\" class=\"dataframe\">\n",
       "  <thead>\n",
       "    <tr style=\"text-align: right;\">\n",
       "      <th></th>\n",
       "      <th>mean_fit_time</th>\n",
       "      <th>std_fit_time</th>\n",
       "      <th>mean_score_time</th>\n",
       "      <th>std_score_time</th>\n",
       "      <th>param_max_depth</th>\n",
       "      <th>params</th>\n",
       "      <th>split0_test_score</th>\n",
       "      <th>split1_test_score</th>\n",
       "      <th>split2_test_score</th>\n",
       "      <th>split3_test_score</th>\n",
       "      <th>...</th>\n",
       "      <th>mean_test_score</th>\n",
       "      <th>std_test_score</th>\n",
       "      <th>rank_test_score</th>\n",
       "      <th>split0_train_score</th>\n",
       "      <th>split1_train_score</th>\n",
       "      <th>split2_train_score</th>\n",
       "      <th>split3_train_score</th>\n",
       "      <th>split4_train_score</th>\n",
       "      <th>mean_train_score</th>\n",
       "      <th>std_train_score</th>\n",
       "    </tr>\n",
       "  </thead>\n",
       "  <tbody>\n",
       "    <tr>\n",
       "      <th>0</th>\n",
       "      <td>0.006382</td>\n",
       "      <td>0.001353</td>\n",
       "      <td>0.001796</td>\n",
       "      <td>0.000747</td>\n",
       "      <td>1</td>\n",
       "      <td>{'max_depth': 1}</td>\n",
       "      <td>0.148279</td>\n",
       "      <td>0.250600</td>\n",
       "      <td>0.173528</td>\n",
       "      <td>0.214089</td>\n",
       "      <td>...</td>\n",
       "      <td>0.190694</td>\n",
       "      <td>0.036858</td>\n",
       "      <td>10</td>\n",
       "      <td>0.208055</td>\n",
       "      <td>0.187155</td>\n",
       "      <td>0.206476</td>\n",
       "      <td>0.197105</td>\n",
       "      <td>0.209390</td>\n",
       "      <td>0.201636</td>\n",
       "      <td>0.008426</td>\n",
       "    </tr>\n",
       "    <tr>\n",
       "      <th>1</th>\n",
       "      <td>0.009174</td>\n",
       "      <td>0.001932</td>\n",
       "      <td>0.001596</td>\n",
       "      <td>0.000799</td>\n",
       "      <td>2</td>\n",
       "      <td>{'max_depth': 2}</td>\n",
       "      <td>0.334179</td>\n",
       "      <td>0.409777</td>\n",
       "      <td>0.385312</td>\n",
       "      <td>0.371040</td>\n",
       "      <td>...</td>\n",
       "      <td>0.369203</td>\n",
       "      <td>0.027158</td>\n",
       "      <td>9</td>\n",
       "      <td>0.386039</td>\n",
       "      <td>0.375236</td>\n",
       "      <td>0.382193</td>\n",
       "      <td>0.385663</td>\n",
       "      <td>0.391458</td>\n",
       "      <td>0.384118</td>\n",
       "      <td>0.005339</td>\n",
       "    </tr>\n",
       "    <tr>\n",
       "      <th>2</th>\n",
       "      <td>0.009175</td>\n",
       "      <td>0.000399</td>\n",
       "      <td>0.001796</td>\n",
       "      <td>0.000399</td>\n",
       "      <td>3</td>\n",
       "      <td>{'max_depth': 3}</td>\n",
       "      <td>0.489701</td>\n",
       "      <td>0.525490</td>\n",
       "      <td>0.508535</td>\n",
       "      <td>0.486439</td>\n",
       "      <td>...</td>\n",
       "      <td>0.497005</td>\n",
       "      <td>0.017887</td>\n",
       "      <td>8</td>\n",
       "      <td>0.540205</td>\n",
       "      <td>0.533612</td>\n",
       "      <td>0.534700</td>\n",
       "      <td>0.539589</td>\n",
       "      <td>0.554729</td>\n",
       "      <td>0.540567</td>\n",
       "      <td>0.007543</td>\n",
       "    </tr>\n",
       "    <tr>\n",
       "      <th>3</th>\n",
       "      <td>0.013554</td>\n",
       "      <td>0.000788</td>\n",
       "      <td>0.001796</td>\n",
       "      <td>0.000399</td>\n",
       "      <td>5</td>\n",
       "      <td>{'max_depth': 5}</td>\n",
       "      <td>0.626086</td>\n",
       "      <td>0.609758</td>\n",
       "      <td>0.632954</td>\n",
       "      <td>0.630460</td>\n",
       "      <td>...</td>\n",
       "      <td>0.608838</td>\n",
       "      <td>0.032958</td>\n",
       "      <td>7</td>\n",
       "      <td>0.689878</td>\n",
       "      <td>0.680031</td>\n",
       "      <td>0.683313</td>\n",
       "      <td>0.675194</td>\n",
       "      <td>0.711747</td>\n",
       "      <td>0.688033</td>\n",
       "      <td>0.012782</td>\n",
       "    </tr>\n",
       "    <tr>\n",
       "      <th>4</th>\n",
       "      <td>0.019551</td>\n",
       "      <td>0.003709</td>\n",
       "      <td>0.001792</td>\n",
       "      <td>0.000397</td>\n",
       "      <td>7</td>\n",
       "      <td>{'max_depth': 7}</td>\n",
       "      <td>0.604667</td>\n",
       "      <td>0.624143</td>\n",
       "      <td>0.669954</td>\n",
       "      <td>0.653267</td>\n",
       "      <td>...</td>\n",
       "      <td>0.634931</td>\n",
       "      <td>0.023438</td>\n",
       "      <td>5</td>\n",
       "      <td>0.802516</td>\n",
       "      <td>0.788417</td>\n",
       "      <td>0.791409</td>\n",
       "      <td>0.791685</td>\n",
       "      <td>0.815188</td>\n",
       "      <td>0.797843</td>\n",
       "      <td>0.009908</td>\n",
       "    </tr>\n",
       "  </tbody>\n",
       "</table>\n",
       "<p>5 rows × 21 columns</p>\n",
       "</div>"
      ],
      "text/plain": [
       "   mean_fit_time  std_fit_time  mean_score_time  std_score_time  \\\n",
       "0       0.006382      0.001353         0.001796        0.000747   \n",
       "1       0.009174      0.001932         0.001596        0.000799   \n",
       "2       0.009175      0.000399         0.001796        0.000399   \n",
       "3       0.013554      0.000788         0.001796        0.000399   \n",
       "4       0.019551      0.003709         0.001792        0.000397   \n",
       "\n",
       "  param_max_depth            params  split0_test_score  split1_test_score  \\\n",
       "0               1  {'max_depth': 1}           0.148279           0.250600   \n",
       "1               2  {'max_depth': 2}           0.334179           0.409777   \n",
       "2               3  {'max_depth': 3}           0.489701           0.525490   \n",
       "3               5  {'max_depth': 5}           0.626086           0.609758   \n",
       "4               7  {'max_depth': 7}           0.604667           0.624143   \n",
       "\n",
       "   split2_test_score  split3_test_score  ...  mean_test_score  std_test_score  \\\n",
       "0           0.173528           0.214089  ...         0.190694        0.036858   \n",
       "1           0.385312           0.371040  ...         0.369203        0.027158   \n",
       "2           0.508535           0.486439  ...         0.497005        0.017887   \n",
       "3           0.632954           0.630460  ...         0.608838        0.032958   \n",
       "4           0.669954           0.653267  ...         0.634931        0.023438   \n",
       "\n",
       "   rank_test_score  split0_train_score  split1_train_score  \\\n",
       "0               10            0.208055            0.187155   \n",
       "1                9            0.386039            0.375236   \n",
       "2                8            0.540205            0.533612   \n",
       "3                7            0.689878            0.680031   \n",
       "4                5            0.802516            0.788417   \n",
       "\n",
       "   split2_train_score  split3_train_score  split4_train_score  \\\n",
       "0            0.206476            0.197105            0.209390   \n",
       "1            0.382193            0.385663            0.391458   \n",
       "2            0.534700            0.539589            0.554729   \n",
       "3            0.683313            0.675194            0.711747   \n",
       "4            0.791409            0.791685            0.815188   \n",
       "\n",
       "   mean_train_score  std_train_score  \n",
       "0          0.201636         0.008426  \n",
       "1          0.384118         0.005339  \n",
       "2          0.540567         0.007543  \n",
       "3          0.688033         0.012782  \n",
       "4          0.797843         0.009908  \n",
       "\n",
       "[5 rows x 21 columns]"
      ]
     },
     "execution_count": 71,
     "metadata": {},
     "output_type": "execute_result"
    }
   ],
   "source": [
    "result = pd.DataFrame(grid_dt.cv_results_)\n",
    "result.head()"
   ]
  },
  {
   "cell_type": "code",
   "execution_count": 72,
   "id": "boolean-idaho",
   "metadata": {},
   "outputs": [
    {
     "data": {
      "image/png": "[encoded data removed]",
      "text/plain": [
       "<Figure size 1080x360 with 1 Axes>"
      ]
     },
     "metadata": {
      "needs_background": "light"
     },
     "output_type": "display_data"
    }
   ],
   "source": [
    "%matplotlib inline\n",
    "\n",
    "plt.subplots(figsize = (15,5))\n",
    "plt.plot(range(result['params'].shape[0]), result['mean_train_score'], label = 'mean train score')\n",
    "plt.plot(range(result['params'].shape[0]), result['mean_test_score'], label = 'mean test score')\n",
    "plt.xticks(range(result['params'].shape[0]), result['params'], rotation = 90)\n",
    "plt.plot([grid_dt.best_index_], result['mean_train_score'][grid_dt.best_index_], 'o', markersize = 15, fillstyle = 'none')\n",
    "plt.plot([grid_dt.best_index_], result['mean_test_score'][grid_dt.best_index_], 'o', markersize = 15, fillstyle = 'none')\n",
    "plt.legend()\n",
    "plt.grid()"
   ]
  },
  {
   "cell_type": "markdown",
   "id": "alpine-bathroom",
   "metadata": {},
   "source": [
    "## Decission Tree with maximum depth of 10 is yeilding us a better result we will check this on our test sample."
   ]
  },
  {
   "cell_type": "code",
   "execution_count": 73,
   "id": "prime-gasoline",
   "metadata": {},
   "outputs": [
    {
     "name": "stdout",
     "output_type": "stream",
     "text": [
      "Decission Tree 0.5937184171901747\n"
     ]
    }
   ],
   "source": [
    "model_dtr=DecisionTreeRegressor(max_depth=10)\n",
    "model_dtr.fit(X_train, y_train)\n",
    "print(\"Decission Tree\",model_dtr.score(X_test, y_test))"
   ]
  },
  {
   "cell_type": "markdown",
   "id": "inside-documentation",
   "metadata": {},
   "source": [
    "##  We are getting better result on KNN regressor but a score of 59.37% is better than any other regressor."
   ]
  },
  {
   "cell_type": "markdown",
   "id": "expected-trainer",
   "metadata": {},
   "source": [
    "## Finally to conclude KNN regresor was the best model built so far."
   ]
  }
 ],
 "metadata": {
  "kernelspec": {
   "display_name": "Python 3",
   "language": "python",
   "name": "python3"
  },
  "language_info": {
   "codemirror_mode": {
    "name": "ipython",
    "version": 3
   },
   "file_extension": ".py",
   "mimetype": "text/x-python",
   "name": "python",
   "nbconvert_exporter": "python",
   "pygments_lexer": "ipython3",
   "version": "3.8.8"
  }
 },
 "nbformat": 4,
 "nbformat_minor": 5
}

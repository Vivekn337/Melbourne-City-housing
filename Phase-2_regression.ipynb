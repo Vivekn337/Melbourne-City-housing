{
 "cells": [
  {
   "cell_type": "code",
   "execution_count": 83,
   "id": "correct-classroom",
   "metadata": {},
   "outputs": [],
   "source": [
    "import pandas as pd\n",
    "import numpy as np\n",
    "mel_data=pd.read_csv(\"melb_data.csv\")"
   ]
  },
  {
   "cell_type": "code",
   "execution_count": 84,
   "id": "waiting-static",
   "metadata": {},
   "outputs": [
    {
     "name": "stdout",
     "output_type": "stream",
     "text": [
      "<class 'pandas.core.frame.DataFrame'>\n",
      "RangeIndex: 9548 entries, 0 to 9547\n",
      "Data columns (total 21 columns):\n",
      " #   Column         Non-Null Count  Dtype  \n",
      "---  ------         --------------  -----  \n",
      " 0   Suburb         9548 non-null   object \n",
      " 1   Address        9548 non-null   object \n",
      " 2   Rooms          9548 non-null   int64  \n",
      " 3   Type           9548 non-null   object \n",
      " 4   Price          9548 non-null   int64  \n",
      " 5   Method         9548 non-null   object \n",
      " 6   SellerG        9548 non-null   object \n",
      " 7   Date           9548 non-null   object \n",
      " 8   Distance       9548 non-null   float64\n",
      " 9   Postcode       9548 non-null   int64  \n",
      " 10  Bedroom2       9548 non-null   int64  \n",
      " 11  Bathroom       9548 non-null   int64  \n",
      " 12  Car            9486 non-null   float64\n",
      " 13  Landsize       9548 non-null   int64  \n",
      " 14  BuildingArea   7130 non-null   float64\n",
      " 15  YearBuilt      8205 non-null   float64\n",
      " 16  CouncilArea    8181 non-null   object \n",
      " 17  Lattitude      9548 non-null   float64\n",
      " 18  Longtitude     9548 non-null   float64\n",
      " 19  Regionname     9548 non-null   object \n",
      " 20  Propertycount  9548 non-null   int64  \n",
      "dtypes: float64(6), int64(7), object(8)\n",
      "memory usage: 1.5+ MB\n"
     ]
    }
   ],
   "source": [
    "mel_data.info()"
   ]
  },
  {
   "cell_type": "code",
   "execution_count": 85,
   "id": "retired-learning",
   "metadata": {},
   "outputs": [],
   "source": [
    "mel_data.drop('Suburb',axis=1,inplace=True)\n",
    "mel_data.drop('Address',axis=1,inplace=True)\n",
    "mel_data.drop('SellerG',axis=1,inplace=True)\n",
    "mel_data.drop('CouncilArea',axis=1,inplace=True)\n",
    "mel_data.drop('Propertycount',axis=1,inplace=True)"
   ]
  },
  {
   "cell_type": "code",
   "execution_count": 86,
   "id": "threaded-evanescence",
   "metadata": {},
   "outputs": [
    {
     "name": "stdout",
     "output_type": "stream",
     "text": [
      "<class 'pandas.core.frame.DataFrame'>\n",
      "RangeIndex: 9548 entries, 0 to 9547\n",
      "Data columns (total 16 columns):\n",
      " #   Column        Non-Null Count  Dtype  \n",
      "---  ------        --------------  -----  \n",
      " 0   Rooms         9548 non-null   int64  \n",
      " 1   Type          9548 non-null   object \n",
      " 2   Price         9548 non-null   int64  \n",
      " 3   Method        9548 non-null   object \n",
      " 4   Date          9548 non-null   object \n",
      " 5   Distance      9548 non-null   float64\n",
      " 6   Postcode      9548 non-null   int64  \n",
      " 7   Bedroom2      9548 non-null   int64  \n",
      " 8   Bathroom      9548 non-null   int64  \n",
      " 9   Car           9486 non-null   float64\n",
      " 10  Landsize      9548 non-null   int64  \n",
      " 11  BuildingArea  7130 non-null   float64\n",
      " 12  YearBuilt     8205 non-null   float64\n",
      " 13  Lattitude     9548 non-null   float64\n",
      " 14  Longtitude    9548 non-null   float64\n",
      " 15  Regionname    9548 non-null   object \n",
      "dtypes: float64(6), int64(6), object(4)\n",
      "memory usage: 1.2+ MB\n"
     ]
    }
   ],
   "source": [
    "mel_data.info()"
   ]
  },
  {
   "cell_type": "code",
   "execution_count": 87,
   "id": "occasional-genetics",
   "metadata": {},
   "outputs": [],
   "source": [
    "mel_data['Date'] = pd.DatetimeIndex(mel_data['Date']).year"
   ]
  },
  {
   "cell_type": "code",
   "execution_count": 88,
   "id": "bright-sodium",
   "metadata": {},
   "outputs": [
    {
     "data": {
      "text/plain": [
       "Text(0.5, 1.0, 'House price')"
      ]
     },
     "execution_count": 88,
     "metadata": {},
     "output_type": "execute_result"
    },
    {
     "data": {
      "image/png": "[encoded data removed]",
      "text/plain": [
       "<Figure size 432x288 with 1 Axes>"
      ]
     },
     "metadata": {
      "needs_background": "light"
     },
     "output_type": "display_data"
    }
   ],
   "source": [
    "import pandas as pd\n",
    "import matplotlib.pyplot as plt\n",
    "mel_data['Price'].hist()\n",
    "plt.title('House price')"
   ]
  },
  {
   "cell_type": "code",
   "execution_count": 89,
   "id": "after-reduction",
   "metadata": {},
   "outputs": [
    {
     "data": {
      "text/plain": [
       "S     6176\n",
       "SP    1270\n",
       "PI    1148\n",
       "VB     886\n",
       "SA      68\n",
       "Name: Method, dtype: int64"
      ]
     },
     "execution_count": 89,
     "metadata": {},
     "output_type": "execute_result"
    }
   ],
   "source": [
    "mel_data['Method'].value_counts() "
   ]
  },
  {
   "cell_type": "code",
   "execution_count": 90,
   "id": "lovely-listing",
   "metadata": {},
   "outputs": [
    {
     "data": {
      "text/plain": [
       "<AxesSubplot:title={'center':'Number of bedrooms'}>"
      ]
     },
     "execution_count": 90,
     "metadata": {},
     "output_type": "execute_result"
    },
    {
     "data": {
      "image/png": "[encoded data removed]",
      "text/plain": [
       "<Figure size 432x288 with 1 Axes>"
      ]
     },
     "metadata": {
      "needs_background": "light"
     },
     "output_type": "display_data"
    }
   ],
   "source": [
    "mel_data['Bedroom2'].value_counts().plot(kind='bar', \n",
    "                                         title='Number of bedrooms')"
   ]
  },
  {
   "cell_type": "code",
   "execution_count": 91,
   "id": "decreased-consensus",
   "metadata": {},
   "outputs": [
    {
     "data": {
      "text/plain": [
       "<AxesSubplot:title={'center':'Number of Bathrooms'}>"
      ]
     },
     "execution_count": 91,
     "metadata": {},
     "output_type": "execute_result"
    },
    {
     "data": {
      "image/png": "[encoded data removed]",
      "text/plain": [
       "<Figure size 432x288 with 1 Axes>"
      ]
     },
     "metadata": {
      "needs_background": "light"
     },
     "output_type": "display_data"
    }
   ],
   "source": [
    "mel_data['Bathroom'].value_counts().plot(kind='bar', \n",
    "                                         title='Number of Bathrooms')"
   ]
  },
  {
   "cell_type": "code",
   "execution_count": 92,
   "id": "standard-aquarium",
   "metadata": {},
   "outputs": [
    {
     "data": {
      "text/html": [
       "<div>\n",
       "<style scoped>\n",
       "    .dataframe tbody tr th:only-of-type {\n",
       "        vertical-align: middle;\n",
       "    }\n",
       "\n",
       "    .dataframe tbody tr th {\n",
       "        vertical-align: top;\n",
       "    }\n",
       "\n",
       "    .dataframe thead th {\n",
       "        text-align: right;\n",
       "    }\n",
       "</style>\n",
       "<table border=\"1\" class=\"dataframe\">\n",
       "  <thead>\n",
       "    <tr style=\"text-align: right;\">\n",
       "      <th>Bathroom</th>\n",
       "      <th>0</th>\n",
       "      <th>1</th>\n",
       "      <th>2</th>\n",
       "      <th>3</th>\n",
       "      <th>4</th>\n",
       "      <th>5</th>\n",
       "      <th>6</th>\n",
       "      <th>7</th>\n",
       "      <th>8</th>\n",
       "    </tr>\n",
       "    <tr>\n",
       "      <th>Bedroom2</th>\n",
       "      <th></th>\n",
       "      <th></th>\n",
       "      <th></th>\n",
       "      <th></th>\n",
       "      <th></th>\n",
       "      <th></th>\n",
       "      <th></th>\n",
       "      <th></th>\n",
       "      <th></th>\n",
       "    </tr>\n",
       "  </thead>\n",
       "  <tbody>\n",
       "    <tr>\n",
       "      <th>0</th>\n",
       "      <td>1</td>\n",
       "      <td>2</td>\n",
       "      <td>3</td>\n",
       "      <td>0</td>\n",
       "      <td>0</td>\n",
       "      <td>0</td>\n",
       "      <td>0</td>\n",
       "      <td>0</td>\n",
       "      <td>0</td>\n",
       "    </tr>\n",
       "    <tr>\n",
       "      <th>1</th>\n",
       "      <td>0</td>\n",
       "      <td>481</td>\n",
       "      <td>7</td>\n",
       "      <td>1</td>\n",
       "      <td>0</td>\n",
       "      <td>0</td>\n",
       "      <td>0</td>\n",
       "      <td>0</td>\n",
       "      <td>0</td>\n",
       "    </tr>\n",
       "    <tr>\n",
       "      <th>2</th>\n",
       "      <td>0</td>\n",
       "      <td>2168</td>\n",
       "      <td>393</td>\n",
       "      <td>7</td>\n",
       "      <td>0</td>\n",
       "      <td>0</td>\n",
       "      <td>0</td>\n",
       "      <td>0</td>\n",
       "      <td>0</td>\n",
       "    </tr>\n",
       "    <tr>\n",
       "      <th>3</th>\n",
       "      <td>2</td>\n",
       "      <td>2063</td>\n",
       "      <td>1835</td>\n",
       "      <td>131</td>\n",
       "      <td>5</td>\n",
       "      <td>0</td>\n",
       "      <td>0</td>\n",
       "      <td>0</td>\n",
       "      <td>0</td>\n",
       "    </tr>\n",
       "    <tr>\n",
       "      <th>4</th>\n",
       "      <td>0</td>\n",
       "      <td>274</td>\n",
       "      <td>1283</td>\n",
       "      <td>363</td>\n",
       "      <td>38</td>\n",
       "      <td>3</td>\n",
       "      <td>0</td>\n",
       "      <td>0</td>\n",
       "      <td>0</td>\n",
       "    </tr>\n",
       "    <tr>\n",
       "      <th>5</th>\n",
       "      <td>0</td>\n",
       "      <td>10</td>\n",
       "      <td>176</td>\n",
       "      <td>183</td>\n",
       "      <td>37</td>\n",
       "      <td>20</td>\n",
       "      <td>3</td>\n",
       "      <td>0</td>\n",
       "      <td>0</td>\n",
       "    </tr>\n",
       "    <tr>\n",
       "      <th>6</th>\n",
       "      <td>0</td>\n",
       "      <td>2</td>\n",
       "      <td>14</td>\n",
       "      <td>23</td>\n",
       "      <td>6</td>\n",
       "      <td>0</td>\n",
       "      <td>1</td>\n",
       "      <td>0</td>\n",
       "      <td>0</td>\n",
       "    </tr>\n",
       "    <tr>\n",
       "      <th>7</th>\n",
       "      <td>0</td>\n",
       "      <td>0</td>\n",
       "      <td>1</td>\n",
       "      <td>4</td>\n",
       "      <td>2</td>\n",
       "      <td>0</td>\n",
       "      <td>0</td>\n",
       "      <td>0</td>\n",
       "      <td>0</td>\n",
       "    </tr>\n",
       "    <tr>\n",
       "      <th>8</th>\n",
       "      <td>0</td>\n",
       "      <td>0</td>\n",
       "      <td>0</td>\n",
       "      <td>1</td>\n",
       "      <td>1</td>\n",
       "      <td>0</td>\n",
       "      <td>0</td>\n",
       "      <td>0</td>\n",
       "      <td>0</td>\n",
       "    </tr>\n",
       "    <tr>\n",
       "      <th>9</th>\n",
       "      <td>0</td>\n",
       "      <td>0</td>\n",
       "      <td>0</td>\n",
       "      <td>0</td>\n",
       "      <td>0</td>\n",
       "      <td>0</td>\n",
       "      <td>1</td>\n",
       "      <td>1</td>\n",
       "      <td>1</td>\n",
       "    </tr>\n",
       "    <tr>\n",
       "      <th>10</th>\n",
       "      <td>0</td>\n",
       "      <td>0</td>\n",
       "      <td>0</td>\n",
       "      <td>1</td>\n",
       "      <td>0</td>\n",
       "      <td>0</td>\n",
       "      <td>0</td>\n",
       "      <td>0</td>\n",
       "      <td>0</td>\n",
       "    </tr>\n",
       "  </tbody>\n",
       "</table>\n",
       "</div>"
      ],
      "text/plain": [
       "Bathroom  0     1     2    3   4   5  6  7  8\n",
       "Bedroom2                                     \n",
       "0         1     2     3    0   0   0  0  0  0\n",
       "1         0   481     7    1   0   0  0  0  0\n",
       "2         0  2168   393    7   0   0  0  0  0\n",
       "3         2  2063  1835  131   5   0  0  0  0\n",
       "4         0   274  1283  363  38   3  0  0  0\n",
       "5         0    10   176  183  37  20  3  0  0\n",
       "6         0     2    14   23   6   0  1  0  0\n",
       "7         0     0     1    4   2   0  0  0  0\n",
       "8         0     0     0    1   1   0  0  0  0\n",
       "9         0     0     0    0   0   0  1  1  1\n",
       "10        0     0     0    1   0   0  0  0  0"
      ]
     },
     "execution_count": 92,
     "metadata": {},
     "output_type": "execute_result"
    }
   ],
   "source": [
    "pclass_xt = pd.crosstab(mel_data['Bedroom2'], mel_data['Bathroom'])\n",
    "pclass_xt"
   ]
  },
  {
   "cell_type": "code",
   "execution_count": 93,
   "id": "bigger-warren",
   "metadata": {},
   "outputs": [
    {
     "data": {
      "text/plain": [
       "Text(0, 0.5, 'Bathroom')"
      ]
     },
     "execution_count": 93,
     "metadata": {},
     "output_type": "execute_result"
    },
    {
     "data": {
      "image/png": "[encoded data removed]",
      "text/plain": [
       "<Figure size 432x288 with 1 Axes>"
      ]
     },
     "metadata": {
      "needs_background": "light"
     },
     "output_type": "display_data"
    }
   ],
   "source": [
    "pclass_xt_pct = pclass_xt.div(pclass_xt.sum(1).astype(float), axis=0)\n",
    "\n",
    "pclass_xt_pct.plot(kind='bar', \n",
    "                   stacked=True, \n",
    "                   title='Survival Rate by Passenger Classes')\n",
    "plt.xlabel('Bedroom')\n",
    "plt.ylabel('Bathroom')"
   ]
  },
  {
   "cell_type": "code",
   "execution_count": 94,
   "id": "accomplished-decision",
   "metadata": {},
   "outputs": [
    {
     "data": {
      "text/plain": [
       "<AxesSubplot:title={'center':'Years'}>"
      ]
     },
     "execution_count": 94,
     "metadata": {},
     "output_type": "execute_result"
    },
    {
     "data": {
      "image/png": "[encoded data removed]",
      "text/plain": [
       "<Figure size 432x288 with 1 Axes>"
      ]
     },
     "metadata": {
      "needs_background": "light"
     },
     "output_type": "display_data"
    }
   ],
   "source": [
    "mel_data['Date'].value_counts().plot(kind='bar', \n",
    "                                         title='Years')"
   ]
  },
  {
   "cell_type": "code",
   "execution_count": 95,
   "id": "professional-budget",
   "metadata": {},
   "outputs": [
    {
     "data": {
      "text/plain": [
       "<AxesSubplot:title={'center':'Distance'}>"
      ]
     },
     "execution_count": 95,
     "metadata": {},
     "output_type": "execute_result"
    },
    {
     "data": {
      "image/png": "[encoded data removed]",
      "text/plain": [
       "<Figure size 432x288 with 1 Axes>"
      ]
     },
     "metadata": {
      "needs_background": "light"
     },
     "output_type": "display_data"
    }
   ],
   "source": [
    "mel_data['Distance'].value_counts().plot(kind='bar', \n",
    "                                         title='Distance')"
   ]
  },
  {
   "cell_type": "code",
   "execution_count": 96,
   "id": "further-modification",
   "metadata": {},
   "outputs": [],
   "source": [
    "mel_data['ratio']=mel_data['BuildingArea']/mel_data['Landsize']"
   ]
  },
  {
   "cell_type": "code",
   "execution_count": 97,
   "id": "phantom-talent",
   "metadata": {},
   "outputs": [
    {
     "data": {
      "image/png": "[encoded data removed]",
      "text/plain": [
       "<Figure size 432x288 with 1 Axes>"
      ]
     },
     "metadata": {
      "needs_background": "light"
     },
     "output_type": "display_data"
    }
   ],
   "source": [
    "ax1 = mel_data.plot.scatter(x='Landsize',\n",
    "                      y='Price',\n",
    "                      c='DarkBlue')"
   ]
  },
  {
   "cell_type": "code",
   "execution_count": 98,
   "id": "future-steering",
   "metadata": {},
   "outputs": [
    {
     "data": {
      "image/png": "[encoded data removed]",
      "text/plain": [
       "<Figure size 432x288 with 1 Axes>"
      ]
     },
     "metadata": {
      "needs_background": "light"
     },
     "output_type": "display_data"
    }
   ],
   "source": [
    "ax1 = mel_data.plot.scatter(x='BuildingArea',\n",
    "                      y='Price',\n",
    "                      c='DarkBlue')"
   ]
  },
  {
   "cell_type": "code",
   "execution_count": 99,
   "id": "spread-procedure",
   "metadata": {},
   "outputs": [
    {
     "data": {
      "text/plain": [
       "Text(0.5, 1.0, 'Built Area')"
      ]
     },
     "execution_count": 99,
     "metadata": {},
     "output_type": "execute_result"
    },
    {
     "data": {
      "image/png": "[encoded data removed]",
      "text/plain": [
       "<Figure size 432x288 with 1 Axes>"
      ]
     },
     "metadata": {
      "needs_background": "light"
     },
     "output_type": "display_data"
    }
   ],
   "source": [
    "mel_data['BuildingArea'].hist()\n",
    "plt.title('Built Area')"
   ]
  },
  {
   "cell_type": "code",
   "execution_count": 100,
   "id": "discrete-packaging",
   "metadata": {},
   "outputs": [
    {
     "data": {
      "text/plain": [
       "151.96764988779805"
      ]
     },
     "execution_count": 100,
     "metadata": {},
     "output_type": "execute_result"
    }
   ],
   "source": [
    "mel_data['BuildingArea'].mean()"
   ]
  },
  {
   "cell_type": "code",
   "execution_count": 101,
   "id": "hearing-toronto",
   "metadata": {},
   "outputs": [],
   "source": [
    "mel_data['BuildingArea'].replace(np.NaN,mel_data['BuildingArea'].mean(),inplace=True)"
   ]
  },
  {
   "cell_type": "code",
   "execution_count": 102,
   "id": "funded-toolbox",
   "metadata": {},
   "outputs": [
    {
     "data": {
      "text/plain": [
       "2.0     3986\n",
       "1.0     3915\n",
       "0.0      620\n",
       "3.0      514\n",
       "4.0      345\n",
       "5.0       48\n",
       "6.0       40\n",
       "8.0        8\n",
       "7.0        6\n",
       "10.0       3\n",
       "9.0        1\n",
       "Name: Car, dtype: int64"
      ]
     },
     "execution_count": 102,
     "metadata": {},
     "output_type": "execute_result"
    }
   ],
   "source": [
    "mel_data['Car'].value_counts()"
   ]
  },
  {
   "cell_type": "code",
   "execution_count": 103,
   "id": "chinese-reynolds",
   "metadata": {},
   "outputs": [],
   "source": [
    "mel_data['Car'].replace(np.NaN,1.0,inplace=True)"
   ]
  },
  {
   "cell_type": "code",
   "execution_count": 104,
   "id": "mounted-briefs",
   "metadata": {},
   "outputs": [
    {
     "data": {
      "text/plain": [
       "1970.0    866\n",
       "1960.0    725\n",
       "1950.0    580\n",
       "1900.0    341\n",
       "1980.0    338\n",
       "         ... \n",
       "1897.0      1\n",
       "1892.0      1\n",
       "1862.0      1\n",
       "1942.0      1\n",
       "1830.0      1\n",
       "Name: YearBuilt, Length: 144, dtype: int64"
      ]
     },
     "execution_count": 104,
     "metadata": {},
     "output_type": "execute_result"
    }
   ],
   "source": [
    "mel_data['YearBuilt'].value_counts()"
   ]
  },
  {
   "cell_type": "code",
   "execution_count": 105,
   "id": "informal-andrews",
   "metadata": {},
   "outputs": [],
   "source": [
    "mel_data['YearBuilt'].replace(np.NaN,1970,inplace=True)"
   ]
  },
  {
   "cell_type": "code",
   "execution_count": 106,
   "id": "governmental-parts",
   "metadata": {},
   "outputs": [],
   "source": [
    "mel_data['ratio']=mel_data['BuildingArea']/mel_data['Landsize']"
   ]
  },
  {
   "cell_type": "code",
   "execution_count": 107,
   "id": "reduced-handling",
   "metadata": {},
   "outputs": [
    {
     "data": {
      "image/png": "[encoded data removed]",
      "text/plain": [
       "<Figure size 432x288 with 1 Axes>"
      ]
     },
     "metadata": {
      "needs_background": "light"
     },
     "output_type": "display_data"
    }
   ],
   "source": [
    "ax1 = mel_data.plot.scatter(x='ratio',\n",
    "                      y='Price',\n",
    "                      c='DarkBlue')"
   ]
  },
  {
   "cell_type": "code",
   "execution_count": 108,
   "id": "weighted-cameroon",
   "metadata": {},
   "outputs": [
    {
     "data": {
      "text/plain": [
       "<matplotlib.legend.Legend at 0x1e74a9e5310>"
      ]
     },
     "execution_count": 108,
     "metadata": {},
     "output_type": "execute_result"
    },
    {
     "data": {
      "image/png": "[encoded data removed]",
      "text/plain": [
       "<Figure size 432x288 with 1 Axes>"
      ]
     },
     "metadata": {
      "needs_background": "light"
     },
     "output_type": "display_data"
    }
   ],
   "source": [
    "region=sorted(mel_data['Regionname'].unique())\n",
    "for reg in region:\n",
    "    mel_data.Price[mel_data.Regionname==reg].plot(kind='kde')\n",
    "\n",
    "    \n",
    "plt.title('Price variation')\n",
    "plt.xlabel('Price')\n",
    "plt.legend(('Eastern Metropolitan', 'Eastern Victoria', 'Northern Metropolitan','Northern Victoria'\n",
    ",'South-Eastern Metropolitan','Southern Metropolitan','Western Metropolitan','Western Victoria'), loc='best')"
   ]
  },
  {
   "cell_type": "code",
   "execution_count": 109,
   "id": "varying-brazilian",
   "metadata": {},
   "outputs": [
    {
     "data": {
      "text/plain": [
       "['Eastern Metropolitan',\n",
       " 'Eastern Victoria',\n",
       " 'Northern Metropolitan',\n",
       " 'Northern Victoria',\n",
       " 'South-Eastern Metropolitan',\n",
       " 'Southern Metropolitan',\n",
       " 'Western Metropolitan',\n",
       " 'Western Victoria']"
      ]
     },
     "execution_count": 109,
     "metadata": {},
     "output_type": "execute_result"
    }
   ],
   "source": [
    "sorted(mel_data['Regionname'].unique())"
   ]
  },
  {
   "cell_type": "code",
   "execution_count": 110,
   "id": "after-storage",
   "metadata": {},
   "outputs": [],
   "source": [
    "mel_data.drop('ratio',axis=1,inplace=True)"
   ]
  },
  {
   "cell_type": "code",
   "execution_count": 111,
   "id": "roman-french",
   "metadata": {},
   "outputs": [
    {
     "name": "stdout",
     "output_type": "stream",
     "text": [
      "<class 'pandas.core.frame.DataFrame'>\n",
      "RangeIndex: 9548 entries, 0 to 9547\n",
      "Data columns (total 16 columns):\n",
      " #   Column        Non-Null Count  Dtype  \n",
      "---  ------        --------------  -----  \n",
      " 0   Rooms         9548 non-null   int64  \n",
      " 1   Type          9548 non-null   object \n",
      " 2   Price         9548 non-null   int64  \n",
      " 3   Method        9548 non-null   object \n",
      " 4   Date          9548 non-null   int64  \n",
      " 5   Distance      9548 non-null   float64\n",
      " 6   Postcode      9548 non-null   int64  \n",
      " 7   Bedroom2      9548 non-null   int64  \n",
      " 8   Bathroom      9548 non-null   int64  \n",
      " 9   Car           9548 non-null   float64\n",
      " 10  Landsize      9548 non-null   int64  \n",
      " 11  BuildingArea  9548 non-null   float64\n",
      " 12  YearBuilt     9548 non-null   float64\n",
      " 13  Lattitude     9548 non-null   float64\n",
      " 14  Longtitude    9548 non-null   float64\n",
      " 15  Regionname    9548 non-null   object \n",
      "dtypes: float64(6), int64(7), object(3)\n",
      "memory usage: 1.2+ MB\n"
     ]
    }
   ],
   "source": [
    "mel_data.info()"
   ]
  },
  {
   "cell_type": "code",
   "execution_count": 112,
   "id": "other-network",
   "metadata": {},
   "outputs": [],
   "source": [
    "cols=pd.get_dummies(mel_data['Type'], prefix=\"Type\")\n",
    "mel_data[cols.columns]=cols\n",
    "mel_data.drop(\"Type\", axis=1, inplace=True)"
   ]
  },
  {
   "cell_type": "code",
   "execution_count": 113,
   "id": "straight-train",
   "metadata": {},
   "outputs": [],
   "source": [
    "cols=pd.get_dummies(mel_data['Method'], prefix=\"Method\")\n",
    "mel_data[cols.columns]=cols\n",
    "mel_data.drop(\"Method\", axis=1, inplace=True)"
   ]
  },
  {
   "cell_type": "code",
   "execution_count": 114,
   "id": "victorian-double",
   "metadata": {},
   "outputs": [],
   "source": [
    "cols=pd.get_dummies(mel_data['Regionname'], prefix=\"Regionname\")\n",
    "mel_data[cols.columns]=cols\n",
    "mel_data.drop(\"Regionname\", axis=1, inplace=True)"
   ]
  },
  {
   "cell_type": "code",
   "execution_count": 115,
   "id": "resistant-binding",
   "metadata": {},
   "outputs": [
    {
     "name": "stdout",
     "output_type": "stream",
     "text": [
      "<class 'pandas.core.frame.DataFrame'>\n",
      "RangeIndex: 9548 entries, 0 to 9547\n",
      "Data columns (total 29 columns):\n",
      " #   Column                                 Non-Null Count  Dtype  \n",
      "---  ------                                 --------------  -----  \n",
      " 0   Rooms                                  9548 non-null   int64  \n",
      " 1   Price                                  9548 non-null   int64  \n",
      " 2   Date                                   9548 non-null   int64  \n",
      " 3   Distance                               9548 non-null   float64\n",
      " 4   Postcode                               9548 non-null   int64  \n",
      " 5   Bedroom2                               9548 non-null   int64  \n",
      " 6   Bathroom                               9548 non-null   int64  \n",
      " 7   Car                                    9548 non-null   float64\n",
      " 8   Landsize                               9548 non-null   int64  \n",
      " 9   BuildingArea                           9548 non-null   float64\n",
      " 10  YearBuilt                              9548 non-null   float64\n",
      " 11  Lattitude                              9548 non-null   float64\n",
      " 12  Longtitude                             9548 non-null   float64\n",
      " 13  Type_h                                 9548 non-null   uint8  \n",
      " 14  Type_t                                 9548 non-null   uint8  \n",
      " 15  Type_u                                 9548 non-null   uint8  \n",
      " 16  Method_PI                              9548 non-null   uint8  \n",
      " 17  Method_S                               9548 non-null   uint8  \n",
      " 18  Method_SA                              9548 non-null   uint8  \n",
      " 19  Method_SP                              9548 non-null   uint8  \n",
      " 20  Method_VB                              9548 non-null   uint8  \n",
      " 21  Regionname_Eastern Metropolitan        9548 non-null   uint8  \n",
      " 22  Regionname_Eastern Victoria            9548 non-null   uint8  \n",
      " 23  Regionname_Northern Metropolitan       9548 non-null   uint8  \n",
      " 24  Regionname_Northern Victoria           9548 non-null   uint8  \n",
      " 25  Regionname_South-Eastern Metropolitan  9548 non-null   uint8  \n",
      " 26  Regionname_Southern Metropolitan       9548 non-null   uint8  \n",
      " 27  Regionname_Western Metropolitan        9548 non-null   uint8  \n",
      " 28  Regionname_Western Victoria            9548 non-null   uint8  \n",
      "dtypes: float64(6), int64(7), uint8(16)\n",
      "memory usage: 1.1 MB\n"
     ]
    }
   ],
   "source": [
    "mel_data.info()"
   ]
  },
  {
   "cell_type": "code",
   "execution_count": 116,
   "id": "focal-disposition",
   "metadata": {},
   "outputs": [],
   "source": [
    "import pandas as pd\n",
    "import numpy as np\n",
    "import matplotlib.pyplot as plt\n",
    "%matplotlib inline\n",
    "from pandas.plotting import scatter_matrix\n",
    "\n",
    "y=mel_data['Price']\n",
    "mel_data.drop('Price',axis=1,inplace=True)\n",
    "X=mel_data"
   ]
  },
  {
   "cell_type": "code",
   "execution_count": 117,
   "id": "thirty-skiing",
   "metadata": {},
   "outputs": [],
   "source": [
    "from sklearn.preprocessing import MinMaxScaler\n",
    "from sklearn.model_selection import train_test_split\n",
    "X_train_org, X_out, y_train, y_out = train_test_split(X, y, random_state = 0, test_size = 0.2)"
   ]
  },
  {
   "cell_type": "code",
   "execution_count": 118,
   "id": "champion-lloyd",
   "metadata": {},
   "outputs": [],
   "source": [
    "X_train, X_test, y_train, y_test = train_test_split(X_train_org,  y_train, random_state = 0, test_size = 0.2)"
   ]
  },
  {
   "cell_type": "markdown",
   "id": "prospective-grain",
   "metadata": {},
   "source": [
    "# Bagging"
   ]
  },
  {
   "cell_type": "markdown",
   "id": "spoken-departure",
   "metadata": {},
   "source": [
    "We are considering KNN regressor and Decission Tree regressor for bagging. We have selected best regressors among all the models to measure bagging and pasting  effects."
   ]
  },
  {
   "cell_type": "code",
   "execution_count": 44,
   "id": "happy-society",
   "metadata": {},
   "outputs": [],
   "source": [
    "from sklearn.ensemble import BaggingRegressor\n",
    "from sklearn.tree import DecisionTreeRegressor\n",
    "# bagging: bootstrap = True\n",
    "# pasting: bootstrap = False\n",
    "\n",
    "dt_clf = DecisionTreeRegressor(random_state=0)\n",
    "bag_clf = BaggingRegressor(dt_clf, n_estimators=500, max_samples=100, bootstrap=True, random_state=0, oob_score = True)\n",
    "\n",
    "bag_clf.fit(X_train, y_train)\n",
    "y_pred = bag_clf.predict(X_test)"
   ]
  },
  {
   "cell_type": "code",
   "execution_count": 45,
   "id": "nutritional-nudist",
   "metadata": {},
   "outputs": [
    {
     "name": "stdout",
     "output_type": "stream",
     "text": [
      "Train error : 0.70\n",
      "Test score: 0.63\n",
      "Out-of-bag score: 0.69\n"
     ]
    }
   ],
   "source": [
    "\n",
    "print('Train error : %.2f'%bag_clf.score(X_train, y_train))\n",
    "print('Test score: %.2f'%bag_clf.score(X_test, y_test))\n",
    "print('Out-of-bag score: %.2f'%bag_clf.oob_score_)"
   ]
  },
  {
   "cell_type": "markdown",
   "id": "physical-proof",
   "metadata": {},
   "source": [
    "We can assume model is doing well 70% of the variation in the  data is explained by our model. There seems to be a 6% \n",
    "difference between training and test model. But on the other hand we are getting a very good out of the bag score. We shall\n",
    "use knn model which had given us the best score in phase 1."
   ]
  },
  {
   "cell_type": "code",
   "execution_count": 53,
   "id": "regular-tractor",
   "metadata": {},
   "outputs": [],
   "source": [
    "from sklearn.ensemble import BaggingRegressor\n",
    "from sklearn.neighbors import KNeighborsRegressor\n",
    "# bagging: bootstrap = True\n",
    "# pasting: bootstrap = False\n",
    "\n",
    "dt_clf = KNeighborsRegressor()\n",
    "bag_clf = BaggingRegressor(dt_clf, n_estimators=500, max_samples=100, bootstrap=True, random_state=0, oob_score = True)\n",
    "\n",
    "bag_clf.fit(X_train, y_train)\n",
    "y_pred = bag_clf.predict(X_test)"
   ]
  },
  {
   "cell_type": "code",
   "execution_count": 49,
   "id": "younger-habitat",
   "metadata": {},
   "outputs": [
    {
     "name": "stdout",
     "output_type": "stream",
     "text": [
      "Train error : 0.36\n",
      "Test score: 0.32\n",
      "Out-of-bag score: 0.36\n"
     ]
    }
   ],
   "source": [
    "print('Train error : %.2f'%bag_clf.score(X_train, y_train))\n",
    "print('Test score: %.2f'%bag_clf.score(X_test, y_test))\n",
    "print('Out-of-bag score: %.2f'%bag_clf.oob_score_)"
   ]
  },
  {
   "cell_type": "markdown",
   "id": "metric-reset",
   "metadata": {},
   "source": [
    "Boot Strap aggregation works well with Decission tree. Now we shall proceed with Pasting"
   ]
  },
  {
   "cell_type": "code",
   "execution_count": 54,
   "id": "promotional-popularity",
   "metadata": {},
   "outputs": [],
   "source": [
    "from sklearn.ensemble import BaggingRegressor\n",
    "from sklearn.tree import DecisionTreeRegressor\n",
    "# bagging: bootstrap = True\n",
    "# pasting: bootstrap = False\n",
    "\n",
    "dt_clf = DecisionTreeRegressor(random_state=0)\n",
    "bag_clf = BaggingRegressor(dt_clf, n_estimators=500, max_samples=100, bootstrap=False, random_state=0)\n",
    "\n",
    "bag_clf.fit(X_train, y_train)\n",
    "y_pred = bag_clf.predict(X_test)\n"
   ]
  },
  {
   "cell_type": "code",
   "execution_count": 56,
   "id": "equal-notion",
   "metadata": {},
   "outputs": [
    {
     "name": "stdout",
     "output_type": "stream",
     "text": [
      "Train error : 0.71\n",
      "Test score: 0.63\n"
     ]
    }
   ],
   "source": [
    "print('Train error : %.2f'%bag_clf.score(X_train, y_train))\n",
    "print('Test score: %.2f'%bag_clf.score(X_test, y_test))"
   ]
  },
  {
   "cell_type": "markdown",
   "id": "incorrect-photography",
   "metadata": {},
   "source": [
    "Sampling without replacement is giving a better training score than boot straping but test has not changed."
   ]
  },
  {
   "cell_type": "code",
   "execution_count": 57,
   "id": "worldwide-kruger",
   "metadata": {},
   "outputs": [],
   "source": [
    "from sklearn.ensemble import BaggingRegressor\n",
    "from sklearn.neighbors import KNeighborsRegressor\n",
    "# bagging: bootstrap = True\n",
    "# pasting: bootstrap = False\n",
    "\n",
    "dt_clf = KNeighborsRegressor()\n",
    "bag_clf = BaggingRegressor(dt_clf, n_estimators=500, max_samples=100, bootstrap=False, random_state=0)\n",
    "\n",
    "bag_clf.fit(X_train, y_train)\n",
    "y_pred = bag_clf.predict(X_test)"
   ]
  },
  {
   "cell_type": "code",
   "execution_count": 58,
   "id": "rough-collins",
   "metadata": {},
   "outputs": [
    {
     "name": "stdout",
     "output_type": "stream",
     "text": [
      "Train error : 0.36\n",
      "Test score: 0.31\n"
     ]
    }
   ],
   "source": [
    "print('Train error : %.2f'%bag_clf.score(X_train, y_train))\n",
    "print('Test score: %.2f'%bag_clf.score(X_test, y_test))"
   ]
  },
  {
   "cell_type": "markdown",
   "id": "controlled-integer",
   "metadata": {},
   "source": [
    "Again we can see that we do not see test score improvement but train score has incresed by 1%. We can conclude that \n",
    "bootstraping and pasting do not much difference in the output result. Since we are getting better result with decision classifiers lets try ada boost and gradient descent with decision classifier. We can also use KNN regressor for the sake of comparison."
   ]
  },
  {
   "cell_type": "code",
   "execution_count": 85,
   "id": "listed-superintendent",
   "metadata": {},
   "outputs": [
    {
     "data": {
      "text/plain": [
       "AdaBoostRegressor(base_estimator=DecisionTreeRegressor(max_depth=1),\n",
       "                  learning_rate=0.01, n_estimators=200, random_state=0)"
      ]
     },
     "execution_count": 85,
     "metadata": {},
     "output_type": "execute_result"
    }
   ],
   "source": [
    "from sklearn.ensemble import AdaBoostRegressor\n",
    "\n",
    "ada_clf = AdaBoostRegressor(DecisionTreeRegressor(max_depth=1), n_estimators=200, learning_rate=0.01, random_state=0)\n",
    "\n",
    "ada_clf.fit(X_train, y_train)"
   ]
  },
  {
   "cell_type": "code",
   "execution_count": 86,
   "id": "plastic-cyprus",
   "metadata": {},
   "outputs": [
    {
     "name": "stdout",
     "output_type": "stream",
     "text": [
      "Train error : 0.21\n",
      "Test score: 0.17\n"
     ]
    }
   ],
   "source": [
    "print('Train error : %.2f'%ada_clf.score(X_train, y_train))\n",
    "print('Test score: %.2f'%ada_clf.score(X_test, y_test))"
   ]
  },
  {
   "cell_type": "markdown",
   "id": "level-president",
   "metadata": {},
   "source": [
    "When we tried Ada boost with decision tree a learining rate of 0.5 gave us negative R-square which is a indication of not converging. When we tried with a smaller learning rate we could get a R- square of 21 on training and 17 on test data set."
   ]
  },
  {
   "cell_type": "code",
   "execution_count": 88,
   "id": "certain-height",
   "metadata": {},
   "outputs": [
    {
     "data": {
      "text/plain": [
       "AdaBoostRegressor(base_estimator=KNeighborsRegressor(), learning_rate=0.01,\n",
       "                  n_estimators=200, random_state=0)"
      ]
     },
     "execution_count": 88,
     "metadata": {},
     "output_type": "execute_result"
    }
   ],
   "source": [
    "from sklearn.ensemble import AdaBoostRegressor\n",
    "\n",
    "ada_clf = AdaBoostRegressor(KNeighborsRegressor(), n_estimators=200, learning_rate=0.01, random_state=0)\n",
    "\n",
    "ada_clf.fit(X_train, y_train)"
   ]
  },
  {
   "cell_type": "code",
   "execution_count": 89,
   "id": "atomic-square",
   "metadata": {},
   "outputs": [
    {
     "name": "stdout",
     "output_type": "stream",
     "text": [
      "Train error : 0.76\n",
      "Test score: 0.47\n"
     ]
    }
   ],
   "source": [
    "print('Train error : %.2f'%ada_clf.score(X_train, y_train))\n",
    "print('Test score: %.2f'%ada_clf.score(X_test, y_test))"
   ]
  },
  {
   "cell_type": "markdown",
   "id": "sudden-hotel",
   "metadata": {},
   "source": [
    "To our surprise Ada boost is doing well with KNN regressor model. It has a training R-square of 76% and test \n",
    "R-squatre of 47%."
   ]
  },
  {
   "cell_type": "code",
   "execution_count": 91,
   "id": "adjacent-inclusion",
   "metadata": {},
   "outputs": [
    {
     "data": {
      "text/plain": [
       "GradientBoostingRegressor(learning_rate=1.0, max_depth=2, n_estimators=200,\n",
       "                          random_state=0)"
      ]
     },
     "execution_count": 91,
     "metadata": {},
     "output_type": "execute_result"
    }
   ],
   "source": [
    "from  sklearn.ensemble import GradientBoostingRegressor\n",
    "\n",
    "gbrt = GradientBoostingRegressor(max_depth=2, n_estimators=200, learning_rate=1.0, random_state=0)\n",
    "gbrt.fit(X_train, y_train)"
   ]
  },
  {
   "cell_type": "code",
   "execution_count": 94,
   "id": "light-louisville",
   "metadata": {},
   "outputs": [
    {
     "name": "stdout",
     "output_type": "stream",
     "text": [
      "Train error : 0.90\n",
      "Test score: 0.68\n"
     ]
    }
   ],
   "source": [
    "print('Train error : %.2f'%gbrt.score(X_train, y_train))\n",
    "print('Test score: %.2f'%gbrt.score(X_test, y_test))"
   ]
  },
  {
   "cell_type": "code",
   "execution_count": 92,
   "id": "signal-journal",
   "metadata": {},
   "outputs": [
    {
     "data": {
      "text/plain": [
       "GradientBoostingRegressor(max_depth=1, n_estimators=200, random_state=0)"
      ]
     },
     "execution_count": 92,
     "metadata": {},
     "output_type": "execute_result"
    }
   ],
   "source": [
    "from  sklearn.ensemble import GradientBoostingRegressor\n",
    "\n",
    "gbrt_slow = GradientBoostingRegressor(max_depth=1, n_estimators=200, learning_rate=0.1, random_state=0)\n",
    "gbrt_slow.fit(X_train, y_train)"
   ]
  },
  {
   "cell_type": "code",
   "execution_count": 95,
   "id": "egyptian-destruction",
   "metadata": {},
   "outputs": [
    {
     "name": "stdout",
     "output_type": "stream",
     "text": [
      "Train error : 0.70\n",
      "Test score: 0.63\n"
     ]
    }
   ],
   "source": [
    "print('Train error : %.2f'%gbrt_slow.score(X_train, y_train))\n",
    "print('Test score: %.2f'%gbrt_slow.score(X_test, y_test))"
   ]
  },
  {
   "cell_type": "markdown",
   "id": "coupled-point",
   "metadata": {},
   "source": [
    "# PCA"
   ]
  },
  {
   "cell_type": "code",
   "execution_count": 44,
   "id": "selected-polish",
   "metadata": {},
   "outputs": [],
   "source": [
    "from sklearn.decomposition import PCA\n",
    "\n",
    "pca=PCA()\n",
    "pca.fit(X_train)\n",
    "pca_data=pca.transform(X_train)"
   ]
  },
  {
   "cell_type": "code",
   "execution_count": 79,
   "id": "respective-stick",
   "metadata": {},
   "outputs": [
    {
     "data": {
      "text/html": [
       "<div>\n",
       "<style scoped>\n",
       "    .dataframe tbody tr th:only-of-type {\n",
       "        vertical-align: middle;\n",
       "    }\n",
       "\n",
       "    .dataframe tbody tr th {\n",
       "        vertical-align: top;\n",
       "    }\n",
       "\n",
       "    .dataframe thead th {\n",
       "        text-align: right;\n",
       "    }\n",
       "</style>\n",
       "<table border=\"1\" class=\"dataframe\">\n",
       "  <thead>\n",
       "    <tr style=\"text-align: right;\">\n",
       "      <th></th>\n",
       "      <th>Rooms</th>\n",
       "      <th>Date</th>\n",
       "      <th>Distance</th>\n",
       "      <th>Postcode</th>\n",
       "      <th>Bedroom2</th>\n",
       "      <th>Bathroom</th>\n",
       "      <th>Car</th>\n",
       "      <th>Landsize</th>\n",
       "      <th>BuildingArea</th>\n",
       "      <th>YearBuilt</th>\n",
       "      <th>...</th>\n",
       "      <th>Method_SP</th>\n",
       "      <th>Method_VB</th>\n",
       "      <th>Regionname_Eastern Metropolitan</th>\n",
       "      <th>Regionname_Eastern Victoria</th>\n",
       "      <th>Regionname_Northern Metropolitan</th>\n",
       "      <th>Regionname_Northern Victoria</th>\n",
       "      <th>Regionname_South-Eastern Metropolitan</th>\n",
       "      <th>Regionname_Southern Metropolitan</th>\n",
       "      <th>Regionname_Western Metropolitan</th>\n",
       "      <th>Regionname_Western Victoria</th>\n",
       "    </tr>\n",
       "  </thead>\n",
       "  <tbody>\n",
       "    <tr>\n",
       "      <th>1591</th>\n",
       "      <td>3</td>\n",
       "      <td>2016</td>\n",
       "      <td>8.0</td>\n",
       "      <td>3040</td>\n",
       "      <td>3</td>\n",
       "      <td>2</td>\n",
       "      <td>2.0</td>\n",
       "      <td>188</td>\n",
       "      <td>171.00000</td>\n",
       "      <td>1900.0</td>\n",
       "      <td>...</td>\n",
       "      <td>0</td>\n",
       "      <td>0</td>\n",
       "      <td>0</td>\n",
       "      <td>0</td>\n",
       "      <td>0</td>\n",
       "      <td>0</td>\n",
       "      <td>0</td>\n",
       "      <td>0</td>\n",
       "      <td>1</td>\n",
       "      <td>0</td>\n",
       "    </tr>\n",
       "    <tr>\n",
       "      <th>3478</th>\n",
       "      <td>2</td>\n",
       "      <td>2016</td>\n",
       "      <td>11.2</td>\n",
       "      <td>3073</td>\n",
       "      <td>2</td>\n",
       "      <td>1</td>\n",
       "      <td>1.0</td>\n",
       "      <td>139</td>\n",
       "      <td>151.96765</td>\n",
       "      <td>1975.0</td>\n",
       "      <td>...</td>\n",
       "      <td>0</td>\n",
       "      <td>0</td>\n",
       "      <td>0</td>\n",
       "      <td>0</td>\n",
       "      <td>1</td>\n",
       "      <td>0</td>\n",
       "      <td>0</td>\n",
       "      <td>0</td>\n",
       "      <td>0</td>\n",
       "      <td>0</td>\n",
       "    </tr>\n",
       "    <tr>\n",
       "      <th>4352</th>\n",
       "      <td>2</td>\n",
       "      <td>2016</td>\n",
       "      <td>5.1</td>\n",
       "      <td>3181</td>\n",
       "      <td>2</td>\n",
       "      <td>1</td>\n",
       "      <td>1.0</td>\n",
       "      <td>0</td>\n",
       "      <td>71.00000</td>\n",
       "      <td>1970.0</td>\n",
       "      <td>...</td>\n",
       "      <td>0</td>\n",
       "      <td>1</td>\n",
       "      <td>0</td>\n",
       "      <td>0</td>\n",
       "      <td>0</td>\n",
       "      <td>0</td>\n",
       "      <td>0</td>\n",
       "      <td>1</td>\n",
       "      <td>0</td>\n",
       "      <td>0</td>\n",
       "    </tr>\n",
       "    <tr>\n",
       "      <th>2095</th>\n",
       "      <td>2</td>\n",
       "      <td>2016</td>\n",
       "      <td>4.6</td>\n",
       "      <td>3122</td>\n",
       "      <td>3</td>\n",
       "      <td>1</td>\n",
       "      <td>1.0</td>\n",
       "      <td>1585</td>\n",
       "      <td>151.96765</td>\n",
       "      <td>1970.0</td>\n",
       "      <td>...</td>\n",
       "      <td>0</td>\n",
       "      <td>0</td>\n",
       "      <td>0</td>\n",
       "      <td>0</td>\n",
       "      <td>0</td>\n",
       "      <td>0</td>\n",
       "      <td>0</td>\n",
       "      <td>1</td>\n",
       "      <td>0</td>\n",
       "      <td>0</td>\n",
       "    </tr>\n",
       "    <tr>\n",
       "      <th>1924</th>\n",
       "      <td>3</td>\n",
       "      <td>2016</td>\n",
       "      <td>13.0</td>\n",
       "      <td>3046</td>\n",
       "      <td>3</td>\n",
       "      <td>1</td>\n",
       "      <td>2.0</td>\n",
       "      <td>696</td>\n",
       "      <td>118.00000</td>\n",
       "      <td>1960.0</td>\n",
       "      <td>...</td>\n",
       "      <td>0</td>\n",
       "      <td>0</td>\n",
       "      <td>0</td>\n",
       "      <td>0</td>\n",
       "      <td>1</td>\n",
       "      <td>0</td>\n",
       "      <td>0</td>\n",
       "      <td>0</td>\n",
       "      <td>0</td>\n",
       "      <td>0</td>\n",
       "    </tr>\n",
       "    <tr>\n",
       "      <th>...</th>\n",
       "      <td>...</td>\n",
       "      <td>...</td>\n",
       "      <td>...</td>\n",
       "      <td>...</td>\n",
       "      <td>...</td>\n",
       "      <td>...</td>\n",
       "      <td>...</td>\n",
       "      <td>...</td>\n",
       "      <td>...</td>\n",
       "      <td>...</td>\n",
       "      <td>...</td>\n",
       "      <td>...</td>\n",
       "      <td>...</td>\n",
       "      <td>...</td>\n",
       "      <td>...</td>\n",
       "      <td>...</td>\n",
       "      <td>...</td>\n",
       "      <td>...</td>\n",
       "      <td>...</td>\n",
       "      <td>...</td>\n",
       "      <td>...</td>\n",
       "    </tr>\n",
       "    <tr>\n",
       "      <th>9476</th>\n",
       "      <td>2</td>\n",
       "      <td>2017</td>\n",
       "      <td>1.8</td>\n",
       "      <td>3051</td>\n",
       "      <td>2</td>\n",
       "      <td>1</td>\n",
       "      <td>1.0</td>\n",
       "      <td>100</td>\n",
       "      <td>67.00000</td>\n",
       "      <td>1890.0</td>\n",
       "      <td>...</td>\n",
       "      <td>0</td>\n",
       "      <td>0</td>\n",
       "      <td>0</td>\n",
       "      <td>0</td>\n",
       "      <td>1</td>\n",
       "      <td>0</td>\n",
       "      <td>0</td>\n",
       "      <td>0</td>\n",
       "      <td>0</td>\n",
       "      <td>0</td>\n",
       "    </tr>\n",
       "    <tr>\n",
       "      <th>4032</th>\n",
       "      <td>3</td>\n",
       "      <td>2016</td>\n",
       "      <td>13.5</td>\n",
       "      <td>3020</td>\n",
       "      <td>3</td>\n",
       "      <td>1</td>\n",
       "      <td>2.0</td>\n",
       "      <td>367</td>\n",
       "      <td>114.00000</td>\n",
       "      <td>1970.0</td>\n",
       "      <td>...</td>\n",
       "      <td>1</td>\n",
       "      <td>0</td>\n",
       "      <td>0</td>\n",
       "      <td>0</td>\n",
       "      <td>0</td>\n",
       "      <td>0</td>\n",
       "      <td>0</td>\n",
       "      <td>0</td>\n",
       "      <td>1</td>\n",
       "      <td>0</td>\n",
       "    </tr>\n",
       "    <tr>\n",
       "      <th>9320</th>\n",
       "      <td>4</td>\n",
       "      <td>2017</td>\n",
       "      <td>8.8</td>\n",
       "      <td>3081</td>\n",
       "      <td>4</td>\n",
       "      <td>1</td>\n",
       "      <td>1.0</td>\n",
       "      <td>654</td>\n",
       "      <td>151.96765</td>\n",
       "      <td>1960.0</td>\n",
       "      <td>...</td>\n",
       "      <td>0</td>\n",
       "      <td>0</td>\n",
       "      <td>1</td>\n",
       "      <td>0</td>\n",
       "      <td>0</td>\n",
       "      <td>0</td>\n",
       "      <td>0</td>\n",
       "      <td>0</td>\n",
       "      <td>0</td>\n",
       "      <td>0</td>\n",
       "    </tr>\n",
       "    <tr>\n",
       "      <th>4083</th>\n",
       "      <td>4</td>\n",
       "      <td>2017</td>\n",
       "      <td>11.2</td>\n",
       "      <td>3127</td>\n",
       "      <td>4</td>\n",
       "      <td>3</td>\n",
       "      <td>4.0</td>\n",
       "      <td>1064</td>\n",
       "      <td>236.00000</td>\n",
       "      <td>1969.0</td>\n",
       "      <td>...</td>\n",
       "      <td>0</td>\n",
       "      <td>0</td>\n",
       "      <td>0</td>\n",
       "      <td>0</td>\n",
       "      <td>0</td>\n",
       "      <td>0</td>\n",
       "      <td>0</td>\n",
       "      <td>1</td>\n",
       "      <td>0</td>\n",
       "      <td>0</td>\n",
       "    </tr>\n",
       "    <tr>\n",
       "      <th>5476</th>\n",
       "      <td>2</td>\n",
       "      <td>2017</td>\n",
       "      <td>11.2</td>\n",
       "      <td>3127</td>\n",
       "      <td>2</td>\n",
       "      <td>2</td>\n",
       "      <td>1.0</td>\n",
       "      <td>323</td>\n",
       "      <td>96.00000</td>\n",
       "      <td>1980.0</td>\n",
       "      <td>...</td>\n",
       "      <td>1</td>\n",
       "      <td>0</td>\n",
       "      <td>0</td>\n",
       "      <td>0</td>\n",
       "      <td>0</td>\n",
       "      <td>0</td>\n",
       "      <td>0</td>\n",
       "      <td>1</td>\n",
       "      <td>0</td>\n",
       "      <td>0</td>\n",
       "    </tr>\n",
       "  </tbody>\n",
       "</table>\n",
       "<p>6110 rows × 28 columns</p>\n",
       "</div>"
      ],
      "text/plain": [
       "      Rooms  Date  Distance  Postcode  Bedroom2  Bathroom  Car  Landsize  \\\n",
       "1591      3  2016       8.0      3040         3         2  2.0       188   \n",
       "3478      2  2016      11.2      3073         2         1  1.0       139   \n",
       "4352      2  2016       5.1      3181         2         1  1.0         0   \n",
       "2095      2  2016       4.6      3122         3         1  1.0      1585   \n",
       "1924      3  2016      13.0      3046         3         1  2.0       696   \n",
       "...     ...   ...       ...       ...       ...       ...  ...       ...   \n",
       "9476      2  2017       1.8      3051         2         1  1.0       100   \n",
       "4032      3  2016      13.5      3020         3         1  2.0       367   \n",
       "9320      4  2017       8.8      3081         4         1  1.0       654   \n",
       "4083      4  2017      11.2      3127         4         3  4.0      1064   \n",
       "5476      2  2017      11.2      3127         2         2  1.0       323   \n",
       "\n",
       "      BuildingArea  YearBuilt  ...  Method_SP  Method_VB  \\\n",
       "1591     171.00000     1900.0  ...          0          0   \n",
       "3478     151.96765     1975.0  ...          0          0   \n",
       "4352      71.00000     1970.0  ...          0          1   \n",
       "2095     151.96765     1970.0  ...          0          0   \n",
       "1924     118.00000     1960.0  ...          0          0   \n",
       "...            ...        ...  ...        ...        ...   \n",
       "9476      67.00000     1890.0  ...          0          0   \n",
       "4032     114.00000     1970.0  ...          1          0   \n",
       "9320     151.96765     1960.0  ...          0          0   \n",
       "4083     236.00000     1969.0  ...          0          0   \n",
       "5476      96.00000     1980.0  ...          1          0   \n",
       "\n",
       "      Regionname_Eastern Metropolitan  Regionname_Eastern Victoria  \\\n",
       "1591                                0                            0   \n",
       "3478                                0                            0   \n",
       "4352                                0                            0   \n",
       "2095                                0                            0   \n",
       "1924                                0                            0   \n",
       "...                               ...                          ...   \n",
       "9476                                0                            0   \n",
       "4032                                0                            0   \n",
       "9320                                1                            0   \n",
       "4083                                0                            0   \n",
       "5476                                0                            0   \n",
       "\n",
       "      Regionname_Northern Metropolitan  Regionname_Northern Victoria  \\\n",
       "1591                                 0                             0   \n",
       "3478                                 1                             0   \n",
       "4352                                 0                             0   \n",
       "2095                                 0                             0   \n",
       "1924                                 1                             0   \n",
       "...                                ...                           ...   \n",
       "9476                                 1                             0   \n",
       "4032                                 0                             0   \n",
       "9320                                 0                             0   \n",
       "4083                                 0                             0   \n",
       "5476                                 0                             0   \n",
       "\n",
       "      Regionname_South-Eastern Metropolitan  Regionname_Southern Metropolitan  \\\n",
       "1591                                      0                                 0   \n",
       "3478                                      0                                 0   \n",
       "4352                                      0                                 1   \n",
       "2095                                      0                                 1   \n",
       "1924                                      0                                 0   \n",
       "...                                     ...                               ...   \n",
       "9476                                      0                                 0   \n",
       "4032                                      0                                 0   \n",
       "9320                                      0                                 0   \n",
       "4083                                      0                                 1   \n",
       "5476                                      0                                 1   \n",
       "\n",
       "      Regionname_Western Metropolitan  Regionname_Western Victoria  \n",
       "1591                                1                            0  \n",
       "3478                                0                            0  \n",
       "4352                                0                            0  \n",
       "2095                                0                            0  \n",
       "1924                                0                            0  \n",
       "...                               ...                          ...  \n",
       "9476                                0                            0  \n",
       "4032                                1                            0  \n",
       "9320                                0                            0  \n",
       "4083                                0                            0  \n",
       "5476                                0                            0  \n",
       "\n",
       "[6110 rows x 28 columns]"
      ]
     },
     "execution_count": 79,
     "metadata": {},
     "output_type": "execute_result"
    }
   ],
   "source": [
    "X_train"
   ]
  },
  {
   "cell_type": "code",
   "execution_count": 80,
   "id": "buried-fence",
   "metadata": {},
   "outputs": [
    {
     "data": {
      "text/plain": [
       "array([[-415.31584181,   19.56705335],\n",
       "       [-464.49553207,    1.35043849],\n",
       "       [-604.29243172,  -77.24025254],\n",
       "       ...,\n",
       "       [  50.47822627,   -3.82245709],\n",
       "       [ 461.32084035,   76.44694308],\n",
       "       [-281.06402533,  -56.00082333]])"
      ]
     },
     "execution_count": 80,
     "metadata": {},
     "output_type": "execute_result"
    }
   ],
   "source": [
    "X_train_p"
   ]
  },
  {
   "cell_type": "code",
   "execution_count": 45,
   "id": "instrumental-bibliography",
   "metadata": {},
   "outputs": [
    {
     "data": {
      "image/png": "[encoded data removed]",
      "text/plain": [
       "<Figure size 432x288 with 1 Axes>"
      ]
     },
     "metadata": {
      "needs_background": "light"
     },
     "output_type": "display_data"
    }
   ],
   "source": [
    "per_var = np.round(pca.explained_variance_ratio_* 100,decimals=1)\n",
    "labels = ['PC'+str(x) for x in range(1, len(per_var)+1)]\n",
    "plt.bar(x=range(1,len(per_var)+1),height=per_var, tick_label=labels)\n",
    "plt.ylabel('Percentage of explained variance')\n",
    "plt.xlabel('principle Component')\n",
    "plt.show()"
   ]
  },
  {
   "cell_type": "markdown",
   "id": "sublime-senate",
   "metadata": {},
   "source": [
    "#### After applying principle component analysis the first two components will contribute for the 100% variation in the data.Hence we can consider PC1 and PC2 for the model analysis."
   ]
  },
  {
   "cell_type": "code",
   "execution_count": 46,
   "id": "devoted-joint",
   "metadata": {},
   "outputs": [],
   "source": [
    "pca=PCA(0.99)\n",
    "pca.fit(X_train)\n",
    "pca_data=pca.transform(X_train)\n",
    "X_train_p = pca.transform(X_train)\n",
    "X_test_p = pca.transform(X_test)"
   ]
  },
  {
   "cell_type": "markdown",
   "id": "pacific-aquatic",
   "metadata": {},
   "source": [
    "### KNN Regressor"
   ]
  },
  {
   "cell_type": "code",
   "execution_count": 48,
   "id": "dying-agreement",
   "metadata": {},
   "outputs": [],
   "source": [
    "from sklearn.neighbors import KNeighborsRegressor\n",
    "knn_reg = KNeighborsRegressor()\n",
    "knn_reg.fit(X_train, y_train)\n",
    "y_pred_KNN_default =knn_reg.predict(X_test)"
   ]
  },
  {
   "cell_type": "code",
   "execution_count": 49,
   "id": "informal-message",
   "metadata": {},
   "outputs": [
    {
     "name": "stdout",
     "output_type": "stream",
     "text": [
      "[ 709600.  779700. 1458000. ...  605300.  733100. 1340600.]\n"
     ]
    }
   ],
   "source": [
    "print(y_pred_KNN_default)"
   ]
  },
  {
   "cell_type": "code",
   "execution_count": 50,
   "id": "sweet-defense",
   "metadata": {},
   "outputs": [
    {
     "name": "stdout",
     "output_type": "stream",
     "text": [
      "{'n_neighbors': 16}\n",
      "Best Score - KNN: -368680.31191693945\n"
     ]
    }
   ],
   "source": [
    "from sklearn.model_selection import GridSearchCV\n",
    "params = {'n_neighbors':[2,3,4,5,6,7,8,9,10,11,12,14,15,16]}\n",
    "\n",
    "knn = KNeighborsRegressor()\n",
    "\n",
    "\n",
    "model_knnreg = GridSearchCV(knn, params, cv=5,scoring = 'neg_mean_absolute_error',return_train_score= True)\n",
    "model_knnreg.fit(X_train_p, y_train)\n",
    "print(model_knnreg.best_params_) \n",
    "print('Best Score - KNN:', model_knnreg.best_score_)\n"
   ]
  },
  {
   "cell_type": "code",
   "execution_count": 51,
   "id": "meaning-nutrition",
   "metadata": {},
   "outputs": [
    {
     "data": {
      "text/html": [
       "<div>\n",
       "<style scoped>\n",
       "    .dataframe tbody tr th:only-of-type {\n",
       "        vertical-align: middle;\n",
       "    }\n",
       "\n",
       "    .dataframe tbody tr th {\n",
       "        vertical-align: top;\n",
       "    }\n",
       "\n",
       "    .dataframe thead th {\n",
       "        text-align: right;\n",
       "    }\n",
       "</style>\n",
       "<table border=\"1\" class=\"dataframe\">\n",
       "  <thead>\n",
       "    <tr style=\"text-align: right;\">\n",
       "      <th></th>\n",
       "      <th>mean_fit_time</th>\n",
       "      <th>std_fit_time</th>\n",
       "      <th>mean_score_time</th>\n",
       "      <th>std_score_time</th>\n",
       "      <th>param_n_neighbors</th>\n",
       "      <th>params</th>\n",
       "      <th>split0_test_score</th>\n",
       "      <th>split1_test_score</th>\n",
       "      <th>split2_test_score</th>\n",
       "      <th>split3_test_score</th>\n",
       "      <th>...</th>\n",
       "      <th>mean_test_score</th>\n",
       "      <th>std_test_score</th>\n",
       "      <th>rank_test_score</th>\n",
       "      <th>split0_train_score</th>\n",
       "      <th>split1_train_score</th>\n",
       "      <th>split2_train_score</th>\n",
       "      <th>split3_train_score</th>\n",
       "      <th>split4_train_score</th>\n",
       "      <th>mean_train_score</th>\n",
       "      <th>std_train_score</th>\n",
       "    </tr>\n",
       "  </thead>\n",
       "  <tbody>\n",
       "    <tr>\n",
       "      <th>0</th>\n",
       "      <td>0.003991</td>\n",
       "      <td>0.000630</td>\n",
       "      <td>0.002790</td>\n",
       "      <td>0.000746</td>\n",
       "      <td>2</td>\n",
       "      <td>{'n_neighbors': 2}</td>\n",
       "      <td>-395588.955810</td>\n",
       "      <td>-412111.857610</td>\n",
       "      <td>-413952.418985</td>\n",
       "      <td>-430596.822013</td>\n",
       "      <td>...</td>\n",
       "      <td>-416704.865794</td>\n",
       "      <td>13265.047766</td>\n",
       "      <td>14</td>\n",
       "      <td>-238154.705401</td>\n",
       "      <td>-235694.934022</td>\n",
       "      <td>-235648.670008</td>\n",
       "      <td>-224096.271686</td>\n",
       "      <td>-232614.647606</td>\n",
       "      <td>-233241.845745</td>\n",
       "      <td>4898.602607</td>\n",
       "    </tr>\n",
       "    <tr>\n",
       "      <th>1</th>\n",
       "      <td>0.003192</td>\n",
       "      <td>0.000401</td>\n",
       "      <td>0.002991</td>\n",
       "      <td>0.000002</td>\n",
       "      <td>3</td>\n",
       "      <td>{'n_neighbors': 3}</td>\n",
       "      <td>-380610.869067</td>\n",
       "      <td>-393280.069285</td>\n",
       "      <td>-396164.107201</td>\n",
       "      <td>-418492.777960</td>\n",
       "      <td>...</td>\n",
       "      <td>-399814.195854</td>\n",
       "      <td>13329.343334</td>\n",
       "      <td>13</td>\n",
       "      <td>-279296.053464</td>\n",
       "      <td>-279488.020185</td>\n",
       "      <td>-280388.811920</td>\n",
       "      <td>-274852.521822</td>\n",
       "      <td>-276493.533824</td>\n",
       "      <td>-278103.788243</td>\n",
       "      <td>2084.350271</td>\n",
       "    </tr>\n",
       "    <tr>\n",
       "      <th>2</th>\n",
       "      <td>0.002792</td>\n",
       "      <td>0.000399</td>\n",
       "      <td>0.002796</td>\n",
       "      <td>0.000401</td>\n",
       "      <td>4</td>\n",
       "      <td>{'n_neighbors': 4}</td>\n",
       "      <td>-372052.274959</td>\n",
       "      <td>-382621.729337</td>\n",
       "      <td>-385406.667553</td>\n",
       "      <td>-407045.018822</td>\n",
       "      <td>...</td>\n",
       "      <td>-389461.178478</td>\n",
       "      <td>12572.795597</td>\n",
       "      <td>12</td>\n",
       "      <td>-302496.122647</td>\n",
       "      <td>-302429.365436</td>\n",
       "      <td>-301064.444354</td>\n",
       "      <td>-298071.233173</td>\n",
       "      <td>-299906.984298</td>\n",
       "      <td>-300793.629982</td>\n",
       "      <td>1664.033481</td>\n",
       "    </tr>\n",
       "    <tr>\n",
       "      <th>3</th>\n",
       "      <td>0.002791</td>\n",
       "      <td>0.000399</td>\n",
       "      <td>0.002788</td>\n",
       "      <td>0.000404</td>\n",
       "      <td>5</td>\n",
       "      <td>{'n_neighbors': 5}</td>\n",
       "      <td>-364217.998854</td>\n",
       "      <td>-368804.024877</td>\n",
       "      <td>-377293.284779</td>\n",
       "      <td>-396468.242062</td>\n",
       "      <td>...</td>\n",
       "      <td>-379822.368740</td>\n",
       "      <td>12686.841767</td>\n",
       "      <td>11</td>\n",
       "      <td>-315876.559452</td>\n",
       "      <td>-312563.985925</td>\n",
       "      <td>-309974.512889</td>\n",
       "      <td>-308986.895008</td>\n",
       "      <td>-311336.458429</td>\n",
       "      <td>-311747.682340</td>\n",
       "      <td>2393.706726</td>\n",
       "    </tr>\n",
       "    <tr>\n",
       "      <th>4</th>\n",
       "      <td>0.002995</td>\n",
       "      <td>0.000005</td>\n",
       "      <td>0.003011</td>\n",
       "      <td>0.000013</td>\n",
       "      <td>6</td>\n",
       "      <td>{'n_neighbors': 6}</td>\n",
       "      <td>-360423.972177</td>\n",
       "      <td>-365011.634206</td>\n",
       "      <td>-377698.227496</td>\n",
       "      <td>-390900.807829</td>\n",
       "      <td>...</td>\n",
       "      <td>-376419.201691</td>\n",
       "      <td>12106.798038</td>\n",
       "      <td>10</td>\n",
       "      <td>-323395.131888</td>\n",
       "      <td>-321721.450116</td>\n",
       "      <td>-317186.994476</td>\n",
       "      <td>-314765.132399</td>\n",
       "      <td>-317689.556772</td>\n",
       "      <td>-318951.653130</td>\n",
       "      <td>3151.194758</td>\n",
       "    </tr>\n",
       "  </tbody>\n",
       "</table>\n",
       "<p>5 rows × 21 columns</p>\n",
       "</div>"
      ],
      "text/plain": [
       "   mean_fit_time  std_fit_time  mean_score_time  std_score_time  \\\n",
       "0       0.003991      0.000630         0.002790        0.000746   \n",
       "1       0.003192      0.000401         0.002991        0.000002   \n",
       "2       0.002792      0.000399         0.002796        0.000401   \n",
       "3       0.002791      0.000399         0.002788        0.000404   \n",
       "4       0.002995      0.000005         0.003011        0.000013   \n",
       "\n",
       "  param_n_neighbors              params  split0_test_score  split1_test_score  \\\n",
       "0                 2  {'n_neighbors': 2}     -395588.955810     -412111.857610   \n",
       "1                 3  {'n_neighbors': 3}     -380610.869067     -393280.069285   \n",
       "2                 4  {'n_neighbors': 4}     -372052.274959     -382621.729337   \n",
       "3                 5  {'n_neighbors': 5}     -364217.998854     -368804.024877   \n",
       "4                 6  {'n_neighbors': 6}     -360423.972177     -365011.634206   \n",
       "\n",
       "   split2_test_score  split3_test_score  ...  mean_test_score  std_test_score  \\\n",
       "0     -413952.418985     -430596.822013  ...   -416704.865794    13265.047766   \n",
       "1     -396164.107201     -418492.777960  ...   -399814.195854    13329.343334   \n",
       "2     -385406.667553     -407045.018822  ...   -389461.178478    12572.795597   \n",
       "3     -377293.284779     -396468.242062  ...   -379822.368740    12686.841767   \n",
       "4     -377698.227496     -390900.807829  ...   -376419.201691    12106.798038   \n",
       "\n",
       "   rank_test_score  split0_train_score  split1_train_score  \\\n",
       "0               14      -238154.705401      -235694.934022   \n",
       "1               13      -279296.053464      -279488.020185   \n",
       "2               12      -302496.122647      -302429.365436   \n",
       "3               11      -315876.559452      -312563.985925   \n",
       "4               10      -323395.131888      -321721.450116   \n",
       "\n",
       "   split2_train_score  split3_train_score  split4_train_score  \\\n",
       "0      -235648.670008      -224096.271686      -232614.647606   \n",
       "1      -280388.811920      -274852.521822      -276493.533824   \n",
       "2      -301064.444354      -298071.233173      -299906.984298   \n",
       "3      -309974.512889      -308986.895008      -311336.458429   \n",
       "4      -317186.994476      -314765.132399      -317689.556772   \n",
       "\n",
       "   mean_train_score  std_train_score  \n",
       "0    -233241.845745      4898.602607  \n",
       "1    -278103.788243      2084.350271  \n",
       "2    -300793.629982      1664.033481  \n",
       "3    -311747.682340      2393.706726  \n",
       "4    -318951.653130      3151.194758  \n",
       "\n",
       "[5 rows x 21 columns]"
      ]
     },
     "execution_count": 51,
     "metadata": {},
     "output_type": "execute_result"
    }
   ],
   "source": [
    "result = pd.DataFrame(model_knnreg.cv_results_)\n",
    "result.head()"
   ]
  },
  {
   "cell_type": "code",
   "execution_count": 52,
   "id": "regional-satisfaction",
   "metadata": {},
   "outputs": [
    {
     "data": {
      "text/plain": [
       "14"
      ]
     },
     "execution_count": 52,
     "metadata": {},
     "output_type": "execute_result"
    }
   ],
   "source": [
    "result['param_n_neighbors'].shape[0]"
   ]
  },
  {
   "cell_type": "code",
   "execution_count": 53,
   "id": "logical-curve",
   "metadata": {},
   "outputs": [
    {
     "data": {
      "image/png": "[encoded data removed]",
      "text/plain": [
       "<Figure size 1080x360 with 1 Axes>"
      ]
     },
     "metadata": {
      "needs_background": "light"
     },
     "output_type": "display_data"
    }
   ],
   "source": [
    "%matplotlib inline\n",
    "\n",
    "plt.subplots(figsize = (15,5))\n",
    "plt.plot(range(result['param_n_neighbors'].shape[0]), result['mean_train_score'], label = 'mean train score')\n",
    "plt.plot(range(result['param_n_neighbors'].shape[0]), result['mean_test_score'], label = 'mean test score')\n",
    "plt.xticks(range(result['param_n_neighbors'].shape[0]), result['param_n_neighbors'], rotation = 90)\n",
    "plt.plot([model_knnreg.best_index_], result['mean_train_score'][model_knnreg.best_index_], 'o', markersize = 15, fillstyle = 'none')\n",
    "plt.plot([model_knnreg.best_index_], result['mean_test_score'][model_knnreg.best_index_], 'o', markersize = 15, fillstyle = 'none')\n",
    "plt.legend()\n",
    "plt.grid()"
   ]
  },
  {
   "cell_type": "code",
   "execution_count": 56,
   "id": "touched-richards",
   "metadata": {},
   "outputs": [
    {
     "name": "stdout",
     "output_type": "stream",
     "text": [
      "Test Score: 0.49753953261018435\n"
     ]
    }
   ],
   "source": [
    "knn = KNeighborsRegressor(n_neighbors=8)\n",
    "knn.fit(X_train,  y_train)\n",
    "print(\"Test Score:\",knn.score(X_test, y_test))"
   ]
  },
  {
   "cell_type": "markdown",
   "id": "reverse-parade",
   "metadata": {},
   "source": [
    "### Linear Regression"
   ]
  },
  {
   "cell_type": "code",
   "execution_count": 59,
   "id": "outer-formula",
   "metadata": {},
   "outputs": [
    {
     "name": "stdout",
     "output_type": "stream",
     "text": [
      "0.005821883062552158\n",
      "0.008341446272686182\n"
     ]
    }
   ],
   "source": [
    "from sklearn.linear_model import LinearRegression\n",
    "\n",
    "lreg = LinearRegression()\n",
    "lreg.fit(X_train_p, y_train)\n",
    "print(lreg.score(X_train_p, y_train))\n",
    "print(lreg.score(X_test_p, y_test))"
   ]
  },
  {
   "cell_type": "code",
   "execution_count": 61,
   "id": "dominican-skill",
   "metadata": {},
   "outputs": [
    {
     "data": {
      "text/plain": [
       "(6110, 2)"
      ]
     },
     "execution_count": 61,
     "metadata": {},
     "output_type": "execute_result"
    }
   ],
   "source": [
    "X_train_p.shape"
   ]
  },
  {
   "cell_type": "code",
   "execution_count": 62,
   "id": "graphic-blink",
   "metadata": {},
   "outputs": [
    {
     "name": "stdout",
     "output_type": "stream",
     "text": [
      "[0.9894569  0.01020948]\n"
     ]
    }
   ],
   "source": [
    "print(pca.explained_variance_ratio_)"
   ]
  },
  {
   "cell_type": "markdown",
   "id": "median-marriage",
   "metadata": {},
   "source": [
    "## Neural Network"
   ]
  },
  {
   "cell_type": "code",
   "execution_count": 126,
   "id": "polish-mailman",
   "metadata": {},
   "outputs": [],
   "source": [
    "model = Sequential()\n",
    "model.add(Dense(13, input_dim=28, kernel_initializer='normal', activation='relu'))\n",
    "model.add(Dense(1, kernel_initializer='normal'))"
   ]
  },
  {
   "cell_type": "code",
   "execution_count": 127,
   "id": "proud-traffic",
   "metadata": {},
   "outputs": [],
   "source": [
    "model.compile(loss='mse', optimizer='sgd' , metrics = ['mse'])"
   ]
  },
  {
   "cell_type": "code",
   "execution_count": 135,
   "id": "round-senate",
   "metadata": {},
   "outputs": [
    {
     "name": "stdout",
     "output_type": "stream",
     "text": [
      "Epoch 1/100\n",
      "306/306 [==============================] - 0s 657us/step - loss: nan - mse: nan\n",
      "Epoch 2/100\n",
      "306/306 [==============================] - 0s 507us/step - loss: nan - mse: nan\n",
      "Epoch 3/100\n",
      "306/306 [==============================] - 0s 488us/step - loss: nan - mse: nan\n",
      "Epoch 4/100\n",
      "306/306 [==============================] - 0s 484us/step - loss: nan - mse: nan\n",
      "Epoch 5/100\n",
      "306/306 [==============================] - 0s 523us/step - loss: nan - mse: nan\n",
      "Epoch 6/100\n",
      "306/306 [==============================] - 0s 510us/step - loss: nan - mse: nan\n",
      "Epoch 7/100\n",
      "306/306 [==============================] - 0s 513us/step - loss: nan - mse: nan\n",
      "Epoch 8/100\n",
      "306/306 [==============================] - 0s 572us/step - loss: nan - mse: nan\n",
      "Epoch 9/100\n",
      "306/306 [==============================] - 0s 490us/step - loss: nan - mse: nan\n",
      "Epoch 10/100\n",
      "306/306 [==============================] - 0s 530us/step - loss: nan - mse: nan\n",
      "Epoch 11/100\n",
      "306/306 [==============================] - 0s 497us/step - loss: nan - mse: nan\n",
      "Epoch 12/100\n",
      "306/306 [==============================] - 0s 530us/step - loss: nan - mse: nan\n",
      "Epoch 13/100\n",
      "306/306 [==============================] - 0s 523us/step - loss: nan - mse: nan\n",
      "Epoch 14/100\n",
      "306/306 [==============================] - 0s 487us/step - loss: nan - mse: nan\n",
      "Epoch 15/100\n",
      "306/306 [==============================] - 0s 510us/step - loss: nan - mse: nan\n",
      "Epoch 16/100\n",
      "306/306 [==============================] - 0s 497us/step - loss: nan - mse: nan\n",
      "Epoch 17/100\n",
      "306/306 [==============================] - 0s 487us/step - loss: nan - mse: nan\n",
      "Epoch 18/100\n",
      "306/306 [==============================] - 0s 677us/step - loss: nan - mse: nan\n",
      "Epoch 19/100\n",
      "306/306 [==============================] - 0s 546us/step - loss: nan - mse: nan\n",
      "Epoch 20/100\n",
      "306/306 [==============================] - 0s 589us/step - loss: nan - mse: nan\n",
      "Epoch 21/100\n",
      "306/306 [==============================] - 0s 788us/step - loss: nan - mse: nan\n",
      "Epoch 22/100\n",
      "306/306 [==============================] - 0s 729us/step - loss: nan - mse: nan\n",
      "Epoch 23/100\n",
      "306/306 [==============================] - 0s 500us/step - loss: nan - mse: nan\n",
      "Epoch 24/100\n",
      "306/306 [==============================] - 0s 487us/step - loss: nan - mse: nan\n",
      "Epoch 25/100\n",
      "306/306 [==============================] - 0s 487us/step - loss: nan - mse: nan\n",
      "Epoch 26/100\n",
      "306/306 [==============================] - 0s 476us/step - loss: nan - mse: nan\n",
      "Epoch 27/100\n",
      "306/306 [==============================] - 0s 485us/step - loss: nan - mse: nan\n",
      "Epoch 28/100\n",
      "306/306 [==============================] - 0s 569us/step - loss: nan - mse: nan\n",
      "Epoch 29/100\n",
      "306/306 [==============================] - 0s 661us/step - loss: nan - mse: nan\n",
      "Epoch 30/100\n",
      "306/306 [==============================] - 0s 487us/step - loss: nan - mse: nan\n",
      "Epoch 31/100\n",
      "306/306 [==============================] - 0s 484us/step - loss: nan - mse: nan\n",
      "Epoch 32/100\n",
      "306/306 [==============================] - 0s 465us/step - loss: nan - mse: nan\n",
      "Epoch 33/100\n",
      "306/306 [==============================] - 0s 533us/step - loss: nan - mse: nan\n",
      "Epoch 34/100\n",
      "306/306 [==============================] - 0s 517us/step - loss: nan - mse: nan\n",
      "Epoch 35/100\n",
      "306/306 [==============================] - 0s 664us/step - loss: nan - mse: nan\n",
      "Epoch 36/100\n",
      "306/306 [==============================] - 0s 553us/step - loss: nan - mse: nan\n",
      "Epoch 37/100\n",
      "306/306 [==============================] - 0s 706us/step - loss: nan - mse: nan\n",
      "Epoch 38/100\n",
      "306/306 [==============================] - 0s 497us/step - loss: nan - mse: nan\n",
      "Epoch 39/100\n",
      "306/306 [==============================] - 0s 490us/step - loss: nan - mse: nan\n",
      "Epoch 40/100\n",
      "306/306 [==============================] - 0s 482us/step - loss: nan - mse: nan\n",
      "Epoch 41/100\n",
      "306/306 [==============================] - 0s 474us/step - loss: nan - mse: nan\n",
      "Epoch 42/100\n",
      "306/306 [==============================] - 0s 484us/step - loss: nan - mse: nan\n",
      "Epoch 43/100\n",
      "306/306 [==============================] - 0s 572us/step - loss: nan - mse: nan\n",
      "Epoch 44/100\n",
      "306/306 [==============================] - 0s 703us/step - loss: nan - mse: nan\n",
      "Epoch 45/100\n",
      "306/306 [==============================] - 0s 464us/step - loss: nan - mse: nan\n",
      "Epoch 46/100\n",
      "306/306 [==============================] - 0s 510us/step - loss: nan - mse: nan\n",
      "Epoch 47/100\n",
      "306/306 [==============================] - 0s 500us/step - loss: nan - mse: nan\n",
      "Epoch 48/100\n",
      "306/306 [==============================] - 0s 608us/step - loss: nan - mse: nan\n",
      "Epoch 49/100\n",
      "306/306 [==============================] - 0s 609us/step - loss: nan - mse: nan\n",
      "Epoch 50/100\n",
      "306/306 [==============================] - 0s 535us/step - loss: nan - mse: nan\n",
      "Epoch 51/100\n",
      "306/306 [==============================] - 0s 507us/step - loss: nan - mse: nan\n",
      "Epoch 52/100\n",
      "306/306 [==============================] - 0s 530us/step - loss: nan - mse: nan\n",
      "Epoch 53/100\n",
      "306/306 [==============================] - 0s 494us/step - loss: nan - mse: nan\n",
      "Epoch 54/100\n",
      "306/306 [==============================] - 0s 486us/step - loss: nan - mse: nan\n",
      "Epoch 55/100\n",
      "306/306 [==============================] - 0s 569us/step - loss: nan - mse: nan\n",
      "Epoch 56/100\n",
      "306/306 [==============================] - 0s 523us/step - loss: nan - mse: nan\n",
      "Epoch 57/100\n",
      "306/306 [==============================] - 0s 487us/step - loss: nan - mse: nan\n",
      "Epoch 58/100\n",
      "306/306 [==============================] - 0s 494us/step - loss: nan - mse: nan\n",
      "Epoch 59/100\n",
      "306/306 [==============================] - 0s 468us/step - loss: nan - mse: nan\n",
      "Epoch 60/100\n",
      "306/306 [==============================] - 0s 484us/step - loss: nan - mse: nan\n",
      "Epoch 61/100\n",
      "306/306 [==============================] - 0s 494us/step - loss: nan - mse: nan\n",
      "Epoch 62/100\n",
      "306/306 [==============================] - 0s 484us/step - loss: nan - mse: nan\n",
      "Epoch 63/100\n",
      "306/306 [==============================] - 0s 579us/step - loss: nan - mse: nan\n",
      "Epoch 64/100\n",
      "306/306 [==============================] - 0s 517us/step - loss: nan - mse: nan\n",
      "Epoch 65/100\n",
      "306/306 [==============================] - 0s 513us/step - loss: nan - mse: nan\n",
      "Epoch 66/100\n",
      "306/306 [==============================] - 0s 654us/step - loss: nan - mse: nan\n",
      "Epoch 67/100\n",
      "306/306 [==============================] - 0s 693us/step - loss: nan - mse: nan\n",
      "Epoch 68/100\n",
      "306/306 [==============================] - 0s 458us/step - loss: nan - mse: nan\n",
      "Epoch 69/100\n",
      "306/306 [==============================] - 0s 490us/step - loss: nan - mse: nan\n",
      "Epoch 70/100\n",
      "306/306 [==============================] - 0s 569us/step - loss: nan - mse: nan\n",
      "Epoch 71/100\n",
      "306/306 [==============================] - 0s 530us/step - loss: nan - mse: nan\n",
      "Epoch 72/100\n",
      "306/306 [==============================] - 0s 463us/step - loss: nan - mse: nan\n",
      "Epoch 73/100\n",
      "306/306 [==============================] - 0s 468us/step - loss: nan - mse: nan\n",
      "Epoch 74/100\n",
      "306/306 [==============================] - 0s 487us/step - loss: nan - mse: nan\n",
      "Epoch 75/100\n",
      "306/306 [==============================] - 0s 474us/step - loss: nan - mse: nan\n",
      "Epoch 76/100\n",
      "306/306 [==============================] - 0s 500us/step - loss: nan - mse: nan\n",
      "Epoch 77/100\n",
      "306/306 [==============================] - 0s 477us/step - loss: nan - mse: nan\n",
      "Epoch 78/100\n",
      "306/306 [==============================] - 0s 510us/step - loss: nan - mse: nan\n",
      "Epoch 79/100\n",
      "306/306 [==============================] - 0s 535us/step - loss: nan - mse: nan\n",
      "Epoch 80/100\n",
      "306/306 [==============================] - 0s 530us/step - loss: nan - mse: nan\n",
      "Epoch 81/100\n",
      "306/306 [==============================] - 0s 507us/step - loss: nan - mse: nan\n",
      "Epoch 82/100\n",
      "306/306 [==============================] - 0s 477us/step - loss: nan - mse: nan\n",
      "Epoch 83/100\n",
      "306/306 [==============================] - 0s 481us/step - loss: nan - mse: nan\n",
      "Epoch 84/100\n",
      "306/306 [==============================] - 0s 517us/step - loss: nan - mse: nan\n",
      "Epoch 85/100\n",
      "306/306 [==============================] - 0s 510us/step - loss: nan - mse: nan\n",
      "Epoch 86/100\n",
      "306/306 [==============================] - 0s 497us/step - loss: nan - mse: nan\n",
      "Epoch 87/100\n",
      "306/306 [==============================] - 0s 512us/step - loss: nan - mse: nan\n",
      "Epoch 88/100\n",
      "306/306 [==============================] - 0s 502us/step - loss: nan - mse: nan\n",
      "Epoch 89/100\n"
     ]
    },
    {
     "name": "stdout",
     "output_type": "stream",
     "text": [
      "306/306 [==============================] - 0s 487us/step - loss: nan - mse: nan\n",
      "Epoch 90/100\n",
      "306/306 [==============================] - 0s 484us/step - loss: nan - mse: nan\n",
      "Epoch 91/100\n",
      "306/306 [==============================] - 0s 461us/step - loss: nan - mse: nan\n",
      "Epoch 92/100\n",
      "306/306 [==============================] - 0s 451us/step - loss: nan - mse: nan\n",
      "Epoch 93/100\n",
      "306/306 [==============================] - 0s 472us/step - loss: nan - mse: nan\n",
      "Epoch 94/100\n",
      "306/306 [==============================] - 0s 494us/step - loss: nan - mse: nan\n",
      "Epoch 95/100\n",
      "306/306 [==============================] - 0s 806us/step - loss: nan - mse: nan\n",
      "Epoch 96/100\n",
      "306/306 [==============================] - 0s 589us/step - loss: nan - mse: nan\n",
      "Epoch 97/100\n",
      "306/306 [==============================] - 0s 594us/step - loss: nan - mse: nan\n",
      "Epoch 98/100\n",
      "306/306 [==============================] - 0s 585us/step - loss: nan - mse: nan\n",
      "Epoch 99/100\n",
      "306/306 [==============================] - 0s 604us/step - loss: nan - mse: nan\n",
      "Epoch 100/100\n",
      "306/306 [==============================] - 0s 533us/step - loss: nan - mse: nan\n"
     ]
    },
    {
     "data": {
      "text/plain": [
       "<tensorflow.python.keras.callbacks.History at 0x1e74bb7e400>"
      ]
     },
     "execution_count": 135,
     "metadata": {},
     "output_type": "execute_result"
    }
   ],
   "source": [
    "model.fit(X_train, y_train, epochs = 100, batch_size = 20)"
   ]
  },
  {
   "cell_type": "code",
   "execution_count": 136,
   "id": "tracked-custom",
   "metadata": {},
   "outputs": [
    {
     "name": "stdout",
     "output_type": "stream",
     "text": [
      "48/48 [==============================] - 0s 530us/step - loss: nan - mse: nan\n"
     ]
    },
    {
     "data": {
      "text/plain": [
       "[nan, nan]"
      ]
     },
     "execution_count": 136,
     "metadata": {},
     "output_type": "execute_result"
    }
   ],
   "source": [
    "model.evaluate(X_test, y_test)"
   ]
  },
  {
   "cell_type": "code",
   "execution_count": 137,
   "id": "eight-realtor",
   "metadata": {},
   "outputs": [
    {
     "ename": "ValueError",
     "evalue": "Input contains NaN, infinity or a value too large for dtype('float32').",
     "output_type": "error",
     "traceback": [
      "\u001b[1;31m---------------------------------------------------------------------------\u001b[0m",
      "\u001b[1;31mValueError\u001b[0m                                Traceback (most recent call last)",
      "\u001b[1;32m<ipython-input-137-a8d4d197eaf3>\u001b[0m in \u001b[0;36m<module>\u001b[1;34m\u001b[0m\n\u001b[0;32m      4\u001b[0m \u001b[0my_test_predict\u001b[0m \u001b[1;33m=\u001b[0m \u001b[0mmodel\u001b[0m\u001b[1;33m.\u001b[0m\u001b[0mpredict\u001b[0m\u001b[1;33m(\u001b[0m\u001b[0mX_test\u001b[0m\u001b[1;33m)\u001b[0m\u001b[1;33m\u001b[0m\u001b[1;33m\u001b[0m\u001b[0m\n\u001b[0;32m      5\u001b[0m \u001b[1;33m\u001b[0m\u001b[0m\n\u001b[1;32m----> 6\u001b[1;33m \u001b[0mprint\u001b[0m\u001b[1;33m(\u001b[0m\u001b[1;34m'Train score: {:.2f}'\u001b[0m\u001b[1;33m.\u001b[0m\u001b[0mformat\u001b[0m\u001b[1;33m(\u001b[0m\u001b[0mr2_score\u001b[0m\u001b[1;33m(\u001b[0m\u001b[0my_train\u001b[0m\u001b[1;33m,\u001b[0m \u001b[0my_train_predict\u001b[0m\u001b[1;33m)\u001b[0m\u001b[1;33m)\u001b[0m\u001b[1;33m)\u001b[0m\u001b[1;33m\u001b[0m\u001b[1;33m\u001b[0m\u001b[0m\n\u001b[0m\u001b[0;32m      7\u001b[0m \u001b[0mprint\u001b[0m\u001b[1;33m(\u001b[0m\u001b[1;34m'Test score: {:.2f}'\u001b[0m\u001b[1;33m.\u001b[0m\u001b[0mformat\u001b[0m\u001b[1;33m(\u001b[0m\u001b[0mr2_score\u001b[0m\u001b[1;33m(\u001b[0m\u001b[0my_test\u001b[0m\u001b[1;33m,\u001b[0m \u001b[0my_test_predict\u001b[0m\u001b[1;33m)\u001b[0m\u001b[1;33m)\u001b[0m\u001b[1;33m)\u001b[0m\u001b[1;33m\u001b[0m\u001b[1;33m\u001b[0m\u001b[0m\n",
      "\u001b[1;32m~\\Anaconda3\\lib\\site-packages\\sklearn\\utils\\validation.py\u001b[0m in \u001b[0;36minner_f\u001b[1;34m(*args, **kwargs)\u001b[0m\n\u001b[0;32m     61\u001b[0m             \u001b[0mextra_args\u001b[0m \u001b[1;33m=\u001b[0m \u001b[0mlen\u001b[0m\u001b[1;33m(\u001b[0m\u001b[0margs\u001b[0m\u001b[1;33m)\u001b[0m \u001b[1;33m-\u001b[0m \u001b[0mlen\u001b[0m\u001b[1;33m(\u001b[0m\u001b[0mall_args\u001b[0m\u001b[1;33m)\u001b[0m\u001b[1;33m\u001b[0m\u001b[1;33m\u001b[0m\u001b[0m\n\u001b[0;32m     62\u001b[0m             \u001b[1;32mif\u001b[0m \u001b[0mextra_args\u001b[0m \u001b[1;33m<=\u001b[0m \u001b[1;36m0\u001b[0m\u001b[1;33m:\u001b[0m\u001b[1;33m\u001b[0m\u001b[1;33m\u001b[0m\u001b[0m\n\u001b[1;32m---> 63\u001b[1;33m                 \u001b[1;32mreturn\u001b[0m \u001b[0mf\u001b[0m\u001b[1;33m(\u001b[0m\u001b[1;33m*\u001b[0m\u001b[0margs\u001b[0m\u001b[1;33m,\u001b[0m \u001b[1;33m**\u001b[0m\u001b[0mkwargs\u001b[0m\u001b[1;33m)\u001b[0m\u001b[1;33m\u001b[0m\u001b[1;33m\u001b[0m\u001b[0m\n\u001b[0m\u001b[0;32m     64\u001b[0m \u001b[1;33m\u001b[0m\u001b[0m\n\u001b[0;32m     65\u001b[0m             \u001b[1;31m# extra_args > 0\u001b[0m\u001b[1;33m\u001b[0m\u001b[1;33m\u001b[0m\u001b[1;33m\u001b[0m\u001b[0m\n",
      "\u001b[1;32m~\\Anaconda3\\lib\\site-packages\\sklearn\\metrics\\_regression.py\u001b[0m in \u001b[0;36mr2_score\u001b[1;34m(y_true, y_pred, sample_weight, multioutput)\u001b[0m\n\u001b[0;32m    674\u001b[0m     \u001b[1;33m-\u001b[0m\u001b[1;36m3.0\u001b[0m\u001b[1;33m\u001b[0m\u001b[1;33m\u001b[0m\u001b[0m\n\u001b[0;32m    675\u001b[0m     \"\"\"\n\u001b[1;32m--> 676\u001b[1;33m     y_type, y_true, y_pred, multioutput = _check_reg_targets(\n\u001b[0m\u001b[0;32m    677\u001b[0m         y_true, y_pred, multioutput)\n\u001b[0;32m    678\u001b[0m     \u001b[0mcheck_consistent_length\u001b[0m\u001b[1;33m(\u001b[0m\u001b[0my_true\u001b[0m\u001b[1;33m,\u001b[0m \u001b[0my_pred\u001b[0m\u001b[1;33m,\u001b[0m \u001b[0msample_weight\u001b[0m\u001b[1;33m)\u001b[0m\u001b[1;33m\u001b[0m\u001b[1;33m\u001b[0m\u001b[0m\n",
      "\u001b[1;32m~\\Anaconda3\\lib\\site-packages\\sklearn\\metrics\\_regression.py\u001b[0m in \u001b[0;36m_check_reg_targets\u001b[1;34m(y_true, y_pred, multioutput, dtype)\u001b[0m\n\u001b[0;32m     88\u001b[0m     \u001b[0mcheck_consistent_length\u001b[0m\u001b[1;33m(\u001b[0m\u001b[0my_true\u001b[0m\u001b[1;33m,\u001b[0m \u001b[0my_pred\u001b[0m\u001b[1;33m)\u001b[0m\u001b[1;33m\u001b[0m\u001b[1;33m\u001b[0m\u001b[0m\n\u001b[0;32m     89\u001b[0m     \u001b[0my_true\u001b[0m \u001b[1;33m=\u001b[0m \u001b[0mcheck_array\u001b[0m\u001b[1;33m(\u001b[0m\u001b[0my_true\u001b[0m\u001b[1;33m,\u001b[0m \u001b[0mensure_2d\u001b[0m\u001b[1;33m=\u001b[0m\u001b[1;32mFalse\u001b[0m\u001b[1;33m,\u001b[0m \u001b[0mdtype\u001b[0m\u001b[1;33m=\u001b[0m\u001b[0mdtype\u001b[0m\u001b[1;33m)\u001b[0m\u001b[1;33m\u001b[0m\u001b[1;33m\u001b[0m\u001b[0m\n\u001b[1;32m---> 90\u001b[1;33m     \u001b[0my_pred\u001b[0m \u001b[1;33m=\u001b[0m \u001b[0mcheck_array\u001b[0m\u001b[1;33m(\u001b[0m\u001b[0my_pred\u001b[0m\u001b[1;33m,\u001b[0m \u001b[0mensure_2d\u001b[0m\u001b[1;33m=\u001b[0m\u001b[1;32mFalse\u001b[0m\u001b[1;33m,\u001b[0m \u001b[0mdtype\u001b[0m\u001b[1;33m=\u001b[0m\u001b[0mdtype\u001b[0m\u001b[1;33m)\u001b[0m\u001b[1;33m\u001b[0m\u001b[1;33m\u001b[0m\u001b[0m\n\u001b[0m\u001b[0;32m     91\u001b[0m \u001b[1;33m\u001b[0m\u001b[0m\n\u001b[0;32m     92\u001b[0m     \u001b[1;32mif\u001b[0m \u001b[0my_true\u001b[0m\u001b[1;33m.\u001b[0m\u001b[0mndim\u001b[0m \u001b[1;33m==\u001b[0m \u001b[1;36m1\u001b[0m\u001b[1;33m:\u001b[0m\u001b[1;33m\u001b[0m\u001b[1;33m\u001b[0m\u001b[0m\n",
      "\u001b[1;32m~\\Anaconda3\\lib\\site-packages\\sklearn\\utils\\validation.py\u001b[0m in \u001b[0;36minner_f\u001b[1;34m(*args, **kwargs)\u001b[0m\n\u001b[0;32m     61\u001b[0m             \u001b[0mextra_args\u001b[0m \u001b[1;33m=\u001b[0m \u001b[0mlen\u001b[0m\u001b[1;33m(\u001b[0m\u001b[0margs\u001b[0m\u001b[1;33m)\u001b[0m \u001b[1;33m-\u001b[0m \u001b[0mlen\u001b[0m\u001b[1;33m(\u001b[0m\u001b[0mall_args\u001b[0m\u001b[1;33m)\u001b[0m\u001b[1;33m\u001b[0m\u001b[1;33m\u001b[0m\u001b[0m\n\u001b[0;32m     62\u001b[0m             \u001b[1;32mif\u001b[0m \u001b[0mextra_args\u001b[0m \u001b[1;33m<=\u001b[0m \u001b[1;36m0\u001b[0m\u001b[1;33m:\u001b[0m\u001b[1;33m\u001b[0m\u001b[1;33m\u001b[0m\u001b[0m\n\u001b[1;32m---> 63\u001b[1;33m                 \u001b[1;32mreturn\u001b[0m \u001b[0mf\u001b[0m\u001b[1;33m(\u001b[0m\u001b[1;33m*\u001b[0m\u001b[0margs\u001b[0m\u001b[1;33m,\u001b[0m \u001b[1;33m**\u001b[0m\u001b[0mkwargs\u001b[0m\u001b[1;33m)\u001b[0m\u001b[1;33m\u001b[0m\u001b[1;33m\u001b[0m\u001b[0m\n\u001b[0m\u001b[0;32m     64\u001b[0m \u001b[1;33m\u001b[0m\u001b[0m\n\u001b[0;32m     65\u001b[0m             \u001b[1;31m# extra_args > 0\u001b[0m\u001b[1;33m\u001b[0m\u001b[1;33m\u001b[0m\u001b[1;33m\u001b[0m\u001b[0m\n",
      "\u001b[1;32m~\\Anaconda3\\lib\\site-packages\\sklearn\\utils\\validation.py\u001b[0m in \u001b[0;36mcheck_array\u001b[1;34m(array, accept_sparse, accept_large_sparse, dtype, order, copy, force_all_finite, ensure_2d, allow_nd, ensure_min_samples, ensure_min_features, estimator)\u001b[0m\n\u001b[0;32m    661\u001b[0m \u001b[1;33m\u001b[0m\u001b[0m\n\u001b[0;32m    662\u001b[0m         \u001b[1;32mif\u001b[0m \u001b[0mforce_all_finite\u001b[0m\u001b[1;33m:\u001b[0m\u001b[1;33m\u001b[0m\u001b[1;33m\u001b[0m\u001b[0m\n\u001b[1;32m--> 663\u001b[1;33m             _assert_all_finite(array,\n\u001b[0m\u001b[0;32m    664\u001b[0m                                allow_nan=force_all_finite == 'allow-nan')\n\u001b[0;32m    665\u001b[0m \u001b[1;33m\u001b[0m\u001b[0m\n",
      "\u001b[1;32m~\\Anaconda3\\lib\\site-packages\\sklearn\\utils\\validation.py\u001b[0m in \u001b[0;36m_assert_all_finite\u001b[1;34m(X, allow_nan, msg_dtype)\u001b[0m\n\u001b[0;32m    101\u001b[0m                 not allow_nan and not np.isfinite(X).all()):\n\u001b[0;32m    102\u001b[0m             \u001b[0mtype_err\u001b[0m \u001b[1;33m=\u001b[0m \u001b[1;34m'infinity'\u001b[0m \u001b[1;32mif\u001b[0m \u001b[0mallow_nan\u001b[0m \u001b[1;32melse\u001b[0m \u001b[1;34m'NaN, infinity'\u001b[0m\u001b[1;33m\u001b[0m\u001b[1;33m\u001b[0m\u001b[0m\n\u001b[1;32m--> 103\u001b[1;33m             raise ValueError(\n\u001b[0m\u001b[0;32m    104\u001b[0m                     \u001b[0mmsg_err\u001b[0m\u001b[1;33m.\u001b[0m\u001b[0mformat\u001b[0m\u001b[1;33m\u001b[0m\u001b[1;33m\u001b[0m\u001b[0m\n\u001b[0;32m    105\u001b[0m                     (type_err,\n",
      "\u001b[1;31mValueError\u001b[0m: Input contains NaN, infinity or a value too large for dtype('float32')."
     ]
    }
   ],
   "source": [
    "from sklearn.metrics import r2_score, recall_score, precision_score\n",
    "\n",
    "y_train_predict = model.predict(X_train)\n",
    "y_test_predict = model.predict(X_test)\n",
    "\n",
    "print('Train score: {:.2f}'.format(r2_score(y_train, y_train_predict)))\n",
    "print('Test score: {:.2f}'.format(r2_score(y_test, y_test_predict)))"
   ]
  },
  {
   "cell_type": "code",
   "execution_count": 65,
   "id": "fiscal-spoke",
   "metadata": {},
   "outputs": [],
   "source": [
    "def create_model():\n",
    "    #create model\n",
    "    model = Sequential()\n",
    "    model.add(Dense(13, input_dim=13, kernel_initializer='normal', activation='relu'))\n",
    "    model.add(Dense(1, kernel_initializer='normal'))\n",
    "    #compile model\n",
    "    model.compile(loss='mse', optimizer='sgd' , metrics = ['mse'])\n",
    "    return model"
   ]
  },
  {
   "cell_type": "code",
   "execution_count": 66,
   "id": "israeli-highway",
   "metadata": {},
   "outputs": [],
   "source": [
    "seed = 10\n",
    "np.random.seed(10)"
   ]
  },
  {
   "cell_type": "code",
   "execution_count": 74,
   "id": "drawn-injection",
   "metadata": {},
   "outputs": [],
   "source": [
    "model = KerasRegressor(build_fn = create_model, verbose = 0)\n",
    "\n",
    "param_grid = {'batch_size':[10,20,30,40] , 'epochs':[10, 50, 100]}\n",
    "grid_search = GridSearchCV(estimator= model, param_grid = param_grid, cv = 5)"
   ]
  },
  {
   "cell_type": "code",
   "execution_count": null,
   "id": "polished-emperor",
   "metadata": {},
   "outputs": [],
   "source": [
    "print(\"Best: %f using %s\" % (grid_search_result.best_score_, grid_search_result.best_params_))"
   ]
  }
 ],
 "metadata": {
  "kernelspec": {
   "display_name": "Python 3",
   "language": "python",
   "name": "python3"
  },
  "language_info": {
   "codemirror_mode": {
    "name": "ipython",
    "version": 3
   },
   "file_extension": ".py",
   "mimetype": "text/x-python",
   "name": "python",
   "nbconvert_exporter": "python",
   "pygments_lexer": "ipython3",
   "version": "3.8.8"
  }
 },
 "nbformat": 4,
 "nbformat_minor": 5
}
